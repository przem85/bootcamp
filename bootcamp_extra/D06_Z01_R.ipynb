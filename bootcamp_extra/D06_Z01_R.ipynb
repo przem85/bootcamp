{
 "cells": [
  {
   "cell_type": "markdown",
   "metadata": {},
   "source": [
    "# Pipeline"
   ]
  },
  {
   "cell_type": "code",
   "execution_count": 37,
   "metadata": {},
   "outputs": [
    {
     "data": {
      "text/html": [
       "<div>\n",
       "<style scoped>\n",
       "    .dataframe tbody tr th:only-of-type {\n",
       "        vertical-align: middle;\n",
       "    }\n",
       "\n",
       "    .dataframe tbody tr th {\n",
       "        vertical-align: top;\n",
       "    }\n",
       "\n",
       "    .dataframe thead th {\n",
       "        text-align: right;\n",
       "    }\n",
       "</style>\n",
       "<table border=\"1\" class=\"dataframe\">\n",
       "  <thead>\n",
       "    <tr style=\"text-align: right;\">\n",
       "      <th></th>\n",
       "      <th>k0</th>\n",
       "      <th>k1</th>\n",
       "      <th>v1</th>\n",
       "      <th>k2</th>\n",
       "      <th>v2</th>\n",
       "      <th>s1</th>\n",
       "      <th>target</th>\n",
       "    </tr>\n",
       "  </thead>\n",
       "  <tbody>\n",
       "    <tr>\n",
       "      <th>0</th>\n",
       "      <td>&lt;10</td>\n",
       "      <td>a</td>\n",
       "      <td>1</td>\n",
       "      <td>b</td>\n",
       "      <td>2.0</td>\n",
       "      <td>long text</td>\n",
       "      <td>YES</td>\n",
       "    </tr>\n",
       "    <tr>\n",
       "      <th>1</th>\n",
       "      <td>&gt;10</td>\n",
       "      <td>b</td>\n",
       "      <td>2</td>\n",
       "      <td>c</td>\n",
       "      <td>3.0</td>\n",
       "      <td>not very long text</td>\n",
       "      <td>NO</td>\n",
       "    </tr>\n",
       "    <tr>\n",
       "      <th>2</th>\n",
       "      <td>&lt;10</td>\n",
       "      <td>None</td>\n",
       "      <td>2</td>\n",
       "      <td>c</td>\n",
       "      <td>NaN</td>\n",
       "      <td>very long text</td>\n",
       "      <td>YES</td>\n",
       "    </tr>\n",
       "    <tr>\n",
       "      <th>3</th>\n",
       "      <td>&gt;10</td>\n",
       "      <td>a</td>\n",
       "      <td>2</td>\n",
       "      <td>c</td>\n",
       "      <td>4.0</td>\n",
       "      <td>very short text</td>\n",
       "      <td>YES</td>\n",
       "    </tr>\n",
       "    <tr>\n",
       "      <th>4</th>\n",
       "      <td>&gt;10</td>\n",
       "      <td>a</td>\n",
       "      <td>2</td>\n",
       "      <td>c</td>\n",
       "      <td>7.0</td>\n",
       "      <td>very short text</td>\n",
       "      <td>YES</td>\n",
       "    </tr>\n",
       "  </tbody>\n",
       "</table>\n",
       "</div>"
      ],
      "text/plain": [
       "    k0    k1  v1 k2   v2                  s1 target\n",
       "0  <10     a   1  b  2.0           long text    YES\n",
       "1  >10     b   2  c  3.0  not very long text     NO\n",
       "2  <10  None   2  c  NaN      very long text    YES\n",
       "3  >10     a   2  c  4.0     very short text    YES\n",
       "4  >10     a   2  c  7.0     very short text    YES"
      ]
     },
     "execution_count": 37,
     "metadata": {},
     "output_type": "execute_result"
    }
   ],
   "source": [
    "import pandas as pd\n",
    "import numpy as np\n",
    "\n",
    "\n",
    "data = pd.DataFrame([ [\"<10\", 'a', 1, 'b', 2, \"long text\", \"YES\"], \n",
    "                      [\">10\", 'b', 2, 'c', 3, \"not very long text\", \"NO\"], \n",
    "                      [\"<10\", None, 2, 'c', None, \"very long text\", \"YES\"],\n",
    "                      [\">10\", 'a', 2, 'c', 4, \"very short text\", \"YES\"],\n",
    "                      [\">10\", 'a', 2, 'c', 7, \"very short text\", \"YES\"],\n",
    "                      [\">10\", 'a', 5, 'c', 4, \"very short text\", \"YES\"],\n",
    "                      [\"<10\", 'a', 11, 'c', 4, \"very short text\", \"YES\"],\n",
    "                      [\">10\", 'a', 12, 'c', 4, \"very short text\", \"YES\"],\n",
    "                      [\"<10\", 'b', 2, 'a', None, \"short text\", \"NO\"], \n",
    "                      [\"<10\", 'a', 7, 'c', 8, \"very short text\", \"YES\"],\n",
    "                      [\">10\", 'a', 1, 'c', 5, \"very short text\", \"YES\"],\n",
    "                      [\"<10\", 'b', 5, 'a', None, \"short text\", \"NO\"]],                     \n",
    "                      columns = ['k0','k1', 'v1', 'k2', 'v2', 's1', 'target'])\n",
    "\n",
    "data['s1'] = data['s1'].astype(str)\n",
    "data.head()"
   ]
  },
  {
   "cell_type": "code",
   "execution_count": 38,
   "metadata": {},
   "outputs": [
    {
     "data": {
      "text/plain": [
       "k0         object\n",
       "k1         object\n",
       "v1          int64\n",
       "k2         object\n",
       "v2        float64\n",
       "s1         object\n",
       "target     object\n",
       "dtype: object"
      ]
     },
     "execution_count": 38,
     "metadata": {},
     "output_type": "execute_result"
    }
   ],
   "source": [
    "data.dtypes"
   ]
  },
  {
   "cell_type": "markdown",
   "metadata": {},
   "source": [
    "# Zad\n",
    "Sprawdzamy, czy mam jakieś missing data."
   ]
  },
  {
   "cell_type": "code",
   "execution_count": 39,
   "metadata": {},
   "outputs": [
    {
     "data": {
      "text/plain": [
       "k0        0\n",
       "k1        1\n",
       "v1        0\n",
       "k2        0\n",
       "v2        3\n",
       "s1        0\n",
       "target    0\n",
       "dtype: int64"
      ]
     },
     "execution_count": 39,
     "metadata": {},
     "output_type": "execute_result"
    }
   ],
   "source": [
    "data.isnull().sum()"
   ]
  },
  {
   "cell_type": "markdown",
   "metadata": {},
   "source": [
    "# Zad\n",
    "Teraz rzućmy okiem na wszystkie atrybuty kategoryczne:"
   ]
  },
  {
   "cell_type": "code",
   "execution_count": 40,
   "metadata": {},
   "outputs": [
    {
     "data": {
      "text/plain": [
       ">10    6\n",
       "<10    6\n",
       "Name: k0, dtype: int64"
      ]
     },
     "execution_count": 40,
     "metadata": {},
     "output_type": "execute_result"
    }
   ],
   "source": [
    "data[\"k0\"].value_counts()"
   ]
  },
  {
   "cell_type": "code",
   "execution_count": 41,
   "metadata": {},
   "outputs": [
    {
     "data": {
      "text/plain": [
       "a    8\n",
       "b    3\n",
       "Name: k1, dtype: int64"
      ]
     },
     "execution_count": 41,
     "metadata": {},
     "output_type": "execute_result"
    }
   ],
   "source": [
    "data[\"k1\"].value_counts()"
   ]
  },
  {
   "cell_type": "code",
   "execution_count": 42,
   "metadata": {},
   "outputs": [
    {
     "data": {
      "text/plain": [
       "c    9\n",
       "a    2\n",
       "b    1\n",
       "Name: k2, dtype: int64"
      ]
     },
     "execution_count": 42,
     "metadata": {},
     "output_type": "execute_result"
    }
   ],
   "source": [
    "data[\"k2\"].value_counts()"
   ]
  },
  {
   "cell_type": "code",
   "execution_count": 43,
   "metadata": {},
   "outputs": [
    {
     "data": {
      "text/plain": [
       "very short text       7\n",
       "short text            2\n",
       "very long text        1\n",
       "not very long text    1\n",
       "long text             1\n",
       "Name: s1, dtype: int64"
      ]
     },
     "execution_count": 43,
     "metadata": {},
     "output_type": "execute_result"
    }
   ],
   "source": [
    "data[\"s1\"].value_counts()"
   ]
  },
  {
   "cell_type": "markdown",
   "metadata": {},
   "source": [
    "# Zad\n",
    "\n",
    "Podzielmy atrybuty na część \n",
    "* objaśniającą $X$\n",
    "* objaśnianą $y$"
   ]
  },
  {
   "cell_type": "code",
   "execution_count": 44,
   "metadata": {},
   "outputs": [
    {
     "name": "stdout",
     "output_type": "stream",
     "text": [
      "(12, 6)\n",
      "(12,)\n"
     ]
    }
   ],
   "source": [
    "X = data.drop(['target'], axis=1)\n",
    "y = data['target'].values\n",
    "print(X.shape)\n",
    "print(y.shape)"
   ]
  },
  {
   "cell_type": "markdown",
   "metadata": {},
   "source": [
    "# Zad \n",
    "Przyjrzyjmy się $y$. Musi to być kolumna numeryczna z labealmi.\n",
    "\n",
    "https://scikit-learn.org/stable/modules/generated/sklearn.preprocessing.LabelEncoder.html"
   ]
  },
  {
   "cell_type": "code",
   "execution_count": 45,
   "metadata": {},
   "outputs": [
    {
     "name": "stdout",
     "output_type": "stream",
     "text": [
      "['YES' 'NO' 'YES' 'YES' 'YES' 'YES' 'YES' 'YES' 'NO' 'YES' 'YES' 'NO']\n",
      "X.shape: (12, 6) y.shape: (12,)\n",
      "[1 0 1 1 1 1 1 1 0 1 1 0]\n"
     ]
    }
   ],
   "source": [
    "print(y)\n",
    "\n",
    "from sklearn.preprocessing import LabelEncoder\n",
    "\n",
    "label_encoder = LabelEncoder()\n",
    "y = label_encoder.fit_transform(y)\n",
    "\n",
    "print(\"X.shape: {} y.shape: {}\".format(X.shape, y.shape))\n",
    "\n",
    "print(y)"
   ]
  },
  {
   "cell_type": "code",
   "execution_count": 46,
   "metadata": {},
   "outputs": [],
   "source": [
    "# yy = np.array(['YES', 'NO', 'YES', 'NO', \"NO\"], dtype=object)\n",
    "# yy\n",
    "# label_encoder.transform(yy)"
   ]
  },
  {
   "cell_type": "markdown",
   "metadata": {},
   "source": [
    "# Zad\n",
    "Podzielmy zbiór na train/test"
   ]
  },
  {
   "cell_type": "code",
   "execution_count": 47,
   "metadata": {},
   "outputs": [],
   "source": [
    "from sklearn.model_selection import train_test_split\n",
    "X_train, X_test, y_train, y_test = train_test_split(X, y, test_size=0.5, random_state=42)"
   ]
  },
  {
   "cell_type": "markdown",
   "metadata": {},
   "source": [
    "# Teraz zbudujmy nasze **pipeline** preprocessingu. \n",
    "\n",
    "# Zad\n",
    "\n",
    "* Inaczej będziemy postępować z danymi: \n",
    "  * kategorycznymi, \n",
    "  * numerycznymi.\n",
    "  \n",
    "Wykorzystamy **DataframeSelector** aby wybrać określone atrybuty z DataFrame.\n",
    "\n",
    "* since Scikit-Learn doesn't handle DataFrames yet\n",
    "\n",
    "## Zaczniemy o dwybrania kolumn numerycznych"
   ]
  },
  {
   "cell_type": "code",
   "execution_count": 48,
   "metadata": {},
   "outputs": [],
   "source": [
    "from sklearn.base import BaseEstimator, TransformerMixin\n",
    "\n",
    "# A class to select numerical or categorical columns \n",
    "# since Scikit-Learn doesn't handle DataFrames yet\n",
    "class DataFrameSelector(BaseEstimator, TransformerMixin):\n",
    "    def __init__(self, attribute_names):\n",
    "        self.attribute_names = attribute_names\n",
    "    def fit(self, X, y=None):\n",
    "        return self\n",
    "    def transform(self, X, y=None):\n",
    "        return X[self.attribute_names]"
   ]
  },
  {
   "cell_type": "markdown",
   "metadata": {},
   "source": [
    "# Zad. \n",
    "Sprawdźmy jak działa:\n",
    "* wybierz kategorie ['v1']\n",
    "* wybierz kategorie ['v1', 'v2']\n",
    "\n",
    "Zauważ, że nasz Pipeline może sam usuwać niektóre kolumny po przez nie wybieranie ich.\n"
   ]
  },
  {
   "cell_type": "code",
   "execution_count": 49,
   "metadata": {},
   "outputs": [
    {
     "data": {
      "text/html": [
       "<div>\n",
       "<style scoped>\n",
       "    .dataframe tbody tr th:only-of-type {\n",
       "        vertical-align: middle;\n",
       "    }\n",
       "\n",
       "    .dataframe tbody tr th {\n",
       "        vertical-align: top;\n",
       "    }\n",
       "\n",
       "    .dataframe thead th {\n",
       "        text-align: right;\n",
       "    }\n",
       "</style>\n",
       "<table border=\"1\" class=\"dataframe\">\n",
       "  <thead>\n",
       "    <tr style=\"text-align: right;\">\n",
       "      <th></th>\n",
       "      <th>v1</th>\n",
       "    </tr>\n",
       "  </thead>\n",
       "  <tbody>\n",
       "    <tr>\n",
       "      <th>1</th>\n",
       "      <td>2</td>\n",
       "    </tr>\n",
       "    <tr>\n",
       "      <th>11</th>\n",
       "      <td>5</td>\n",
       "    </tr>\n",
       "    <tr>\n",
       "      <th>4</th>\n",
       "      <td>2</td>\n",
       "    </tr>\n",
       "    <tr>\n",
       "      <th>7</th>\n",
       "      <td>12</td>\n",
       "    </tr>\n",
       "    <tr>\n",
       "      <th>3</th>\n",
       "      <td>2</td>\n",
       "    </tr>\n",
       "    <tr>\n",
       "      <th>6</th>\n",
       "      <td>11</td>\n",
       "    </tr>\n",
       "  </tbody>\n",
       "</table>\n",
       "</div>"
      ],
      "text/plain": [
       "    v1\n",
       "1    2\n",
       "11   5\n",
       "4    2\n",
       "7   12\n",
       "3    2\n",
       "6   11"
      ]
     },
     "execution_count": 49,
     "metadata": {},
     "output_type": "execute_result"
    }
   ],
   "source": [
    "from sklearn.pipeline import Pipeline\n",
    "pipeline_1 = Pipeline([\n",
    "        (\"select_cat\", DataFrameSelector(['v1']))\n",
    "    ])\n",
    "\n",
    "pipeline_1.fit_transform(X_train)"
   ]
  },
  {
   "cell_type": "code",
   "execution_count": 50,
   "metadata": {},
   "outputs": [
    {
     "data": {
      "text/html": [
       "<div>\n",
       "<style scoped>\n",
       "    .dataframe tbody tr th:only-of-type {\n",
       "        vertical-align: middle;\n",
       "    }\n",
       "\n",
       "    .dataframe tbody tr th {\n",
       "        vertical-align: top;\n",
       "    }\n",
       "\n",
       "    .dataframe thead th {\n",
       "        text-align: right;\n",
       "    }\n",
       "</style>\n",
       "<table border=\"1\" class=\"dataframe\">\n",
       "  <thead>\n",
       "    <tr style=\"text-align: right;\">\n",
       "      <th></th>\n",
       "      <th>v1</th>\n",
       "      <th>v2</th>\n",
       "    </tr>\n",
       "  </thead>\n",
       "  <tbody>\n",
       "    <tr>\n",
       "      <th>1</th>\n",
       "      <td>2</td>\n",
       "      <td>3.0</td>\n",
       "    </tr>\n",
       "    <tr>\n",
       "      <th>11</th>\n",
       "      <td>5</td>\n",
       "      <td>NaN</td>\n",
       "    </tr>\n",
       "    <tr>\n",
       "      <th>4</th>\n",
       "      <td>2</td>\n",
       "      <td>7.0</td>\n",
       "    </tr>\n",
       "    <tr>\n",
       "      <th>7</th>\n",
       "      <td>12</td>\n",
       "      <td>4.0</td>\n",
       "    </tr>\n",
       "    <tr>\n",
       "      <th>3</th>\n",
       "      <td>2</td>\n",
       "      <td>4.0</td>\n",
       "    </tr>\n",
       "    <tr>\n",
       "      <th>6</th>\n",
       "      <td>11</td>\n",
       "      <td>4.0</td>\n",
       "    </tr>\n",
       "  </tbody>\n",
       "</table>\n",
       "</div>"
      ],
      "text/plain": [
       "    v1   v2\n",
       "1    2  3.0\n",
       "11   5  NaN\n",
       "4    2  7.0\n",
       "7   12  4.0\n",
       "3    2  4.0\n",
       "6   11  4.0"
      ]
     },
     "execution_count": 50,
     "metadata": {},
     "output_type": "execute_result"
    }
   ],
   "source": [
    "from sklearn.pipeline import Pipeline\n",
    "pipeline_1 = Pipeline([\n",
    "        (\"select_cat\", DataFrameSelector(['v1', 'v2']))\n",
    "    ])\n",
    "\n",
    "pipeline_1.fit_transform(X_train)"
   ]
  },
  {
   "cell_type": "markdown",
   "metadata": {},
   "source": [
    "# Zad\n",
    "Zbudujmy ostateczny **pipeline** dla atrybutów numerycznych:\n",
    "* wybierz kategorie ['v1', 'v2']\n",
    "* usuwa missing data \n",
    "```python\n",
    "from sklearn.impute import SimpleImputer\n",
    "```"
   ]
  },
  {
   "cell_type": "code",
   "execution_count": 51,
   "metadata": {},
   "outputs": [],
   "source": [
    "from sklearn.pipeline import Pipeline\n",
    "from sklearn.impute import SimpleImputer\n",
    "\n",
    "# imputer = SimpleImputer(strategy=\"median\")\n",
    "\n",
    "num_pipeline = Pipeline([\n",
    "        (\"select_numeric\", DataFrameSelector(['v1', 'v2'])),\n",
    "        (\"imputer\", SimpleImputer(strategy=\"median\")),\n",
    "    ])"
   ]
  },
  {
   "cell_type": "code",
   "execution_count": 52,
   "metadata": {},
   "outputs": [
    {
     "data": {
      "text/plain": [
       "array([[ 2.,  3.],\n",
       "       [ 5.,  4.],\n",
       "       [ 2.,  7.],\n",
       "       [12.,  4.],\n",
       "       [ 2.,  4.],\n",
       "       [11.,  4.]])"
      ]
     },
     "execution_count": 52,
     "metadata": {},
     "output_type": "execute_result"
    }
   ],
   "source": [
    "num_pipeline.fit_transform(X_train)"
   ]
  },
  {
   "cell_type": "markdown",
   "metadata": {},
   "source": [
    "## Kolumny kategoryczne"
   ]
  },
  {
   "cell_type": "markdown",
   "metadata": {},
   "source": [
    "# Zad. \n",
    "Sprawdźmy jak działa wybór kolumn:\n",
    "* wybierz kategorie ['k0', 'k1', 'k2']\n",
    "* wybierz kategorie ['k0', 'k1', 'k2', 's1']\n",
    "\n",
    "Zauważ, że nasz Pipeline sam usuwa niektóre kolumny po przez nie wybieranie ich.\n"
   ]
  },
  {
   "cell_type": "code",
   "execution_count": 53,
   "metadata": {},
   "outputs": [
    {
     "data": {
      "text/html": [
       "<div>\n",
       "<style scoped>\n",
       "    .dataframe tbody tr th:only-of-type {\n",
       "        vertical-align: middle;\n",
       "    }\n",
       "\n",
       "    .dataframe tbody tr th {\n",
       "        vertical-align: top;\n",
       "    }\n",
       "\n",
       "    .dataframe thead th {\n",
       "        text-align: right;\n",
       "    }\n",
       "</style>\n",
       "<table border=\"1\" class=\"dataframe\">\n",
       "  <thead>\n",
       "    <tr style=\"text-align: right;\">\n",
       "      <th></th>\n",
       "      <th>k0</th>\n",
       "      <th>k1</th>\n",
       "      <th>k2</th>\n",
       "    </tr>\n",
       "  </thead>\n",
       "  <tbody>\n",
       "    <tr>\n",
       "      <th>1</th>\n",
       "      <td>&gt;10</td>\n",
       "      <td>b</td>\n",
       "      <td>c</td>\n",
       "    </tr>\n",
       "    <tr>\n",
       "      <th>11</th>\n",
       "      <td>&lt;10</td>\n",
       "      <td>b</td>\n",
       "      <td>a</td>\n",
       "    </tr>\n",
       "    <tr>\n",
       "      <th>4</th>\n",
       "      <td>&gt;10</td>\n",
       "      <td>a</td>\n",
       "      <td>c</td>\n",
       "    </tr>\n",
       "    <tr>\n",
       "      <th>7</th>\n",
       "      <td>&gt;10</td>\n",
       "      <td>a</td>\n",
       "      <td>c</td>\n",
       "    </tr>\n",
       "    <tr>\n",
       "      <th>3</th>\n",
       "      <td>&gt;10</td>\n",
       "      <td>a</td>\n",
       "      <td>c</td>\n",
       "    </tr>\n",
       "    <tr>\n",
       "      <th>6</th>\n",
       "      <td>&lt;10</td>\n",
       "      <td>a</td>\n",
       "      <td>c</td>\n",
       "    </tr>\n",
       "  </tbody>\n",
       "</table>\n",
       "</div>"
      ],
      "text/plain": [
       "     k0 k1 k2\n",
       "1   >10  b  c\n",
       "11  <10  b  a\n",
       "4   >10  a  c\n",
       "7   >10  a  c\n",
       "3   >10  a  c\n",
       "6   <10  a  c"
      ]
     },
     "execution_count": 53,
     "metadata": {},
     "output_type": "execute_result"
    }
   ],
   "source": [
    "pipeline_1 = Pipeline([\n",
    "        (\"select_cat\", DataFrameSelector(['k0', 'k1', 'k2']))\n",
    "    ])\n",
    "\n",
    "pipeline_1.fit_transform(X_train)"
   ]
  },
  {
   "cell_type": "code",
   "execution_count": 54,
   "metadata": {},
   "outputs": [
    {
     "data": {
      "text/html": [
       "<div>\n",
       "<style scoped>\n",
       "    .dataframe tbody tr th:only-of-type {\n",
       "        vertical-align: middle;\n",
       "    }\n",
       "\n",
       "    .dataframe tbody tr th {\n",
       "        vertical-align: top;\n",
       "    }\n",
       "\n",
       "    .dataframe thead th {\n",
       "        text-align: right;\n",
       "    }\n",
       "</style>\n",
       "<table border=\"1\" class=\"dataframe\">\n",
       "  <thead>\n",
       "    <tr style=\"text-align: right;\">\n",
       "      <th></th>\n",
       "      <th>k0</th>\n",
       "      <th>k1</th>\n",
       "      <th>k2</th>\n",
       "      <th>s1</th>\n",
       "    </tr>\n",
       "  </thead>\n",
       "  <tbody>\n",
       "    <tr>\n",
       "      <th>1</th>\n",
       "      <td>&gt;10</td>\n",
       "      <td>b</td>\n",
       "      <td>c</td>\n",
       "      <td>not very long text</td>\n",
       "    </tr>\n",
       "    <tr>\n",
       "      <th>11</th>\n",
       "      <td>&lt;10</td>\n",
       "      <td>b</td>\n",
       "      <td>a</td>\n",
       "      <td>short text</td>\n",
       "    </tr>\n",
       "    <tr>\n",
       "      <th>4</th>\n",
       "      <td>&gt;10</td>\n",
       "      <td>a</td>\n",
       "      <td>c</td>\n",
       "      <td>very short text</td>\n",
       "    </tr>\n",
       "    <tr>\n",
       "      <th>7</th>\n",
       "      <td>&gt;10</td>\n",
       "      <td>a</td>\n",
       "      <td>c</td>\n",
       "      <td>very short text</td>\n",
       "    </tr>\n",
       "    <tr>\n",
       "      <th>3</th>\n",
       "      <td>&gt;10</td>\n",
       "      <td>a</td>\n",
       "      <td>c</td>\n",
       "      <td>very short text</td>\n",
       "    </tr>\n",
       "    <tr>\n",
       "      <th>6</th>\n",
       "      <td>&lt;10</td>\n",
       "      <td>a</td>\n",
       "      <td>c</td>\n",
       "      <td>very short text</td>\n",
       "    </tr>\n",
       "  </tbody>\n",
       "</table>\n",
       "</div>"
      ],
      "text/plain": [
       "     k0 k1 k2                  s1\n",
       "1   >10  b  c  not very long text\n",
       "11  <10  b  a          short text\n",
       "4   >10  a  c     very short text\n",
       "7   >10  a  c     very short text\n",
       "3   >10  a  c     very short text\n",
       "6   <10  a  c     very short text"
      ]
     },
     "execution_count": 54,
     "metadata": {},
     "output_type": "execute_result"
    }
   ],
   "source": [
    "pipeline_1 = Pipeline([\n",
    "        (\"select_cat\", DataFrameSelector(['k0', 'k1', 'k2', 's1']))\n",
    "    ])\n",
    "\n",
    "pipeline_1.fit_transform(X_train)"
   ]
  },
  {
   "cell_type": "markdown",
   "metadata": {},
   "source": [
    "# Zad.\n",
    "Będziemy także potrzebować imputera do kategorycznych kolumn napisowych (zwykły Imputer nie działa na tych kolumnach).\n",
    "\n",
    "### a)\n",
    "wylicz najczęściej występująca wartość w każdej kolumnie np.array\n"
   ]
  },
  {
   "cell_type": "code",
   "execution_count": 55,
   "metadata": {},
   "outputs": [
    {
     "data": {
      "text/plain": [
       "['>10', 'a', 2, 'c', 4.0, 'very short text']"
      ]
     },
     "execution_count": 55,
     "metadata": {},
     "output_type": "execute_result"
    }
   ],
   "source": [
    "[X_train[c].value_counts().index[0] for c in X_train]"
   ]
  },
  {
   "cell_type": "markdown",
   "metadata": {},
   "source": [
    "### b)\n",
    "Wypełnij missing data najczęściej występującymi elementami.\n",
    "\n",
    "https://pandas.pydata.org/pandas-docs/stable/reference/api/pandas.DataFrame.fillna.html"
   ]
  },
  {
   "cell_type": "code",
   "execution_count": 56,
   "metadata": {},
   "outputs": [
    {
     "data": {
      "text/html": [
       "<div>\n",
       "<style scoped>\n",
       "    .dataframe tbody tr th:only-of-type {\n",
       "        vertical-align: middle;\n",
       "    }\n",
       "\n",
       "    .dataframe tbody tr th {\n",
       "        vertical-align: top;\n",
       "    }\n",
       "\n",
       "    .dataframe thead th {\n",
       "        text-align: right;\n",
       "    }\n",
       "</style>\n",
       "<table border=\"1\" class=\"dataframe\">\n",
       "  <thead>\n",
       "    <tr style=\"text-align: right;\">\n",
       "      <th></th>\n",
       "      <th>k0</th>\n",
       "      <th>k1</th>\n",
       "      <th>v1</th>\n",
       "      <th>k2</th>\n",
       "      <th>v2</th>\n",
       "      <th>s1</th>\n",
       "    </tr>\n",
       "  </thead>\n",
       "  <tbody>\n",
       "    <tr>\n",
       "      <th>1</th>\n",
       "      <td>&gt;10</td>\n",
       "      <td>b</td>\n",
       "      <td>2</td>\n",
       "      <td>c</td>\n",
       "      <td>3.0</td>\n",
       "      <td>not very long text</td>\n",
       "    </tr>\n",
       "    <tr>\n",
       "      <th>11</th>\n",
       "      <td>&lt;10</td>\n",
       "      <td>b</td>\n",
       "      <td>5</td>\n",
       "      <td>a</td>\n",
       "      <td>4.0</td>\n",
       "      <td>short text</td>\n",
       "    </tr>\n",
       "    <tr>\n",
       "      <th>4</th>\n",
       "      <td>&gt;10</td>\n",
       "      <td>a</td>\n",
       "      <td>2</td>\n",
       "      <td>c</td>\n",
       "      <td>7.0</td>\n",
       "      <td>very short text</td>\n",
       "    </tr>\n",
       "    <tr>\n",
       "      <th>7</th>\n",
       "      <td>&gt;10</td>\n",
       "      <td>a</td>\n",
       "      <td>12</td>\n",
       "      <td>c</td>\n",
       "      <td>4.0</td>\n",
       "      <td>very short text</td>\n",
       "    </tr>\n",
       "    <tr>\n",
       "      <th>3</th>\n",
       "      <td>&gt;10</td>\n",
       "      <td>a</td>\n",
       "      <td>2</td>\n",
       "      <td>c</td>\n",
       "      <td>4.0</td>\n",
       "      <td>very short text</td>\n",
       "    </tr>\n",
       "    <tr>\n",
       "      <th>6</th>\n",
       "      <td>&lt;10</td>\n",
       "      <td>a</td>\n",
       "      <td>11</td>\n",
       "      <td>c</td>\n",
       "      <td>4.0</td>\n",
       "      <td>very short text</td>\n",
       "    </tr>\n",
       "  </tbody>\n",
       "</table>\n",
       "</div>"
      ],
      "text/plain": [
       "     k0 k1  v1 k2   v2                  s1\n",
       "1   >10  b   2  c  3.0  not very long text\n",
       "11  <10  b   5  a  4.0          short text\n",
       "4   >10  a   2  c  7.0     very short text\n",
       "7   >10  a  12  c  4.0     very short text\n",
       "3   >10  a   2  c  4.0     very short text\n",
       "6   <10  a  11  c  4.0     very short text"
      ]
     },
     "execution_count": 56,
     "metadata": {},
     "output_type": "execute_result"
    }
   ],
   "source": [
    "X_train.fillna(pd.Series([X_train[c].value_counts().index[0] for c in X_train], index=X.columns))"
   ]
  },
  {
   "cell_type": "markdown",
   "metadata": {},
   "source": [
    "### c)\n",
    "Zbuduj transformer wypełniający missing data najczęściej występującymi elementami.\n"
   ]
  },
  {
   "cell_type": "code",
   "execution_count": 57,
   "metadata": {},
   "outputs": [],
   "source": [
    "# Inspired from stackoverflow.com/questions/25239958\n",
    "class MostFrequentImputer(BaseEstimator, TransformerMixin):\n",
    "    def fit(self, X, y=None):\n",
    "        self.most_frequent_ = pd.Series([X[c].value_counts().index[0] for c in X],\n",
    "                                        index=X.columns)\n",
    "        return self\n",
    "    def transform(self, X, y=None):\n",
    "        return X.fillna(self.most_frequent_)"
   ]
  },
  {
   "cell_type": "markdown",
   "metadata": {},
   "source": [
    "### d)\n",
    "Zobaczmy jak działa nasz Pipeline"
   ]
  },
  {
   "cell_type": "code",
   "execution_count": 58,
   "metadata": {},
   "outputs": [],
   "source": [
    "pipeline_3 = Pipeline([\n",
    "        (\"select_cat\", DataFrameSelector(['k0', 'k1', 'k2', 's1'])),\n",
    "        (\"imputer\", MostFrequentImputer())\n",
    "    ])"
   ]
  },
  {
   "cell_type": "code",
   "execution_count": 59,
   "metadata": {},
   "outputs": [
    {
     "data": {
      "text/html": [
       "<div>\n",
       "<style scoped>\n",
       "    .dataframe tbody tr th:only-of-type {\n",
       "        vertical-align: middle;\n",
       "    }\n",
       "\n",
       "    .dataframe tbody tr th {\n",
       "        vertical-align: top;\n",
       "    }\n",
       "\n",
       "    .dataframe thead th {\n",
       "        text-align: right;\n",
       "    }\n",
       "</style>\n",
       "<table border=\"1\" class=\"dataframe\">\n",
       "  <thead>\n",
       "    <tr style=\"text-align: right;\">\n",
       "      <th></th>\n",
       "      <th>k0</th>\n",
       "      <th>k1</th>\n",
       "      <th>v1</th>\n",
       "      <th>k2</th>\n",
       "      <th>v2</th>\n",
       "      <th>s1</th>\n",
       "    </tr>\n",
       "  </thead>\n",
       "  <tbody>\n",
       "    <tr>\n",
       "      <th>1</th>\n",
       "      <td>&gt;10</td>\n",
       "      <td>b</td>\n",
       "      <td>2</td>\n",
       "      <td>c</td>\n",
       "      <td>3.0</td>\n",
       "      <td>not very long text</td>\n",
       "    </tr>\n",
       "    <tr>\n",
       "      <th>11</th>\n",
       "      <td>&lt;10</td>\n",
       "      <td>b</td>\n",
       "      <td>5</td>\n",
       "      <td>a</td>\n",
       "      <td>NaN</td>\n",
       "      <td>short text</td>\n",
       "    </tr>\n",
       "    <tr>\n",
       "      <th>4</th>\n",
       "      <td>&gt;10</td>\n",
       "      <td>a</td>\n",
       "      <td>2</td>\n",
       "      <td>c</td>\n",
       "      <td>7.0</td>\n",
       "      <td>very short text</td>\n",
       "    </tr>\n",
       "    <tr>\n",
       "      <th>7</th>\n",
       "      <td>&gt;10</td>\n",
       "      <td>a</td>\n",
       "      <td>12</td>\n",
       "      <td>c</td>\n",
       "      <td>4.0</td>\n",
       "      <td>very short text</td>\n",
       "    </tr>\n",
       "    <tr>\n",
       "      <th>3</th>\n",
       "      <td>&gt;10</td>\n",
       "      <td>a</td>\n",
       "      <td>2</td>\n",
       "      <td>c</td>\n",
       "      <td>4.0</td>\n",
       "      <td>very short text</td>\n",
       "    </tr>\n",
       "    <tr>\n",
       "      <th>6</th>\n",
       "      <td>&lt;10</td>\n",
       "      <td>a</td>\n",
       "      <td>11</td>\n",
       "      <td>c</td>\n",
       "      <td>4.0</td>\n",
       "      <td>very short text</td>\n",
       "    </tr>\n",
       "  </tbody>\n",
       "</table>\n",
       "</div>"
      ],
      "text/plain": [
       "     k0 k1  v1 k2   v2                  s1\n",
       "1   >10  b   2  c  3.0  not very long text\n",
       "11  <10  b   5  a  NaN          short text\n",
       "4   >10  a   2  c  7.0     very short text\n",
       "7   >10  a  12  c  4.0     very short text\n",
       "3   >10  a   2  c  4.0     very short text\n",
       "6   <10  a  11  c  4.0     very short text"
      ]
     },
     "execution_count": 59,
     "metadata": {},
     "output_type": "execute_result"
    }
   ],
   "source": [
    "X_train"
   ]
  },
  {
   "cell_type": "code",
   "execution_count": 60,
   "metadata": {},
   "outputs": [
    {
     "data": {
      "text/html": [
       "<div>\n",
       "<style scoped>\n",
       "    .dataframe tbody tr th:only-of-type {\n",
       "        vertical-align: middle;\n",
       "    }\n",
       "\n",
       "    .dataframe tbody tr th {\n",
       "        vertical-align: top;\n",
       "    }\n",
       "\n",
       "    .dataframe thead th {\n",
       "        text-align: right;\n",
       "    }\n",
       "</style>\n",
       "<table border=\"1\" class=\"dataframe\">\n",
       "  <thead>\n",
       "    <tr style=\"text-align: right;\">\n",
       "      <th></th>\n",
       "      <th>k0</th>\n",
       "      <th>k1</th>\n",
       "      <th>k2</th>\n",
       "      <th>s1</th>\n",
       "    </tr>\n",
       "  </thead>\n",
       "  <tbody>\n",
       "    <tr>\n",
       "      <th>1</th>\n",
       "      <td>&gt;10</td>\n",
       "      <td>b</td>\n",
       "      <td>c</td>\n",
       "      <td>not very long text</td>\n",
       "    </tr>\n",
       "    <tr>\n",
       "      <th>11</th>\n",
       "      <td>&lt;10</td>\n",
       "      <td>b</td>\n",
       "      <td>a</td>\n",
       "      <td>short text</td>\n",
       "    </tr>\n",
       "    <tr>\n",
       "      <th>4</th>\n",
       "      <td>&gt;10</td>\n",
       "      <td>a</td>\n",
       "      <td>c</td>\n",
       "      <td>very short text</td>\n",
       "    </tr>\n",
       "    <tr>\n",
       "      <th>7</th>\n",
       "      <td>&gt;10</td>\n",
       "      <td>a</td>\n",
       "      <td>c</td>\n",
       "      <td>very short text</td>\n",
       "    </tr>\n",
       "    <tr>\n",
       "      <th>3</th>\n",
       "      <td>&gt;10</td>\n",
       "      <td>a</td>\n",
       "      <td>c</td>\n",
       "      <td>very short text</td>\n",
       "    </tr>\n",
       "    <tr>\n",
       "      <th>6</th>\n",
       "      <td>&lt;10</td>\n",
       "      <td>a</td>\n",
       "      <td>c</td>\n",
       "      <td>very short text</td>\n",
       "    </tr>\n",
       "  </tbody>\n",
       "</table>\n",
       "</div>"
      ],
      "text/plain": [
       "     k0 k1 k2                  s1\n",
       "1   >10  b  c  not very long text\n",
       "11  <10  b  a          short text\n",
       "4   >10  a  c     very short text\n",
       "7   >10  a  c     very short text\n",
       "3   >10  a  c     very short text\n",
       "6   <10  a  c     very short text"
      ]
     },
     "execution_count": 60,
     "metadata": {},
     "output_type": "execute_result"
    }
   ],
   "source": [
    "pipeline_3.fit_transform(X_train)"
   ]
  },
  {
   "cell_type": "markdown",
   "metadata": {},
   "source": [
    "# Dane kategoryczne\n",
    "Niektóre wartości kategoryczne są w naturalnej kolejności/porządku. Można te dane sortować/porządkować w kolejności rosnącej/malejącej np. w kolumnie <tt> grade </tt> przydzielona jest ocena od A do G gdzie A oznacza mniej ryzykowaną inwestycję niż B.\n",
    "\n",
    "$A <B <C <D <E <F <G$\n",
    "\n",
    "Niektórych wartości nominalnych nie można uporządkować np. columna <tt> purpose</tt> \n",
    "Nie można napisać:\n",
    "\n",
    "$car < wedding < education < moving < house$\n"
   ]
  },
  {
   "cell_type": "markdown",
   "metadata": {},
   "source": [
    "Teraz możemy zbudować pipeline dla atrybutów kategorycznych.\n",
    "\n",
    "We can convert each categorical value to a one-hot vector using a OneHotEncoder. Right now this class can only handle integer categorical inputs, but in Scikit-Learn 0.20 it will also handle string categorical inputs (see PR https://github.com/scikit-learn/scikit-learn/issues/10521). So for now we import it from future_encoders.py"
   ]
  },
  {
   "cell_type": "markdown",
   "metadata": {},
   "source": [
    "# Zad\n",
    "Zamieńmy kolumny ['k1', 'k2'] na One Hot Encoding"
   ]
  },
  {
   "cell_type": "code",
   "execution_count": 61,
   "metadata": {},
   "outputs": [
    {
     "name": "stdout",
     "output_type": "stream",
     "text": [
      "1.0\n"
     ]
    }
   ],
   "source": [
    "import sklearn\n",
    "print(sklearn.__version__)\n",
    "\n",
    "# from sklearn.preprocessing import LabelEncoder\n",
    "from sklearn.preprocessing import OneHotEncoder"
   ]
  },
  {
   "cell_type": "code",
   "execution_count": 62,
   "metadata": {},
   "outputs": [
    {
     "data": {
      "text/html": [
       "<div>\n",
       "<style scoped>\n",
       "    .dataframe tbody tr th:only-of-type {\n",
       "        vertical-align: middle;\n",
       "    }\n",
       "\n",
       "    .dataframe tbody tr th {\n",
       "        vertical-align: top;\n",
       "    }\n",
       "\n",
       "    .dataframe thead th {\n",
       "        text-align: right;\n",
       "    }\n",
       "</style>\n",
       "<table border=\"1\" class=\"dataframe\">\n",
       "  <thead>\n",
       "    <tr style=\"text-align: right;\">\n",
       "      <th></th>\n",
       "      <th>k0</th>\n",
       "      <th>k1</th>\n",
       "      <th>v1</th>\n",
       "      <th>k2</th>\n",
       "      <th>v2</th>\n",
       "      <th>s1</th>\n",
       "    </tr>\n",
       "  </thead>\n",
       "  <tbody>\n",
       "    <tr>\n",
       "      <th>1</th>\n",
       "      <td>&gt;10</td>\n",
       "      <td>b</td>\n",
       "      <td>2</td>\n",
       "      <td>c</td>\n",
       "      <td>3.0</td>\n",
       "      <td>not very long text</td>\n",
       "    </tr>\n",
       "    <tr>\n",
       "      <th>11</th>\n",
       "      <td>&lt;10</td>\n",
       "      <td>b</td>\n",
       "      <td>5</td>\n",
       "      <td>a</td>\n",
       "      <td>NaN</td>\n",
       "      <td>short text</td>\n",
       "    </tr>\n",
       "    <tr>\n",
       "      <th>4</th>\n",
       "      <td>&gt;10</td>\n",
       "      <td>a</td>\n",
       "      <td>2</td>\n",
       "      <td>c</td>\n",
       "      <td>7.0</td>\n",
       "      <td>very short text</td>\n",
       "    </tr>\n",
       "    <tr>\n",
       "      <th>7</th>\n",
       "      <td>&gt;10</td>\n",
       "      <td>a</td>\n",
       "      <td>12</td>\n",
       "      <td>c</td>\n",
       "      <td>4.0</td>\n",
       "      <td>very short text</td>\n",
       "    </tr>\n",
       "    <tr>\n",
       "      <th>3</th>\n",
       "      <td>&gt;10</td>\n",
       "      <td>a</td>\n",
       "      <td>2</td>\n",
       "      <td>c</td>\n",
       "      <td>4.0</td>\n",
       "      <td>very short text</td>\n",
       "    </tr>\n",
       "  </tbody>\n",
       "</table>\n",
       "</div>"
      ],
      "text/plain": [
       "     k0 k1  v1 k2   v2                  s1\n",
       "1   >10  b   2  c  3.0  not very long text\n",
       "11  <10  b   5  a  NaN          short text\n",
       "4   >10  a   2  c  7.0     very short text\n",
       "7   >10  a  12  c  4.0     very short text\n",
       "3   >10  a   2  c  4.0     very short text"
      ]
     },
     "execution_count": 62,
     "metadata": {},
     "output_type": "execute_result"
    }
   ],
   "source": [
    "X_train.head()"
   ]
  },
  {
   "cell_type": "code",
   "execution_count": 63,
   "metadata": {},
   "outputs": [
    {
     "data": {
      "text/plain": [
       "array([[0., 1., 0., 1.],\n",
       "       [0., 1., 1., 0.],\n",
       "       [1., 0., 0., 1.],\n",
       "       [1., 0., 0., 1.],\n",
       "       [1., 0., 0., 1.],\n",
       "       [1., 0., 0., 1.]])"
      ]
     },
     "execution_count": 63,
     "metadata": {},
     "output_type": "execute_result"
    }
   ],
   "source": [
    "pipeline_4 = Pipeline([\n",
    "        (\"select_cat\", DataFrameSelector(['k1', 'k2'])),\n",
    "        (\"imputer\", MostFrequentImputer()),\n",
    "        (\"cat_encoder\", OneHotEncoder(sparse=False, handle_unknown = 'ignore')),\n",
    "    ])\n",
    "\n",
    "pipeline_4.fit_transform(X_train)"
   ]
  },
  {
   "cell_type": "markdown",
   "metadata": {},
   "source": [
    "# Zad\n",
    "Zamieńmy kolumę ['k0'] na odpowienio:\n",
    "\n",
    "* '<10': 1\n",
    "* '>10': 2"
   ]
  },
  {
   "cell_type": "code",
   "execution_count": 64,
   "metadata": {},
   "outputs": [
    {
     "data": {
      "text/html": [
       "<div>\n",
       "<style scoped>\n",
       "    .dataframe tbody tr th:only-of-type {\n",
       "        vertical-align: middle;\n",
       "    }\n",
       "\n",
       "    .dataframe tbody tr th {\n",
       "        vertical-align: top;\n",
       "    }\n",
       "\n",
       "    .dataframe thead th {\n",
       "        text-align: right;\n",
       "    }\n",
       "</style>\n",
       "<table border=\"1\" class=\"dataframe\">\n",
       "  <thead>\n",
       "    <tr style=\"text-align: right;\">\n",
       "      <th></th>\n",
       "      <th>k0</th>\n",
       "      <th>k1</th>\n",
       "      <th>v1</th>\n",
       "      <th>k2</th>\n",
       "      <th>v2</th>\n",
       "      <th>s1</th>\n",
       "    </tr>\n",
       "  </thead>\n",
       "  <tbody>\n",
       "    <tr>\n",
       "      <th>1</th>\n",
       "      <td>&gt;10</td>\n",
       "      <td>b</td>\n",
       "      <td>2</td>\n",
       "      <td>c</td>\n",
       "      <td>3.0</td>\n",
       "      <td>not very long text</td>\n",
       "    </tr>\n",
       "    <tr>\n",
       "      <th>11</th>\n",
       "      <td>&lt;10</td>\n",
       "      <td>b</td>\n",
       "      <td>5</td>\n",
       "      <td>a</td>\n",
       "      <td>NaN</td>\n",
       "      <td>short text</td>\n",
       "    </tr>\n",
       "    <tr>\n",
       "      <th>4</th>\n",
       "      <td>&gt;10</td>\n",
       "      <td>a</td>\n",
       "      <td>2</td>\n",
       "      <td>c</td>\n",
       "      <td>7.0</td>\n",
       "      <td>very short text</td>\n",
       "    </tr>\n",
       "    <tr>\n",
       "      <th>7</th>\n",
       "      <td>&gt;10</td>\n",
       "      <td>a</td>\n",
       "      <td>12</td>\n",
       "      <td>c</td>\n",
       "      <td>4.0</td>\n",
       "      <td>very short text</td>\n",
       "    </tr>\n",
       "    <tr>\n",
       "      <th>3</th>\n",
       "      <td>&gt;10</td>\n",
       "      <td>a</td>\n",
       "      <td>2</td>\n",
       "      <td>c</td>\n",
       "      <td>4.0</td>\n",
       "      <td>very short text</td>\n",
       "    </tr>\n",
       "    <tr>\n",
       "      <th>6</th>\n",
       "      <td>&lt;10</td>\n",
       "      <td>a</td>\n",
       "      <td>11</td>\n",
       "      <td>c</td>\n",
       "      <td>4.0</td>\n",
       "      <td>very short text</td>\n",
       "    </tr>\n",
       "  </tbody>\n",
       "</table>\n",
       "</div>"
      ],
      "text/plain": [
       "     k0 k1  v1 k2   v2                  s1\n",
       "1   >10  b   2  c  3.0  not very long text\n",
       "11  <10  b   5  a  NaN          short text\n",
       "4   >10  a   2  c  7.0     very short text\n",
       "7   >10  a  12  c  4.0     very short text\n",
       "3   >10  a   2  c  4.0     very short text\n",
       "6   <10  a  11  c  4.0     very short text"
      ]
     },
     "execution_count": 64,
     "metadata": {},
     "output_type": "execute_result"
    }
   ],
   "source": [
    "X_train"
   ]
  },
  {
   "cell_type": "markdown",
   "metadata": {},
   "source": [
    "### a) \n",
    "Zamień elementy z \n",
    "```python\n",
    "X_train \n",
    "```\n",
    "za momocą słowniko\n",
    "```python\n",
    "dic = {'<10': 1, '>10': 2}\n",
    "```"
   ]
  },
  {
   "cell_type": "code",
   "execution_count": 65,
   "metadata": {},
   "outputs": [
    {
     "data": {
      "text/html": [
       "<div>\n",
       "<style scoped>\n",
       "    .dataframe tbody tr th:only-of-type {\n",
       "        vertical-align: middle;\n",
       "    }\n",
       "\n",
       "    .dataframe tbody tr th {\n",
       "        vertical-align: top;\n",
       "    }\n",
       "\n",
       "    .dataframe thead th {\n",
       "        text-align: right;\n",
       "    }\n",
       "</style>\n",
       "<table border=\"1\" class=\"dataframe\">\n",
       "  <thead>\n",
       "    <tr style=\"text-align: right;\">\n",
       "      <th></th>\n",
       "      <th>k0</th>\n",
       "      <th>k1</th>\n",
       "      <th>v1</th>\n",
       "      <th>k2</th>\n",
       "      <th>v2</th>\n",
       "      <th>s1</th>\n",
       "    </tr>\n",
       "  </thead>\n",
       "  <tbody>\n",
       "    <tr>\n",
       "      <th>1</th>\n",
       "      <td>2</td>\n",
       "      <td>b</td>\n",
       "      <td>2</td>\n",
       "      <td>c</td>\n",
       "      <td>3.0</td>\n",
       "      <td>not very long text</td>\n",
       "    </tr>\n",
       "    <tr>\n",
       "      <th>11</th>\n",
       "      <td>1</td>\n",
       "      <td>b</td>\n",
       "      <td>5</td>\n",
       "      <td>a</td>\n",
       "      <td>NaN</td>\n",
       "      <td>short text</td>\n",
       "    </tr>\n",
       "    <tr>\n",
       "      <th>4</th>\n",
       "      <td>2</td>\n",
       "      <td>a</td>\n",
       "      <td>2</td>\n",
       "      <td>c</td>\n",
       "      <td>7.0</td>\n",
       "      <td>very short text</td>\n",
       "    </tr>\n",
       "    <tr>\n",
       "      <th>7</th>\n",
       "      <td>2</td>\n",
       "      <td>a</td>\n",
       "      <td>12</td>\n",
       "      <td>c</td>\n",
       "      <td>4.0</td>\n",
       "      <td>very short text</td>\n",
       "    </tr>\n",
       "    <tr>\n",
       "      <th>3</th>\n",
       "      <td>2</td>\n",
       "      <td>a</td>\n",
       "      <td>2</td>\n",
       "      <td>c</td>\n",
       "      <td>4.0</td>\n",
       "      <td>very short text</td>\n",
       "    </tr>\n",
       "    <tr>\n",
       "      <th>6</th>\n",
       "      <td>1</td>\n",
       "      <td>a</td>\n",
       "      <td>11</td>\n",
       "      <td>c</td>\n",
       "      <td>4.0</td>\n",
       "      <td>very short text</td>\n",
       "    </tr>\n",
       "  </tbody>\n",
       "</table>\n",
       "</div>"
      ],
      "text/plain": [
       "    k0 k1  v1 k2   v2                  s1\n",
       "1    2  b   2  c  3.0  not very long text\n",
       "11   1  b   5  a  NaN          short text\n",
       "4    2  a   2  c  7.0     very short text\n",
       "7    2  a  12  c  4.0     very short text\n",
       "3    2  a   2  c  4.0     very short text\n",
       "6    1  a  11  c  4.0     very short text"
      ]
     },
     "execution_count": 65,
     "metadata": {},
     "output_type": "execute_result"
    }
   ],
   "source": [
    "dic = {'<10': 1, '>10': 2}\n",
    "X_train.replace(dic)"
   ]
  },
  {
   "cell_type": "markdown",
   "metadata": {},
   "source": [
    "# Zad\n",
    "Wykonaj transformer"
   ]
  },
  {
   "cell_type": "code",
   "execution_count": 66,
   "metadata": {},
   "outputs": [],
   "source": [
    "class DictionaryEncoder(BaseEstimator, TransformerMixin):\n",
    "    def __init__(self, dictionary):\n",
    "        self.dictionary = dictionary\n",
    "    def fit(self, X, y=None):\n",
    "        return self\n",
    "    def transform(self, X, y=None):\n",
    "        return X.replace(self.dictionary).values"
   ]
  },
  {
   "cell_type": "code",
   "execution_count": 67,
   "metadata": {},
   "outputs": [
    {
     "data": {
      "text/plain": [
       "array([[2],\n",
       "       [1],\n",
       "       [2],\n",
       "       [2],\n",
       "       [2],\n",
       "       [1]], dtype=int64)"
      ]
     },
     "execution_count": 67,
     "metadata": {},
     "output_type": "execute_result"
    }
   ],
   "source": [
    "pipeline_5 = Pipeline([\n",
    "        (\"select_cat\", DataFrameSelector(['k0'])),\n",
    "        (\"dictionary_encoder\", DictionaryEncoder({'<10': 1, '>10': 2})),\n",
    "    ])\n",
    "\n",
    "pipeline_5.fit_transform(X_train)"
   ]
  },
  {
   "cell_type": "markdown",
   "metadata": {},
   "source": [
    "# Zad\n",
    "Niektóre atrybuty są ciężkie do przerobienia na format liczbowy np. texty.\n",
    "\n",
    "* Zamieńmy kolumnę  ['s1'] na kolumnę mówiącą ile zawiera słów.\n"
   ]
  },
  {
   "cell_type": "code",
   "execution_count": 68,
   "metadata": {},
   "outputs": [
    {
     "data": {
      "text/plain": [
       "[9, 18, 14, 15, 15, 15, 15, 15, 10, 15, 15, 10]"
      ]
     },
     "execution_count": 68,
     "metadata": {},
     "output_type": "execute_result"
    }
   ],
   "source": [
    "[len(text) for text in  data.s1]"
   ]
  },
  {
   "cell_type": "code",
   "execution_count": 69,
   "metadata": {},
   "outputs": [
    {
     "data": {
      "text/html": [
       "<div>\n",
       "<style scoped>\n",
       "    .dataframe tbody tr th:only-of-type {\n",
       "        vertical-align: middle;\n",
       "    }\n",
       "\n",
       "    .dataframe tbody tr th {\n",
       "        vertical-align: top;\n",
       "    }\n",
       "\n",
       "    .dataframe thead th {\n",
       "        text-align: right;\n",
       "    }\n",
       "</style>\n",
       "<table border=\"1\" class=\"dataframe\">\n",
       "  <thead>\n",
       "    <tr style=\"text-align: right;\">\n",
       "      <th></th>\n",
       "      <th>k0</th>\n",
       "      <th>k1</th>\n",
       "    </tr>\n",
       "  </thead>\n",
       "  <tbody>\n",
       "    <tr>\n",
       "      <th>0</th>\n",
       "      <td>1</td>\n",
       "      <td>2</td>\n",
       "    </tr>\n",
       "    <tr>\n",
       "      <th>1</th>\n",
       "      <td>1</td>\n",
       "      <td>3</td>\n",
       "    </tr>\n",
       "  </tbody>\n",
       "</table>\n",
       "</div>"
      ],
      "text/plain": [
       "   k0  k1\n",
       "0   1   2\n",
       "1   1   3"
      ]
     },
     "execution_count": 69,
     "metadata": {},
     "output_type": "execute_result"
    }
   ],
   "source": [
    "data_temp = pd.DataFrame([ [\"<10\",  \"long text\"], \n",
    "                      [\">10\",  \"very long text\"]],\n",
    "                    \n",
    "                      columns = ['k0','k1'])\n",
    "\n",
    "X_res= pd.DataFrame()\n",
    "for c in data_temp.columns:\n",
    "    temp = [len(text.split()) for text in  data_temp[c]]\n",
    "    X_res[c]=temp \n",
    "X_res"
   ]
  },
  {
   "cell_type": "code",
   "execution_count": 70,
   "metadata": {},
   "outputs": [
    {
     "data": {
      "text/html": [
       "<div>\n",
       "<style scoped>\n",
       "    .dataframe tbody tr th:only-of-type {\n",
       "        vertical-align: middle;\n",
       "    }\n",
       "\n",
       "    .dataframe tbody tr th {\n",
       "        vertical-align: top;\n",
       "    }\n",
       "\n",
       "    .dataframe thead th {\n",
       "        text-align: right;\n",
       "    }\n",
       "</style>\n",
       "<table border=\"1\" class=\"dataframe\">\n",
       "  <thead>\n",
       "    <tr style=\"text-align: right;\">\n",
       "      <th></th>\n",
       "      <th>k0</th>\n",
       "      <th>k1</th>\n",
       "      <th>v1</th>\n",
       "      <th>k2</th>\n",
       "      <th>v2</th>\n",
       "      <th>s1</th>\n",
       "    </tr>\n",
       "  </thead>\n",
       "  <tbody>\n",
       "    <tr>\n",
       "      <th>1</th>\n",
       "      <td>&gt;10</td>\n",
       "      <td>b</td>\n",
       "      <td>2</td>\n",
       "      <td>c</td>\n",
       "      <td>3.0</td>\n",
       "      <td>not very long text</td>\n",
       "    </tr>\n",
       "    <tr>\n",
       "      <th>11</th>\n",
       "      <td>&lt;10</td>\n",
       "      <td>b</td>\n",
       "      <td>5</td>\n",
       "      <td>a</td>\n",
       "      <td>NaN</td>\n",
       "      <td>short text</td>\n",
       "    </tr>\n",
       "    <tr>\n",
       "      <th>4</th>\n",
       "      <td>&gt;10</td>\n",
       "      <td>a</td>\n",
       "      <td>2</td>\n",
       "      <td>c</td>\n",
       "      <td>7.0</td>\n",
       "      <td>very short text</td>\n",
       "    </tr>\n",
       "    <tr>\n",
       "      <th>7</th>\n",
       "      <td>&gt;10</td>\n",
       "      <td>a</td>\n",
       "      <td>12</td>\n",
       "      <td>c</td>\n",
       "      <td>4.0</td>\n",
       "      <td>very short text</td>\n",
       "    </tr>\n",
       "    <tr>\n",
       "      <th>3</th>\n",
       "      <td>&gt;10</td>\n",
       "      <td>a</td>\n",
       "      <td>2</td>\n",
       "      <td>c</td>\n",
       "      <td>4.0</td>\n",
       "      <td>very short text</td>\n",
       "    </tr>\n",
       "    <tr>\n",
       "      <th>6</th>\n",
       "      <td>&lt;10</td>\n",
       "      <td>a</td>\n",
       "      <td>11</td>\n",
       "      <td>c</td>\n",
       "      <td>4.0</td>\n",
       "      <td>very short text</td>\n",
       "    </tr>\n",
       "  </tbody>\n",
       "</table>\n",
       "</div>"
      ],
      "text/plain": [
       "     k0 k1  v1 k2   v2                  s1\n",
       "1   >10  b   2  c  3.0  not very long text\n",
       "11  <10  b   5  a  NaN          short text\n",
       "4   >10  a   2  c  7.0     very short text\n",
       "7   >10  a  12  c  4.0     very short text\n",
       "3   >10  a   2  c  4.0     very short text\n",
       "6   <10  a  11  c  4.0     very short text"
      ]
     },
     "execution_count": 70,
     "metadata": {},
     "output_type": "execute_result"
    }
   ],
   "source": [
    "X_train"
   ]
  },
  {
   "cell_type": "code",
   "execution_count": 73,
   "metadata": {},
   "outputs": [],
   "source": [
    "class WordNumberEncoder(BaseEstimator, TransformerMixin):\n",
    "    def fit(self, X, y=None):\n",
    "        return self\n",
    "    def transform(self, X, y=None):\n",
    "        X_res= pd.DataFrame()\n",
    "        for c in X.columns:\n",
    "            temp = [len(text.split()) for text in  X[c]]\n",
    "            X_res[c]=temp\n",
    "        return X_res.values"
   ]
  },
  {
   "cell_type": "code",
   "execution_count": 74,
   "metadata": {},
   "outputs": [
    {
     "data": {
      "text/plain": [
       "array([[4],\n",
       "       [2],\n",
       "       [3],\n",
       "       [3],\n",
       "       [3],\n",
       "       [3]], dtype=int64)"
      ]
     },
     "execution_count": 74,
     "metadata": {},
     "output_type": "execute_result"
    }
   ],
   "source": [
    "pipeline_6 = Pipeline([\n",
    "        (\"select_cat\", DataFrameSelector(['s1'])),\n",
    "        (\"dictionary_encoder\", WordNumberEncoder()),\n",
    "    ])\n",
    "\n",
    "pipeline_6.fit_transform(X_train)  "
   ]
  },
  {
   "cell_type": "markdown",
   "metadata": {},
   "source": [
    "# Zad\n",
    "Na koniec połączmy powyższe podejścia\n",
    "\n",
    "https://scikit-learn.org/stable/modules/generated/sklearn.pipeline.FeatureUnion.html"
   ]
  },
  {
   "cell_type": "code",
   "execution_count": 76,
   "metadata": {},
   "outputs": [],
   "source": [
    "num_pipeline = Pipeline([\n",
    "        (\"select_numeric\", DataFrameSelector(['v1', 'v2'])),\n",
    "        (\"imputer\", SimpleImputer(strategy=\"median\")),\n",
    "    ])\n",
    "\n",
    "cat_one_hot_pipeline = Pipeline([\n",
    "        (\"select_cat\", DataFrameSelector(['k1', 'k2'])),\n",
    "        (\"imputer\", MostFrequentImputer()),\n",
    "        (\"cat_encoder\", OneHotEncoder(sparse=False, handle_unknown = 'ignore')),\n",
    "    ])\n",
    "\n",
    "\n",
    "cat_dictionary_pipeline = Pipeline([\n",
    "        (\"select_cat\", DataFrameSelector(['k0'])),\n",
    "        (\"dictionary_encoder\", DictionaryEncoder({'<10': 1, '>10': 2})),\n",
    "    ])\n",
    "\n",
    "cat_word_number_pipeline = Pipeline([\n",
    "        (\"select_cat\", DataFrameSelector(['s1'])),\n",
    "        (\"dictionary_encoder\", WordNumberEncoder()),\n",
    "    ])"
   ]
  },
  {
   "cell_type": "code",
   "execution_count": 77,
   "metadata": {},
   "outputs": [],
   "source": [
    "from sklearn.pipeline import FeatureUnion\n",
    "\n",
    "preprocess_pipeline = FeatureUnion(transformer_list=[\n",
    "        (\"num_pipeline\", num_pipeline),\n",
    "        (\"cat_one_hot_pipeline\", cat_one_hot_pipeline),\n",
    "        (\"cat_dictionary_pipeline\", cat_dictionary_pipeline),\n",
    "        (\"cat_word_number_pipeline\", cat_word_number_pipeline)\n",
    "    ])"
   ]
  },
  {
   "cell_type": "markdown",
   "metadata": {},
   "source": [
    "Teraz mamy fajny **pipeline** przetwarzania wstępnego, który pobiera dane wejściowe i zwraca dane wyjściowe złorzone z liczb, które możemy podać do dowolnego modelu uczenia maszynowego."
   ]
  },
  {
   "cell_type": "code",
   "execution_count": 78,
   "metadata": {},
   "outputs": [
    {
     "data": {
      "text/plain": [
       "array([[ 2.,  3.,  0.,  1.,  0.,  1.,  2.,  4.],\n",
       "       [ 5.,  4.,  0.,  1.,  1.,  0.,  1.,  2.],\n",
       "       [ 2.,  7.,  1.,  0.,  0.,  1.,  2.,  3.],\n",
       "       [12.,  4.,  1.,  0.,  0.,  1.,  2.,  3.],\n",
       "       [ 2.,  4.,  1.,  0.,  0.,  1.,  2.,  3.],\n",
       "       [11.,  4.,  1.,  0.,  0.,  1.,  1.,  3.]])"
      ]
     },
     "execution_count": 78,
     "metadata": {},
     "output_type": "execute_result"
    }
   ],
   "source": [
    "preprocess_pipeline.fit_transform(X_train)"
   ]
  },
  {
   "cell_type": "markdown",
   "metadata": {},
   "source": [
    "# Zad\n",
    "Wykonaj reprezentację kolumny ['s1'] za pomocą \n",
    "\n",
    "* CountVectorizer\n",
    "```python\n",
    "from sklearn.feature_extraction.text import CountVectorizer\n",
    "```\n",
    "\n",
    "* TfidfVectorizer\n",
    "```python\n",
    "from sklearn.feature_extraction.text import TfidfVectorizer \n",
    "```\n",
    "\n",
    " "
   ]
  },
  {
   "cell_type": "code",
   "execution_count": 41,
   "metadata": {},
   "outputs": [
    {
     "data": {
      "text/html": [
       "<div>\n",
       "<style scoped>\n",
       "    .dataframe tbody tr th:only-of-type {\n",
       "        vertical-align: middle;\n",
       "    }\n",
       "\n",
       "    .dataframe tbody tr th {\n",
       "        vertical-align: top;\n",
       "    }\n",
       "\n",
       "    .dataframe thead th {\n",
       "        text-align: right;\n",
       "    }\n",
       "</style>\n",
       "<table border=\"1\" class=\"dataframe\">\n",
       "  <thead>\n",
       "    <tr style=\"text-align: right;\">\n",
       "      <th></th>\n",
       "      <th>k0</th>\n",
       "      <th>k1</th>\n",
       "      <th>v1</th>\n",
       "      <th>k2</th>\n",
       "      <th>v2</th>\n",
       "      <th>s1</th>\n",
       "    </tr>\n",
       "  </thead>\n",
       "  <tbody>\n",
       "    <tr>\n",
       "      <th>1</th>\n",
       "      <td>&gt;10</td>\n",
       "      <td>b</td>\n",
       "      <td>2</td>\n",
       "      <td>c</td>\n",
       "      <td>3.0</td>\n",
       "      <td>not very long text</td>\n",
       "    </tr>\n",
       "    <tr>\n",
       "      <th>11</th>\n",
       "      <td>&lt;10</td>\n",
       "      <td>b</td>\n",
       "      <td>5</td>\n",
       "      <td>a</td>\n",
       "      <td>NaN</td>\n",
       "      <td>short text</td>\n",
       "    </tr>\n",
       "    <tr>\n",
       "      <th>4</th>\n",
       "      <td>&gt;10</td>\n",
       "      <td>a</td>\n",
       "      <td>2</td>\n",
       "      <td>c</td>\n",
       "      <td>7.0</td>\n",
       "      <td>very short text</td>\n",
       "    </tr>\n",
       "    <tr>\n",
       "      <th>7</th>\n",
       "      <td>&gt;10</td>\n",
       "      <td>a</td>\n",
       "      <td>12</td>\n",
       "      <td>c</td>\n",
       "      <td>4.0</td>\n",
       "      <td>very short text</td>\n",
       "    </tr>\n",
       "    <tr>\n",
       "      <th>3</th>\n",
       "      <td>&gt;10</td>\n",
       "      <td>a</td>\n",
       "      <td>2</td>\n",
       "      <td>c</td>\n",
       "      <td>4.0</td>\n",
       "      <td>very short text</td>\n",
       "    </tr>\n",
       "    <tr>\n",
       "      <th>6</th>\n",
       "      <td>&lt;10</td>\n",
       "      <td>a</td>\n",
       "      <td>11</td>\n",
       "      <td>c</td>\n",
       "      <td>4.0</td>\n",
       "      <td>very short text</td>\n",
       "    </tr>\n",
       "  </tbody>\n",
       "</table>\n",
       "</div>"
      ],
      "text/plain": [
       "     k0 k1  v1 k2   v2                  s1\n",
       "1   >10  b   2  c  3.0  not very long text\n",
       "11  <10  b   5  a  NaN          short text\n",
       "4   >10  a   2  c  7.0     very short text\n",
       "7   >10  a  12  c  4.0     very short text\n",
       "3   >10  a   2  c  4.0     very short text\n",
       "6   <10  a  11  c  4.0     very short text"
      ]
     },
     "execution_count": 41,
     "metadata": {},
     "output_type": "execute_result"
    }
   ],
   "source": [
    "X_train"
   ]
  },
  {
   "cell_type": "code",
   "execution_count": 45,
   "metadata": {},
   "outputs": [
    {
     "data": {
      "text/plain": [
       "matrix([[1, 1, 0, 1, 1],\n",
       "        [0, 0, 1, 1, 0],\n",
       "        [0, 0, 1, 1, 1],\n",
       "        [0, 0, 1, 1, 1],\n",
       "        [0, 0, 1, 1, 1],\n",
       "        [0, 0, 1, 1, 1]], dtype=int64)"
      ]
     },
     "execution_count": 45,
     "metadata": {},
     "output_type": "execute_result"
    }
   ],
   "source": [
    "from sklearn.feature_extraction.text import CountVectorizer\n",
    "class ToListEncoder(BaseEstimator, TransformerMixin):\n",
    "    def fit(self, X, y=None):\n",
    "        return self\n",
    "    def transform(self, X, y=None):\n",
    "        return X.values.T.tolist()[0]\n",
    "\n",
    "\n",
    "pipeline_7 = Pipeline([\n",
    "        (\"select_cat\", DataFrameSelector(['s1'])),\n",
    "        (\"to_numpy\", ToListEncoder()),\n",
    "        (\"dictionary_encoder\", CountVectorizer()),\n",
    "    ])\n",
    "\n",
    "X_tr = pipeline_7.fit_transform(X_train)\n",
    "X_tr\n",
    "X_tr.todense()"
   ]
  },
  {
   "cell_type": "code",
   "execution_count": 46,
   "metadata": {},
   "outputs": [
    {
     "data": {
      "text/plain": [
       "matrix([[0.91399636, 0.        , 0.40572238],\n",
       "        [0.        , 0.75577461, 0.65483184],\n",
       "        [0.        , 0.75577461, 0.65483184],\n",
       "        [0.        , 0.75577461, 0.65483184],\n",
       "        [0.        , 0.75577461, 0.65483184],\n",
       "        [0.        , 0.75577461, 0.65483184]])"
      ]
     },
     "execution_count": 46,
     "metadata": {},
     "output_type": "execute_result"
    }
   ],
   "source": [
    "from sklearn.feature_extraction.text import TfidfVectorizer\n",
    "class ToListEncoder(BaseEstimator, TransformerMixin):\n",
    "    def fit(self, X, y=None):\n",
    "        return self\n",
    "    def transform(self, X, y=None):\n",
    "        return X.values.T.tolist()[0]\n",
    "\n",
    "\n",
    "pipeline_8 = Pipeline([\n",
    "        (\"select_cat\", DataFrameSelector(['s1'])),\n",
    "        (\"to_numpy\", ToListEncoder()),\n",
    "        (\"dictionary_encoder\", TfidfVectorizer(strip_accents = 'unicode',\n",
    "                                stop_words = 'english',\n",
    "                                lowercase = True,\n",
    "                                token_pattern = r'\\b[a-zA-Z]{3,}\\b')),\n",
    "    ])\n",
    "\n",
    "X_tr = pipeline_8.fit_transform(X_train)\n",
    "X_tr\n",
    "X_tr.todense()"
   ]
  },
  {
   "cell_type": "markdown",
   "metadata": {},
   "source": [
    "# Zad\n",
    "\n",
    "Robimy StratifiedKFold i znajdujemy optymalne parametry dla\n",
    "\n",
    "* SVM liniowego\n",
    "\n",
    "### Oczywiście na 5 punktach to nie ma sensu ale pokarzemy jak to się robi\n"
   ]
  },
  {
   "cell_type": "code",
   "execution_count": 80,
   "metadata": {},
   "outputs": [],
   "source": [
    "from sklearn.model_selection import StratifiedKFold\n",
    "\n",
    "kfold = StratifiedKFold(n_splits=2)"
   ]
  },
  {
   "cell_type": "code",
   "execution_count": 81,
   "metadata": {},
   "outputs": [
    {
     "data": {
      "text/plain": [
       "{'classifier__C': 0.001}"
      ]
     },
     "execution_count": 81,
     "metadata": {},
     "output_type": "execute_result"
    }
   ],
   "source": [
    "from sklearn.svm import SVC\n",
    "from sklearn.pipeline import Pipeline\n",
    "from sklearn.model_selection import GridSearchCV\n",
    "pipe = Pipeline([\n",
    "    ('preprocessing', preprocess_pipeline), \n",
    "    ('classifier', SVC(kernel='linear'))])\n",
    "\n",
    "\n",
    "param_grid = {\n",
    "            'classifier__C': [0.001, 0.01, 0.1, 1, 10, 100]\n",
    "}\n",
    "\n",
    "grid_1 = GridSearchCV(pipe, param_grid, cv=kfold)\n",
    "\n",
    "grid_1.fit(X_train, y_train)\n",
    "grid_1.best_params_"
   ]
  },
  {
   "cell_type": "code",
   "execution_count": null,
   "metadata": {},
   "outputs": [],
   "source": []
  }
 ],
 "metadata": {
  "kernelspec": {
   "display_name": "Python 3",
   "language": "python",
   "name": "python3"
  },
  "language_info": {
   "codemirror_mode": {
    "name": "ipython",
    "version": 3
   },
   "file_extension": ".py",
   "mimetype": "text/x-python",
   "name": "python",
   "nbconvert_exporter": "python",
   "pygments_lexer": "ipython3",
   "version": "3.8.5"
  }
 },
 "nbformat": 4,
 "nbformat_minor": 2
}
