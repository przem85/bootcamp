{
 "cells": [
  {
   "cell_type": "markdown",
   "metadata": {},
   "source": [
    "# Rozkłady prawdopodobieństwa a testowanie hipotez\n",
    "\n",
    "Aby zilustrować związek pomiędzy **rozkładami prawdopodobieństwa** a **testowaniem hipotez**, rozważmy następujący problem:\n",
    "\n",
    "  * Załóżmy, że mamy grę planszową, która zależy od rzutu kostką. Oczywiście jak dostaniemy wynik $6$ to poruszamy się najszybciej. W danej grze $6$ wypadła $51$ razy w ciągu $235$ rzutów. \n",
    "  * Jeśli kostka jest uczciwa, oczekiwalibyśmy, że $6$ wypadnie $235/6 =39.17$ razy.  \n",
    "  * Czy kostka aby na pewno jest uczciwa? "
   ]
  },
  {
   "cell_type": "code",
   "execution_count": 3,
   "metadata": {
    "collapsed": true
   },
   "outputs": [],
   "source": [
    "from scipy import stats\n",
    "import matplotlib.pyplot as plt\n",
    "import numpy as np"
   ]
  },
  {
   "cell_type": "markdown",
   "metadata": {},
   "source": [
    "Definiujemy zmienną losową o rozkładzie dwumianowym z parametrami $p=\\frac{1}{6}$ oraz $n=235$.\n",
    "\n",
    "Gdy zmienna losowa $X$ ma rozkład dwumianowy z parametrami $p$ i $n$, zapisujemy go jako $X \\thicksim B(n,p)$, a gęstość wyrażona jest wzorem:\n",
    "$$\n",
    "P(X = k) = {n \\choose k} p^k (1-p)^{n-k},\n",
    "$$\n",
    "gdzie\n",
    "$\n",
    "{n \\choose k} = \\frac{n!}{k!(n-k)!}.\n",
    "$"
   ]
  },
  {
   "cell_type": "markdown",
   "metadata": {},
   "source": [
    "# Zadanie \n",
    "Rozstrzygnij czy kostka jest symetryczna i wykonaj odpowiedni rysunek uwzględniając gęstość i dystrybuantę rozkładu dwumianowego."
   ]
  },
  {
   "cell_type": "markdown",
   "metadata": {},
   "source": [
    "Aby odpowiedzieć na to pytanie, możemy postępować w następujący sposób:\n",
    "<ul>\n",
    "<li> Skontrujmy rozkład dwumianowy z parametrami $n = 235$ i $p = \\frac{1}{6}$. </li>\n",
    "</ul>"
   ]
  },
  {
   "cell_type": "code",
   "execution_count": 4,
   "metadata": {
    "collapsed": false
   },
   "outputs": [],
   "source": [
    "(p, num) = (1./6, 235)\n",
    "nd = stats.binom(num, p)"
   ]
  },
  {
   "cell_type": "markdown",
   "metadata": {},
   "source": [
    "<ul>\n",
    "<li> Zakładamy, że kostka jest uczciwa.</li> \n",
    "<li> Obliczymy prawdopodobieństwo wypadnięcia dokładnie $51$ razy $6$, $52$ razy i itd. Następnie dodajmy te wyniki. W ten sposób obliczy prawdopodobieństwo wypadnięcia dokładnie $51$ razy $6$ lub wyniku większego $P(X \\geq 51)$ </li>\n",
    "</ul>"
   ]
  },
  {
   "cell_type": "code",
   "execution_count": 5,
   "metadata": {
    "collapsed": false
   },
   "outputs": [
    {
     "name": "stdout",
     "output_type": "stream",
     "text": [
      "p = 0.0265\n",
      "p = 0.0265\n"
     ]
    }
   ],
   "source": [
    "# Shade the regions beyond a certain \"checkVal\"\n",
    "checkVal = 50\n",
    "print('p = {0:5.4f}'.format(nd.sf(checkVal)))\n",
    "print('p = {0:5.4f}'.format(1-nd.cdf(checkVal)))"
   ]
  },
  {
   "cell_type": "code",
   "execution_count": 13,
   "metadata": {
    "collapsed": false
   },
   "outputs": [
    {
     "data": {
      "image/png": "[encoded data removed]",
      "text/plain": [
       "<matplotlib.figure.Figure at 0xfc72ff3630>"
      ]
     },
     "metadata": {},
     "output_type": "display_data"
    }
   ],
   "source": [
    "x0=nd.sf(checkVal)\n",
    "\n",
    "x1 = np.arange(0, 50,5)\n",
    "x2 = np.arange(51, 235,5)\n",
    "\n",
    "figs, axs = plt.subplots(1,2, figsize=(7, 4))\n",
    "\n",
    "axs[0].plot(x1, nd.pmf(x1), 'bo', ms=8, label='bernoulli pmf')\n",
    "axs[0].vlines(x1, 0, stats.binom.pmf(x1, num, p), colors='b', lw=1, alpha=0.5)\n",
    "axs[0].plot(x2, nd.pmf(x2), 'ro', ms=8, label='bernoulli pmf')\n",
    "axs[0].vlines(x2, 0, stats.binom.pmf(x2, num, p), colors='r', lw=1, alpha=0.5)\n",
    "axs[0].set_ylabel('PDF(x)')\n",
    "\n",
    "#axs[1].plot(x, y, '#999999', lw=3)\n",
    "axs[1].plot(x, nd.cdf(x), 'b--', ms=8, label='bernoulli cdf')\n",
    "#axs[1].set_xlabel('x')\n",
    "axs[1].set_ylabel('CDF(x)')\n",
    "#axs[1].text(checkVal, nd.cdf(checkVal), np.round(nd.cdf(checkVal),4))\n",
    "#axs[1].vlines(checkVal, 0, nd.cdf(checkVal), linestyles='--')\n",
    "axs[1].vlines(checkVal, 0, nd.cdf(checkVal), linestyles='--')\n",
    "axs[1].text(checkVal, nd.cdf(checkVal), np.round(nd.sf(checkVal),4))\n",
    "plt.show()\n",
    "#print(2*x0)"
   ]
  },
  {
   "cell_type": "code",
   "execution_count": null,
   "metadata": {
    "collapsed": true
   },
   "outputs": [],
   "source": []
  }
 ],
 "metadata": {
  "kernelspec": {
   "display_name": "Python 3",
   "language": "python",
   "name": "python3"
  },
  "language_info": {
   "codemirror_mode": {
    "name": "ipython",
    "version": 3
   },
   "file_extension": ".py",
   "mimetype": "text/x-python",
   "name": "python",
   "nbconvert_exporter": "python",
   "pygments_lexer": "ipython3",
   "version": "3.6.0"
  }
 },
 "nbformat": 4,
 "nbformat_minor": 2
}
