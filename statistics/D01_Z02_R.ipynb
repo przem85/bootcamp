{
 "cells": [
  {
   "cell_type": "markdown",
   "metadata": {},
   "source": [
    "#  Typy danych"
   ]
  },
  {
   "cell_type": "markdown",
   "metadata": {},
   "source": [
    "\n",
    "##  Tuple ( )\n",
    "\n",
    "Kolekcja elementów różnego typu. Tuple są ``niezmienne'', tzn nie można ich modyfikować po utworzeniu."
   ]
  },
  {
   "cell_type": "code",
   "execution_count": 37,
   "metadata": {},
   "outputs": [
    {
     "data": {
      "text/plain": [
       "2.5"
      ]
     },
     "execution_count": 37,
     "metadata": {},
     "output_type": "execute_result"
    }
   ],
   "source": [
    "import numpy as np\n",
    "myTuple = ('abc', np.arange(0,3,0.2), 2.5)\n",
    "myTuple[2]"
   ]
  },
  {
   "cell_type": "markdown",
   "metadata": {},
   "source": [
    "## List []\n",
    "Kolekcja elementów tego samego typu.\n",
    "Listy są ``zmienne''', tzn. ich elementy mogą być modyfikowane. Dlatego listy\n",
    "są zazwyczaj używane do zbierania elementów tego samego typu (liczby, łańcuchy). Zauważmy, że operator \"+\" łączy listę."
   ]
  },
  {
   "cell_type": "code",
   "execution_count": 38,
   "metadata": {},
   "outputs": [
    {
     "data": {
      "text/plain": [
       "['abc', 'def', 'ghij', 'klm']"
      ]
     },
     "execution_count": 38,
     "metadata": {},
     "output_type": "execute_result"
    }
   ],
   "source": [
    "myList = ['abc', 'def', 'ghij']\n",
    "myList.append('klm')\n",
    "myList"
   ]
  },
  {
   "cell_type": "code",
   "execution_count": 39,
   "metadata": {},
   "outputs": [
    {
     "data": {
      "text/plain": [
       "[1, 2, 3, 4, 5, 6]"
      ]
     },
     "execution_count": 39,
     "metadata": {},
     "output_type": "execute_result"
    }
   ],
   "source": [
    "myList2 = [1,2,3]\n",
    "myList3 = [4,5,6]\n",
    "myList2 + myList3"
   ]
  },
  {
   "cell_type": "markdown",
   "metadata": {},
   "source": [
    "## Array []\n",
    "Tablice służą do pracy z danymi liczbowymi. Python operuje również na obiektach typu <tt> matrix</tt>. Zaleca się jednak stosowanie tablic, ponieważ wiele bibliotek wymaga obiektów typu <tt> array</tt>\n",
    "\n",
    "Zauważmy, że listy i tablice 1-d różnią się: \n",
    "<ul>\n",
    "<li> wektory nie można transponować! </li>\n",
    "<li> operator ``+'' dodaje odpowiednie elementy </li>\n",
    "<li> operator ``.dot'' wykonuje mnożenie skalarne </li>\n",
    "<ul>"
   ]
  },
  {
   "cell_type": "code",
   "execution_count": 40,
   "metadata": {},
   "outputs": [
    {
     "data": {
      "text/plain": [
       "array([5, 7, 9])"
      ]
     },
     "execution_count": 40,
     "metadata": {},
     "output_type": "execute_result"
    }
   ],
   "source": [
    "myArray2 = np.array(myList2)\n",
    "myArray3 = np.array(myList3)\n",
    "myArray2 + myArray3"
   ]
  },
  {
   "cell_type": "code",
   "execution_count": 41,
   "metadata": {},
   "outputs": [
    {
     "data": {
      "text/plain": [
       "32"
      ]
     },
     "execution_count": 41,
     "metadata": {},
     "output_type": "execute_result"
    }
   ],
   "source": [
    "myArray2.dot(myArray3)"
   ]
  },
  {
   "cell_type": "markdown",
   "metadata": {},
   "source": [
    "## Dictionary { }\n",
    "\n",
    "Słowniki są nieuporządkowanymi strukturami danych (kluczowymi/wartościami), w których do elementów odwołujemy się za pomocą: <tt> dict ['key']</tt>. Słowniki można utworzyć za pomocą polecenie <tt> dict </tt> lub używając nawiasów klamrowych <tt> {...}</tt>."
   ]
  },
  {
   "cell_type": "code",
   "execution_count": 42,
   "metadata": {},
   "outputs": [
    {
     "name": "stdout",
     "output_type": "stream",
     "text": [
      "some information\n",
      "dict_keys(['one', 'two', 'info'])\n"
     ]
    }
   ],
   "source": [
    "myDict = dict(one=1, two=2, info='some information')\n",
    "myDict2 = {'ten':1, 'twenty':20,'info':'more information'}\n",
    "print(myDict['info'])\n",
    "print(myDict.keys())"
   ]
  },
  {
   "cell_type": "markdown",
   "metadata": {},
   "source": [
    "# Zad 2\n",
    "Napiszmy skrypt który wypisuje:  \n",
    "<ul>\n",
    "<li>pierwsze dwa elementy tablicy,</li>\n",
    "<li>wszystkie po za pierwszymi dwoma elementami tablicy,</li>\n",
    "<li>tablicę bez ostatnich dwóch elementów,</li>\n",
    "<li>elementy znajdujące się na parzystych indeksach.</li>\n",
    "</ul>"
   ]
  },
  {
   "cell_type": "code",
   "execution_count": 43,
   "metadata": {},
   "outputs": [
    {
     "name": "stdout",
     "output_type": "stream",
     "text": [
      "[0 1 2 3 4 5 6 7 8 9]\n",
      "[0 1]\n",
      "[0 1 2 3 4 5 6 7]\n",
      "[2 3 4 5 6 7 8 9]\n",
      "[0 2 4 6 8]\n"
     ]
    }
   ],
   "source": [
    "import numpy as np\n",
    "# create a range\n",
    "x = np.arange(0, 10, 1) # arguments: start, stop, step\n",
    "print(x)\n",
    "print(x[0:2])\n",
    "print(x[:-2])\n",
    "print(x[2:])\n",
    "print(x[::2])"
   ]
  },
  {
   "cell_type": "markdown",
   "metadata": {},
   "source": [
    "# Polecenia najczęściej używane do generowania liczb:\n",
    "## np.zeros\n",
    "\n",
    "Generator lablicy zawierającej zera."
   ]
  },
  {
   "cell_type": "code",
   "execution_count": 44,
   "metadata": {},
   "outputs": [
    {
     "name": "stdout",
     "output_type": "stream",
     "text": [
      "[ 0.  0.  0.]\n",
      "[[ 0.  0.  0.]\n",
      " [ 0.  0.  0.]]\n"
     ]
    }
   ],
   "source": [
    "import numpy as np\n",
    "print(np.zeros(3))\n",
    "print(np.zeros( (2,3) ))"
   ]
  },
  {
   "cell_type": "markdown",
   "metadata": {},
   "source": [
    "# np.ones\n",
    "Generator lablicy zawierającej jedynki."
   ]
  },
  {
   "cell_type": "code",
   "execution_count": 45,
   "metadata": {},
   "outputs": [
    {
     "name": "stdout",
     "output_type": "stream",
     "text": [
      "[ 1.  1.  1.]\n",
      "[[ 1.  1.  1.]\n",
      " [ 1.  1.  1.]]\n"
     ]
    }
   ],
   "source": [
    "import numpy as np\n",
    "print(np.ones(3))\n",
    "print(np.ones((2,3)))"
   ]
  },
  {
   "cell_type": "markdown",
   "metadata": {},
   "source": [
    "# np.random.randn\n",
    "Generator tablicy zawierającej próbkę z rozkładu normalnego o średniej zero i wariancji 1"
   ]
  },
  {
   "cell_type": "code",
   "execution_count": 46,
   "metadata": {},
   "outputs": [
    {
     "name": "stdout",
     "output_type": "stream",
     "text": [
      "[-1.42272538  1.14851565  0.81315572 -1.19581999  1.33866705 -2.67756773\n",
      " -0.23345772 -0.53420128  1.43119377  0.42302992]\n"
     ]
    }
   ],
   "source": [
    "import numpy as np\n",
    "print(np.random.randn(10))"
   ]
  },
  {
   "cell_type": "markdown",
   "metadata": {},
   "source": [
    "# np.arange\n",
    "Generator szeregu liczb. Możemy podać trzy parametry  <tt>start</tt>, <tt>end</tt>, <tt>steppingInterval</tt>. Zauważ, że tablica nie zwiera wartość końcowej (chociaż wygląda to dziwnie to ma tę zaletę, że kolejne sekwencje mogą być łatwo sklejane."
   ]
  },
  {
   "cell_type": "code",
   "execution_count": 47,
   "metadata": {},
   "outputs": [
    {
     "name": "stdout",
     "output_type": "stream",
     "text": [
      "[0 1 2]\n",
      "[ 1.   1.5  2.   2.5]\n",
      "[ 0.   0.5  1.   1.5  2.   2.5]\n",
      "[ 3.   3.5  4.   4.5]\n",
      "[ 1.   1.5  2.   2.5  3.   3.5  4.   4.5]\n",
      "[ 1.   1.5  2.   2.5  3.   3.5  4.   4.5]\n"
     ]
    }
   ],
   "source": [
    "import numpy as np\n",
    "print(np.arange(3))\n",
    "print(np.arange(1,3,0.5))\n",
    "xLow = np.arange(0,3,0.5)\n",
    "xHigh = np.arange(3,5,0.5)\n",
    "print(xLow)\n",
    "print(xHigh)\n",
    "print(np.concatenate((np.arange(1,3,0.5),np.arange(3,5,0.5))))\n",
    "print(np.arange(1,5,0.5))"
   ]
  },
  {
   "cell_type": "markdown",
   "metadata": {},
   "source": [
    "# np.linspace\n",
    "Generuje liniowo rozmieszczonych liczby."
   ]
  },
  {
   "cell_type": "code",
   "execution_count": 48,
   "metadata": {},
   "outputs": [
    {
     "name": "stdout",
     "output_type": "stream",
     "text": [
      "[  0.   2.   4.   6.   8.  10.]\n",
      "[ 2.   2.2  2.4  2.6  2.8]\n",
      "(array([ 2.  ,  2.25,  2.5 ,  2.75,  3.  ]), 0.25)\n"
     ]
    }
   ],
   "source": [
    "import numpy as np\n",
    "print(np.linspace(0,10,6))\n",
    "print(np.linspace(2.0, 3.0, num=5, endpoint=False))\n",
    "print(np.linspace(2.0, 3.0, num=5, retstep=True))"
   ]
  },
  {
   "cell_type": "markdown",
   "metadata": {},
   "source": [
    "# np.array\n",
    "Generuje tablicę numpy z danych liczbowych."
   ]
  },
  {
   "cell_type": "code",
   "execution_count": 51,
   "metadata": {},
   "outputs": [
    {
     "name": "stdout",
     "output_type": "stream",
     "text": [
      "[[1 2]\n",
      " [3 4]]\n"
     ]
    }
   ],
   "source": [
    "Amat = np.array([ [1, 2], [3, 4] ])\n",
    "print(Amat)"
   ]
  },
  {
   "cell_type": "markdown",
   "metadata": {},
   "source": [
    "Wektory są po prostu \"listami list\". Dlatego też pierwszy element zwraca pierwszy wiersz"
   ]
  },
  {
   "cell_type": "code",
   "execution_count": null,
   "metadata": {
    "collapsed": true
   },
   "outputs": [],
   "source": [
    "Amat = np.array([ [1, 2], [3, 4] ])\n",
    "print(Amat)\n",
    "print(Amat[0])"
   ]
  },
  {
   "cell_type": "markdown",
   "metadata": {},
   "source": [
    "Wektor nie jest tym samym co macierz jednowymiarowa. Jest to jeden z niewielu nieintuicyjnych funkcji i może prowadzić do błędów, które trudno znaleźć. Na przykład wektory nie mogą być transponowane a macierze mogą."
   ]
  },
  {
   "cell_type": "code",
   "execution_count": 50,
   "metadata": {},
   "outputs": [
    {
     "name": "stdout",
     "output_type": "stream",
     "text": [
      "[0 1 2]\n",
      "<class 'numpy.ndarray'>\n",
      "[[1 2]\n",
      " [3 4]]\n",
      "<class 'numpy.ndarray'>\n",
      "[ True  True  True]\n",
      "[[ True False]\n",
      " [False  True]]\n"
     ]
    }
   ],
   "source": [
    "x = np.arange(3)\n",
    "print(x)\n",
    "print(type(x))\n",
    "Amat = np.array([ [1,2], [3,4] ])\n",
    "print(Amat)\n",
    "print(type(Amat))\n",
    "print(x.T == x)\n",
    "print(Amat.T == Amat)"
   ]
  }
 ],
 "metadata": {
  "kernelspec": {
   "display_name": "Python 3",
   "language": "python",
   "name": "python3"
  },
  "language_info": {
   "codemirror_mode": {
    "name": "ipython",
    "version": 3
   },
   "file_extension": ".py",
   "mimetype": "text/x-python",
   "name": "python",
   "nbconvert_exporter": "python",
   "pygments_lexer": "ipython3",
   "version": "3.6.3"
  }
 },
 "nbformat": 4,
 "nbformat_minor": 1
}
