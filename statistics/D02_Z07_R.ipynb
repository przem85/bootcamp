{
 "cells": [
  {
   "cell_type": "markdown",
   "metadata": {},
   "source": [
    "# Zadanie\n",
    "\n",
    "Niech $X$ będzie zmienną losową o rozkładzie $N (\\mu=0,\\sigma^2=1)$.\n",
    "\n",
    "Obliczyć:\n",
    "<ul>\n",
    "<li> $P (X \\leq -0.4)$,</li>\n",
    "<li> $P (X \\in (-0.2, 0.6))$,</li> \n",
    "<li> $P (X \\geq -0.2)$,</li>\n",
    "<li> $P ( |X| \\leq 1)$.</li>\n",
    "</ul>"
   ]
  },
  {
   "cell_type": "code",
   "execution_count": 2,
   "metadata": {
    "collapsed": true
   },
   "outputs": [],
   "source": [
    "import matplotlib.pyplot as plt\n",
    "import numpy as np\n",
    "from scipy import stats\n",
    "from scipy import integrate"
   ]
  },
  {
   "cell_type": "code",
   "execution_count": 3,
   "metadata": {
    "collapsed": true
   },
   "outputs": [],
   "source": [
    "(mu, sigma)=(0,1)\n",
    "nd=stats.norm(mu, sigma)"
   ]
  },
  {
   "cell_type": "markdown",
   "metadata": {},
   "source": [
    "$P (X \\leq -0.4) = P( X \\le -0.4 ) = CDF(-0.4) = 1 - CDF(0.4) = 1 - 0.6554 = 0.3446. $"
   ]
  },
  {
   "cell_type": "code",
   "execution_count": 5,
   "metadata": {},
   "outputs": [
    {
     "data": {
      "text/plain": [
       "0.34457825838967582"
      ]
     },
     "execution_count": 5,
     "metadata": {},
     "output_type": "execute_result"
    }
   ],
   "source": [
    "nd.cdf(-0.4)"
   ]
  },
  {
   "cell_type": "code",
   "execution_count": 4,
   "metadata": {},
   "outputs": [
    {
     "data": {
      "text/plain": [
       "0.34457825838967582"
      ]
     },
     "execution_count": 4,
     "metadata": {},
     "output_type": "execute_result"
    }
   ],
   "source": [
    "1-nd.cdf(0.4)"
   ]
  },
  {
   "cell_type": "markdown",
   "metadata": {},
   "source": [
    "$P( -0.2 < X < 0.6 )  = CDF(0.6) - CDF(-0.2 )= CDF(0.6) - ( 1 - CDF(0.2) ) =  CDF(0.6) - 1 + CDF(0.2) = 0.7257 - 1 + 0.5793 = 0.305$"
   ]
  },
  {
   "cell_type": "code",
   "execution_count": 23,
   "metadata": {},
   "outputs": [
    {
     "data": {
      "text/plain": [
       "0.30500659168902944"
      ]
     },
     "execution_count": 23,
     "metadata": {},
     "output_type": "execute_result"
    }
   ],
   "source": [
    "nd.cdf(0.6)-1+nd.cdf(0.2)"
   ]
  },
  {
   "cell_type": "markdown",
   "metadata": {},
   "source": [
    "# Survival Function \n",
    "Jak widzimy czasami w obliczeniach przydaje się funkcja $1-CDF(x)$, którą nazywa się Survival Function \n",
    "\n",
    "$$\n",
    "SV(x)=1-CDF(x)\n",
    "$$"
   ]
  },
  {
   "cell_type": "code",
   "execution_count": 24,
   "metadata": {},
   "outputs": [
    {
     "data": {
      "text/plain": [
       "0.30500659168902949"
      ]
     },
     "execution_count": 24,
     "metadata": {},
     "output_type": "execute_result"
    }
   ],
   "source": [
    "nd.cdf(0.6)-nd.sf(0.2)"
   ]
  },
  {
   "cell_type": "code",
   "execution_count": 32,
   "metadata": {},
   "outputs": [
    {
     "data": {
      "image/png": "[encoded data removed]",
      "text/plain": [
       "<matplotlib.figure.Figure at 0xc76eb42438>"
      ]
     },
     "metadata": {},
     "output_type": "display_data"
    }
   ],
   "source": [
    "# 50 numbers between -3σ and 3σ\n",
    "x = np.linspace(-3*sigma, 3*sigma, 50)\n",
    "# SF at these values\n",
    "y = stats.norm.sf(x, loc=mu, scale=sigma)\n",
    "\n",
    "plt.plot(x,y, color=\"black\")\n",
    "plt.xlabel(\"Variate\")\n",
    "plt.ylabel(\"Probability\")\n",
    "plt.title(\"SF for Gaussian of mean = {0} & std. deviation = {1}\".format(mu, sigma))\n",
    "plt.show()"
   ]
  },
  {
   "cell_type": "markdown",
   "metadata": {},
   "source": [
    "# Zadanie 1\n",
    "Wykonaj podpunky \n",
    "<ul>\n",
    "<li> $P (X \\geq -0.2)$,</li>\n",
    "<li> $P ( |X| \\leq 1)$.</li>\n",
    "</ul>"
   ]
  },
  {
   "cell_type": "markdown",
   "metadata": {},
   "source": [
    "$P( X \\ge -0.2 )\n",
    "= 1 - P( X \\le -0.2 ) = 1 - ( 1 - \\Phi(0.2) ) \n",
    "= 1 - 1 + \\Phi(0.2) =\\Phi(0.2) = 0.5793.$"
   ]
  },
  {
   "cell_type": "code",
   "execution_count": 26,
   "metadata": {},
   "outputs": [
    {
     "data": {
      "text/plain": [
       "0.57925970943910299"
      ]
     },
     "execution_count": 26,
     "metadata": {},
     "output_type": "execute_result"
    }
   ],
   "source": [
    "nd.sf(-0.2)"
   ]
  },
  {
   "cell_type": "code",
   "execution_count": 6,
   "metadata": {},
   "outputs": [
    {
     "data": {
      "text/plain": [
       "0.57925970943910299"
      ]
     },
     "execution_count": 6,
     "metadata": {},
     "output_type": "execute_result"
    }
   ],
   "source": [
    "nd.cdf(0.2)"
   ]
  },
  {
   "cell_type": "markdown",
   "metadata": {},
   "source": [
    "$| X | < 1 $\n",
    "\n",
    "$ X \\le 1 \\quad \\wedge \\quad X  \\ge -1 $\n",
    "\n",
    "$ X \\in [-1, 1]$ \n",
    "\n",
    "$P( -1 \\le X \\le 1 )= \\Phi(1) - \\Phi(-1)   \n",
    "= \\Phi(1) - (1 - \\Phi(1) ) = \\Phi(1) - 1 + \\Phi(1)  \n",
    "= 0.8413 - 1 +  0.8413 = 0.6826.$ "
   ]
  },
  {
   "cell_type": "code",
   "execution_count": 30,
   "metadata": {},
   "outputs": [
    {
     "data": {
      "text/plain": [
       "0.68268949213708585"
      ]
     },
     "execution_count": 30,
     "metadata": {},
     "output_type": "execute_result"
    }
   ],
   "source": [
    "nd.cdf(1)-nd.sf(1)"
   ]
  },
  {
   "cell_type": "code",
   "execution_count": 31,
   "metadata": {},
   "outputs": [
    {
     "data": {
      "text/plain": [
       "0.68268949213708585"
      ]
     },
     "execution_count": 31,
     "metadata": {},
     "output_type": "execute_result"
    }
   ],
   "source": [
    "nd.cdf(1)-1+nd.cdf(1)"
   ]
  },
  {
   "cell_type": "code",
   "execution_count": null,
   "metadata": {
    "collapsed": true
   },
   "outputs": [],
   "source": []
  }
 ],
 "metadata": {
  "kernelspec": {
   "display_name": "Python 3",
   "language": "python",
   "name": "python3"
  },
  "language_info": {
   "codemirror_mode": {
    "name": "ipython",
    "version": 3
   },
   "file_extension": ".py",
   "mimetype": "text/x-python",
   "name": "python",
   "nbconvert_exporter": "python",
   "pygments_lexer": "ipython3",
   "version": "3.8.5"
  }
 },
 "nbformat": 4,
 "nbformat_minor": 2
}
