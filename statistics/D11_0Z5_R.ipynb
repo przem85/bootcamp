{
 "cells": [
  {
   "cell_type": "markdown",
   "metadata": {},
   "source": [
    "# Cross validation"
   ]
  },
  {
   "cell_type": "code",
   "execution_count": 1,
   "metadata": {
    "collapsed": true
   },
   "outputs": [],
   "source": [
    "import numpy as np\n",
    "import pandas as pd\n",
    "import scipy.stats as stats\n",
    "import sklearn.linear_model as lm\n",
    "from sklearn import datasets, linear_model\n",
    "import matplotlib.pyplot as plt\n",
    "\n",
    "from sklearn.preprocessing import PolynomialFeatures\n",
    "from sklearn.pipeline import make_pipeline\n",
    "\n",
    "from sklearn import  metrics"
   ]
  },
  {
   "cell_type": "markdown",
   "metadata": {},
   "source": [
    "Rozważmy następujący zbiór punktów:"
   ]
  },
  {
   "cell_type": "code",
   "execution_count": 2,
   "metadata": {},
   "outputs": [
    {
     "data": {
      "image/png": "[encoded data removed]",
      "text/plain": [
       "<matplotlib.figure.Figure at 0xa105d43550>"
      ]
     },
     "metadata": {},
     "output_type": "display_data"
    }
   ],
   "source": [
    "x = stats.uniform(0,3).rvs(100)\n",
    "f = lambda x: ((x*2-1)*(x**2-2)*(x-2)+3)\n",
    "y = f(x) + stats.norm(0,2).rvs(len(x))\n",
    "plt.plot(x, y, 'ok', ms=10);\n",
    "plt.show()"
   ]
  },
  {
   "cell_type": "code",
   "execution_count": 3,
   "metadata": {
    "collapsed": true
   },
   "outputs": [],
   "source": [
    "x=np.vstack(x)"
   ]
  },
  {
   "cell_type": "markdown",
   "metadata": {},
   "source": [
    "# k-fold"
   ]
  },
  {
   "cell_type": "code",
   "execution_count": 4,
   "metadata": {},
   "outputs": [
    {
     "data": {
      "text/plain": [
       "3"
      ]
     },
     "execution_count": 4,
     "metadata": {},
     "output_type": "execute_result"
    }
   ],
   "source": [
    "from sklearn.model_selection import KFold, cross_val_score\n",
    "kf = KFold(n_splits=3)\n",
    "kf.get_n_splits(x)"
   ]
  },
  {
   "cell_type": "code",
   "execution_count": 5,
   "metadata": {},
   "outputs": [
    {
     "name": "stdout",
     "output_type": "stream",
     "text": [
      "0.657493472196\n",
      "0.7445851281\n",
      "0.75016400744\n",
      "[0.65749347219577947, 0.74458512810006616, 0.750164007440143]\n"
     ]
    }
   ],
   "source": [
    "scores = list()\n",
    "model2 = make_pipeline(PolynomialFeatures(2), linear_model.LinearRegression())\n",
    "for train_index, test_index in kf.split(x):\n",
    "    #print(\"TRAIN:\", train_index, \"TEST:\", test_index)\n",
    "    X_train, X_test = x[train_index], x[test_index]\n",
    "    y_train, y_test = y[train_index], y[test_index]\n",
    "    scores.append(model2.fit(X_train, y_train).score(X_test, y_test))\n",
    "    print(model2.fit(X_train, y_train).score(X_test, y_test))\n",
    "print(scores)"
   ]
  },
  {
   "cell_type": "code",
   "execution_count": 6,
   "metadata": {},
   "outputs": [
    {
     "data": {
      "text/plain": [
       "[0.65749347219577947, 0.74458512810006616, 0.750164007440143]"
      ]
     },
     "execution_count": 6,
     "metadata": {},
     "output_type": "execute_result"
    }
   ],
   "source": [
    "kfold = KFold(n_splits=3)\n",
    "[model2.fit(x[train], y[train]).score(x[test], y[test]) for train, test in kfold.split(x)]"
   ]
  },
  {
   "cell_type": "markdown",
   "metadata": {},
   "source": [
    "# cross_val_score"
   ]
  },
  {
   "cell_type": "code",
   "execution_count": 7,
   "metadata": {},
   "outputs": [
    {
     "data": {
      "text/plain": [
       "array([ 0.65749347,  0.74458513,  0.75016401])"
      ]
     },
     "execution_count": 7,
     "metadata": {},
     "output_type": "execute_result"
    }
   ],
   "source": [
    "from sklearn.model_selection import cross_val_score\n",
    "cross_val_score(model2, x, y, cv=kfold)"
   ]
  },
  {
   "cell_type": "code",
   "execution_count": 8,
   "metadata": {},
   "outputs": [
    {
     "data": {
      "text/plain": [
       "array([ 0.65749347,  0.74458513,  0.75016401])"
      ]
     },
     "execution_count": 8,
     "metadata": {},
     "output_type": "execute_result"
    }
   ],
   "source": [
    "cross_val_score(model2, x, y, cv=kfold, scoring='r2')"
   ]
  },
  {
   "cell_type": "code",
   "execution_count": 9,
   "metadata": {},
   "outputs": [
    {
     "data": {
      "text/plain": [
       "array([-2.7087962 , -2.56326345, -2.80136808])"
      ]
     },
     "execution_count": 9,
     "metadata": {},
     "output_type": "execute_result"
    }
   ],
   "source": [
    "cross_val_score(model2, x, y, cv=kfold, scoring='neg_median_absolute_error')"
   ]
  },
  {
   "cell_type": "markdown",
   "metadata": {},
   "source": [
    "# cross_val_predict"
   ]
  },
  {
   "cell_type": "code",
   "execution_count": 10,
   "metadata": {},
   "outputs": [
    {
     "data": {
      "text/plain": [
       "array([  8.11758475,  15.80915505,   0.7839454 ,   4.98159757,\n",
       "         3.18980564,   6.86399002,   2.26482654,   0.78252623,\n",
       "         0.89871646,   5.35078585,   5.41974344,   2.13698563,\n",
       "         9.71243491,  11.85622986,  12.05417687,   1.5495568 ,\n",
       "         3.79182158,   1.02451154,   8.17053372,   6.55681514,\n",
       "        19.50574233,   8.38507747,   4.75434808,  17.76247064,\n",
       "        14.88273234,  16.38286113,   1.12779769,   2.56878397,\n",
       "         0.82400956,  10.60646209,  15.46122113,  10.88860704,\n",
       "        20.93931594,   4.29931043,   3.33464302,   5.06018924,\n",
       "        11.92072476,   3.92254978,   2.08523036,  15.19150968,\n",
       "         4.00239487,   1.05443182,   0.34384815,   1.93968061,\n",
       "         1.65067617,   4.27525965,  16.84728418,   3.03564968,\n",
       "        18.17832867,  19.19187846,  22.97077203,   1.95272175,\n",
       "         3.83812286,   7.10745774,   2.67638698,   1.31291469,\n",
       "         3.26504163,   5.16064134,   0.65844133,  20.09427709,\n",
       "         5.69693168,   0.59246004,   3.74435811,  10.70756499,\n",
       "        14.72650195,   0.33341665,   3.70297699,   1.443788  ,\n",
       "         0.4397683 ,   0.57896771,  -0.2373472 ,   3.44941425,\n",
       "        18.44352015,   0.0510282 ,   0.99838393,  12.12578516,\n",
       "         0.37238083,  18.58146332,  16.50752442,  14.98364826,\n",
       "        -0.4244101 ,  21.95856298,  -0.27695753,   0.97717063,\n",
       "         0.1545388 ,   0.82177861,   2.030711  ,   1.01454068,\n",
       "        -0.28567423,   6.0379952 ,   0.6691578 ,  -0.346857  ,\n",
       "         1.63579486,  -0.28689176,  15.85341522,   2.91439744,\n",
       "         4.00460796,   0.69560831,   1.54671263,  14.08995454])"
      ]
     },
     "execution_count": 10,
     "metadata": {},
     "output_type": "execute_result"
    }
   ],
   "source": [
    "from sklearn.model_selection import cross_val_predict\n",
    "cross_val_predict(model2, x, y, cv=kfold)"
   ]
  },
  {
   "cell_type": "markdown",
   "metadata": {},
   "source": [
    "# Zadanie \n",
    "Wykonaj k-fold cross-validation dla:\n",
    "\n",
    "- regrsji linowej\n",
    "- regrsji wielomianowej stopnia 2\n",
    "- regrsji wielomianowej stopnia 3\n",
    "- regrsji wielomianowej stopnia 4\n",
    "- regrsji wielomianowej stopnia 5\n",
    "- regrsji wielomianowej stopnia 25\n",
    "\n",
    "oraz podaj uśrednione wartości dla każdej z nich.\n"
   ]
  },
  {
   "cell_type": "code",
   "execution_count": 13,
   "metadata": {},
   "outputs": [
    {
     "name": "stdout",
     "output_type": "stream",
     "text": [
      "LR\n",
      "Score: [ 0.2341146   0.5468112   0.53503823]\n",
      "Maen score: 0.4386546758794692\n",
      "PR2\n",
      "Score: [ 0.65749347  0.74458513  0.75016401]\n",
      "Maen score: 0.717414202578663\n",
      "PR3\n",
      "Score: [ 0.92790448  0.89021848  0.94075758]\n",
      "Maen score: 0.9196268446197898\n",
      "PR4\n",
      "Score: [ 0.92492879  0.90194492  0.94082189]\n",
      "Maen score: 0.9225652013209173\n",
      "PR5\n",
      "Score: [ 0.9165135   0.89319082  0.94037961]\n",
      "Maen score: 0.9166946441492655\n",
      "PR6\n",
      "Score: [ 0.91736678  0.88619354  0.93879795]\n",
      "Maen score: 0.9141194186724159\n",
      "PR25\n",
      "Score: [ 0.74661774  0.66821116 -0.32790041]\n",
      "Maen score: 0.362309498018952\n"
     ]
    }
   ],
   "source": [
    "models = []\n",
    "models.append(('LR', linear_model.LinearRegression()))\n",
    "models.append(('PR2', make_pipeline(PolynomialFeatures(2), linear_model.LinearRegression()) ))\n",
    "models.append(('PR3', make_pipeline(PolynomialFeatures(3), linear_model.LinearRegression()) ))\n",
    "models.append(('PR4', make_pipeline(PolynomialFeatures(4), linear_model.LinearRegression()) ))\n",
    "models.append(('PR5', make_pipeline(PolynomialFeatures(5), linear_model.LinearRegression()) ))\n",
    "models.append(('PR6', make_pipeline(PolynomialFeatures(6), linear_model.LinearRegression()) ))\n",
    "models.append(('PR25', make_pipeline(PolynomialFeatures(25), linear_model.LinearRegression()) ))\n",
    "\n",
    "kf = KFold(n_splits=3)\n",
    "kf.get_n_splits(x)\n",
    "\n",
    "for name, model in models:\n",
    "    print(name)\n",
    "    #cross_val_score(model, x, y, cv=kf)\n",
    "    print(\"Score: {}\".format( cross_val_score(model, x, y, cv=kfold) ))\n",
    "    print(\"Maen score: {}\".format( np.mean(cross_val_score(model, x, y, cv=kfold)) ))"
   ]
  },
  {
   "cell_type": "code",
   "execution_count": null,
   "metadata": {
    "collapsed": true
   },
   "outputs": [],
   "source": []
  }
 ],
 "metadata": {
  "kernelspec": {
   "display_name": "Python 3",
   "language": "python",
   "name": "python3"
  },
  "language_info": {
   "codemirror_mode": {
    "name": "ipython",
    "version": 3
   },
   "file_extension": ".py",
   "mimetype": "text/x-python",
   "name": "python",
   "nbconvert_exporter": "python",
   "pygments_lexer": "ipython3",
   "version": "3.5.4"
  }
 },
 "nbformat": 4,
 "nbformat_minor": 1
}
