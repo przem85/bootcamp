{
 "cells": [
  {
   "cell_type": "markdown",
   "metadata": {
    "collapsed": true
   },
   "source": [
    "# Regresja"
   ]
  },
  {
   "cell_type": "code",
   "execution_count": 2,
   "metadata": {
    "collapsed": true
   },
   "outputs": [],
   "source": [
    "import numpy as np\n",
    "import matplotlib.pyplot as plt\n",
    "from sklearn import datasets\n",
    "from sklearn.model_selection import cross_val_predict\n",
    "from sklearn import linear_model\n",
    "import matplotlib.pyplot as plt"
   ]
  },
  {
   "cell_type": "markdown",
   "metadata": {},
   "source": [
    "Rozważmy zbiór Boston"
   ]
  },
  {
   "cell_type": "code",
   "execution_count": 3,
   "metadata": {},
   "outputs": [
    {
     "name": "stdout",
     "output_type": "stream",
     "text": [
      "Boston House Prices dataset\n",
      "===========================\n",
      "\n",
      "Notes\n",
      "------\n",
      "Data Set Characteristics:  \n",
      "\n",
      "    :Number of Instances: 506 \n",
      "\n",
      "    :Number of Attributes: 13 numeric/categorical predictive\n",
      "    \n",
      "    :Median Value (attribute 14) is usually the target\n",
      "\n",
      "    :Attribute Information (in order):\n",
      "        - CRIM     per capita crime rate by town\n",
      "        - ZN       proportion of residential land zoned for lots over 25,000 sq.ft.\n",
      "        - INDUS    proportion of non-retail business acres per town\n",
      "        - CHAS     Charles River dummy variable (= 1 if tract bounds river; 0 otherwise)\n",
      "        - NOX      nitric oxides concentration (parts per 10 million)\n",
      "        - RM       average number of rooms per dwelling\n",
      "        - AGE      proportion of owner-occupied units built prior to 1940\n",
      "        - DIS      weighted distances to five Boston employment centres\n",
      "        - RAD      index of accessibility to radial highways\n",
      "        - TAX      full-value property-tax rate per $10,000\n",
      "        - PTRATIO  pupil-teacher ratio by town\n",
      "        - B        1000(Bk - 0.63)^2 where Bk is the proportion of blacks by town\n",
      "        - LSTAT    % lower status of the population\n",
      "        - MEDV     Median value of owner-occupied homes in $1000's\n",
      "\n",
      "    :Missing Attribute Values: None\n",
      "\n",
      "    :Creator: Harrison, D. and Rubinfeld, D.L.\n",
      "\n",
      "This is a copy of UCI ML housing dataset.\n",
      "http://archive.ics.uci.edu/ml/datasets/Housing\n",
      "\n",
      "\n",
      "This dataset was taken from the StatLib library which is maintained at Carnegie Mellon University.\n",
      "\n",
      "The Boston house-price data of Harrison, D. and Rubinfeld, D.L. 'Hedonic\n",
      "prices and the demand for clean air', J. Environ. Economics & Management,\n",
      "vol.5, 81-102, 1978.   Used in Belsley, Kuh & Welsch, 'Regression diagnostics\n",
      "...', Wiley, 1980.   N.B. Various transformations are used in the table on\n",
      "pages 244-261 of the latter.\n",
      "\n",
      "The Boston house-price data has been used in many machine learning papers that address regression\n",
      "problems.   \n",
      "     \n",
      "**References**\n",
      "\n",
      "   - Belsley, Kuh & Welsch, 'Regression diagnostics: Identifying Influential Data and Sources of Collinearity', Wiley, 1980. 244-261.\n",
      "   - Quinlan,R. (1993). Combining Instance-Based and Model-Based Learning. In Proceedings on the Tenth International Conference of Machine Learning, 236-243, University of Massachusetts, Amherst. Morgan Kaufmann.\n",
      "   - many more! (see http://archive.ics.uci.edu/ml/datasets/Housing)\n",
      "\n"
     ]
    }
   ],
   "source": [
    "boston = datasets.load_boston()\n",
    "# print description\n",
    "print(boston.DESCR)"
   ]
  },
  {
   "cell_type": "code",
   "execution_count": 4,
   "metadata": {
    "collapsed": true
   },
   "outputs": [],
   "source": [
    "# get the data\n",
    "boston_X = boston.data\n",
    "boston_Y = boston.target"
   ]
  },
  {
   "cell_type": "markdown",
   "metadata": {},
   "source": [
    "Podzielmy zbiór na część testową i treningową ."
   ]
  },
  {
   "cell_type": "code",
   "execution_count": 5,
   "metadata": {
    "collapsed": true
   },
   "outputs": [],
   "source": [
    "# Split the data into training/testing sets\n",
    "boston_X_train = boston_X[:-50]\n",
    "boston_X_test = boston_X[-50:]\n",
    " \n",
    "# Split the targets into training/testing sets\n",
    "boston_y_train = boston_Y[:-50]\n",
    "boston_y_test = boston_Y[-50:]"
   ]
  },
  {
   "cell_type": "code",
   "execution_count": 6,
   "metadata": {
    "collapsed": true
   },
   "outputs": [],
   "source": [
    "X=boston_X_train\n",
    "y=boston_y_train"
   ]
  },
  {
   "cell_type": "markdown",
   "metadata": {},
   "source": [
    "# Zadanie\n",
    "Znajdż najleprzy model dzieląc na zbiór testowy i terningowy.\n"
   ]
  },
  {
   "cell_type": "code",
   "execution_count": 7,
   "metadata": {
    "collapsed": true
   },
   "outputs": [],
   "source": [
    "from sklearn.model_selection import GridSearchCV\n",
    "from sklearn import linear_model\n",
    "from sklearn.preprocessing import PolynomialFeatures\n",
    "from sklearn.linear_model import Ridge\n",
    "from sklearn.linear_model import Lasso\n",
    "from sklearn.linear_model import ElasticNet\n",
    "from sklearn.pipeline import make_pipeline\n",
    "from sklearn import model_selection\n",
    "\n",
    "seed=123\n",
    "kfold = model_selection.KFold(n_splits=5, random_state=seed)\n"
   ]
  },
  {
   "cell_type": "code",
   "execution_count": 8,
   "metadata": {},
   "outputs": [
    {
     "data": {
      "text/plain": [
       "{'elasticnet__alpha': 0.3, 'polynomialfeatures__degree': 1}"
      ]
     },
     "execution_count": 8,
     "metadata": {},
     "output_type": "execute_result"
    }
   ],
   "source": [
    "grid_1 = GridSearchCV(make_pipeline(PolynomialFeatures(degree=2), ElasticNet(alpha=1, tol=0.1)),\n",
    "                    param_grid={'polynomialfeatures__degree': [1, 2, 3, 4],\n",
    "                    'elasticnet__alpha': [0.3, 0.35, 0.4]},\n",
    "                    cv=kfold,\n",
    "                    refit=True)\n",
    "grid_1.fit(X, y)\n",
    "grid_1.best_params_"
   ]
  },
  {
   "cell_type": "code",
   "execution_count": 9,
   "metadata": {},
   "outputs": [
    {
     "data": {
      "text/plain": [
       "{'lasso__alpha': 0.1, 'polynomialfeatures__degree': 1}"
      ]
     },
     "execution_count": 9,
     "metadata": {},
     "output_type": "execute_result"
    }
   ],
   "source": [
    "grid_2 = GridSearchCV(make_pipeline(PolynomialFeatures(degree=2), Lasso(alpha=1, tol=0.1)),\n",
    "                    param_grid={'polynomialfeatures__degree': [1, 2, 3, 4],\n",
    "                    'lasso__alpha': [0.1, 1, 2, 3]},\n",
    "                    cv=5,\n",
    "                    refit=True)\n",
    "grid_2.fit(X, y)\n",
    "grid_2.best_params_"
   ]
  },
  {
   "cell_type": "code",
   "execution_count": 10,
   "metadata": {},
   "outputs": [
    {
     "name": "stderr",
     "output_type": "stream",
     "text": [
      "C:\\Users\\admin\\Anaconda3\\lib\\site-packages\\scipy\\linalg\\basic.py:223: RuntimeWarning: scipy.linalg.solve\n",
      "Ill-conditioned matrix detected. Result is not guaranteed to be accurate.\n",
      "Reciprocal condition number: 8.966219240689948e-22\n",
      "  ' condition number: {}'.format(rcond), RuntimeWarning)\n",
      "C:\\Users\\admin\\Anaconda3\\lib\\site-packages\\scipy\\linalg\\basic.py:223: RuntimeWarning: scipy.linalg.solve\n",
      "Ill-conditioned matrix detected. Result is not guaranteed to be accurate.\n",
      "Reciprocal condition number: 1.0416200068852991e-20\n",
      "  ' condition number: {}'.format(rcond), RuntimeWarning)\n",
      "C:\\Users\\admin\\Anaconda3\\lib\\site-packages\\scipy\\linalg\\basic.py:223: RuntimeWarning: scipy.linalg.solve\n",
      "Ill-conditioned matrix detected. Result is not guaranteed to be accurate.\n",
      "Reciprocal condition number: 7.5089865252423e-21\n",
      "  ' condition number: {}'.format(rcond), RuntimeWarning)\n",
      "C:\\Users\\admin\\Anaconda3\\lib\\site-packages\\scipy\\linalg\\basic.py:223: RuntimeWarning: scipy.linalg.solve\n",
      "Ill-conditioned matrix detected. Result is not guaranteed to be accurate.\n",
      "Reciprocal condition number: 9.512759716244329e-21\n",
      "  ' condition number: {}'.format(rcond), RuntimeWarning)\n",
      "C:\\Users\\admin\\Anaconda3\\lib\\site-packages\\scipy\\linalg\\basic.py:223: RuntimeWarning: scipy.linalg.solve\n",
      "Ill-conditioned matrix detected. Result is not guaranteed to be accurate.\n",
      "Reciprocal condition number: 5.0471096705051527e-20\n",
      "  ' condition number: {}'.format(rcond), RuntimeWarning)\n",
      "C:\\Users\\admin\\Anaconda3\\lib\\site-packages\\scipy\\linalg\\basic.py:223: RuntimeWarning: scipy.linalg.solve\n",
      "Ill-conditioned matrix detected. Result is not guaranteed to be accurate.\n",
      "Reciprocal condition number: 5.827115117917129e-21\n",
      "  ' condition number: {}'.format(rcond), RuntimeWarning)\n",
      "C:\\Users\\admin\\Anaconda3\\lib\\site-packages\\scipy\\linalg\\basic.py:223: RuntimeWarning: scipy.linalg.solve\n",
      "Ill-conditioned matrix detected. Result is not guaranteed to be accurate.\n",
      "Reciprocal condition number: 8.788936558544819e-21\n",
      "  ' condition number: {}'.format(rcond), RuntimeWarning)\n",
      "C:\\Users\\admin\\Anaconda3\\lib\\site-packages\\scipy\\linalg\\basic.py:223: RuntimeWarning: scipy.linalg.solve\n",
      "Ill-conditioned matrix detected. Result is not guaranteed to be accurate.\n",
      "Reciprocal condition number: 4.968096248164569e-21\n",
      "  ' condition number: {}'.format(rcond), RuntimeWarning)\n",
      "C:\\Users\\admin\\Anaconda3\\lib\\site-packages\\scipy\\linalg\\basic.py:223: RuntimeWarning: scipy.linalg.solve\n",
      "Ill-conditioned matrix detected. Result is not guaranteed to be accurate.\n",
      "Reciprocal condition number: 6.963045113851352e-21\n",
      "  ' condition number: {}'.format(rcond), RuntimeWarning)\n",
      "C:\\Users\\admin\\Anaconda3\\lib\\site-packages\\scipy\\linalg\\basic.py:223: RuntimeWarning: scipy.linalg.solve\n",
      "Ill-conditioned matrix detected. Result is not guaranteed to be accurate.\n",
      "Reciprocal condition number: 1.5984036990482716e-19\n",
      "  ' condition number: {}'.format(rcond), RuntimeWarning)\n",
      "C:\\Users\\admin\\Anaconda3\\lib\\site-packages\\scipy\\linalg\\basic.py:223: RuntimeWarning: scipy.linalg.solve\n",
      "Ill-conditioned matrix detected. Result is not guaranteed to be accurate.\n",
      "Reciprocal condition number: 4.694599401788706e-21\n",
      "  ' condition number: {}'.format(rcond), RuntimeWarning)\n",
      "C:\\Users\\admin\\Anaconda3\\lib\\site-packages\\scipy\\linalg\\basic.py:223: RuntimeWarning: scipy.linalg.solve\n",
      "Ill-conditioned matrix detected. Result is not guaranteed to be accurate.\n",
      "Reciprocal condition number: 1.9088442631959892e-20\n",
      "  ' condition number: {}'.format(rcond), RuntimeWarning)\n",
      "C:\\Users\\admin\\Anaconda3\\lib\\site-packages\\scipy\\linalg\\basic.py:223: RuntimeWarning: scipy.linalg.solve\n",
      "Ill-conditioned matrix detected. Result is not guaranteed to be accurate.\n",
      "Reciprocal condition number: 1.2767291349795654e-20\n",
      "  ' condition number: {}'.format(rcond), RuntimeWarning)\n",
      "C:\\Users\\admin\\Anaconda3\\lib\\site-packages\\scipy\\linalg\\basic.py:223: RuntimeWarning: scipy.linalg.solve\n",
      "Ill-conditioned matrix detected. Result is not guaranteed to be accurate.\n",
      "Reciprocal condition number: 7.488232110004176e-21\n",
      "  ' condition number: {}'.format(rcond), RuntimeWarning)\n",
      "C:\\Users\\admin\\Anaconda3\\lib\\site-packages\\scipy\\linalg\\basic.py:223: RuntimeWarning: scipy.linalg.solve\n",
      "Ill-conditioned matrix detected. Result is not guaranteed to be accurate.\n",
      "Reciprocal condition number: 3.3821854476713637e-20\n",
      "  ' condition number: {}'.format(rcond), RuntimeWarning)\n",
      "C:\\Users\\admin\\Anaconda3\\lib\\site-packages\\scipy\\linalg\\basic.py:223: RuntimeWarning: scipy.linalg.solve\n",
      "Ill-conditioned matrix detected. Result is not guaranteed to be accurate.\n",
      "Reciprocal condition number: 2.3066262558262993e-21\n",
      "  ' condition number: {}'.format(rcond), RuntimeWarning)\n",
      "C:\\Users\\admin\\Anaconda3\\lib\\site-packages\\scipy\\linalg\\basic.py:223: RuntimeWarning: scipy.linalg.solve\n",
      "Ill-conditioned matrix detected. Result is not guaranteed to be accurate.\n",
      "Reciprocal condition number: 1.3768929016659533e-20\n",
      "  ' condition number: {}'.format(rcond), RuntimeWarning)\n",
      "C:\\Users\\admin\\Anaconda3\\lib\\site-packages\\scipy\\linalg\\basic.py:223: RuntimeWarning: scipy.linalg.solve\n",
      "Ill-conditioned matrix detected. Result is not guaranteed to be accurate.\n",
      "Reciprocal condition number: 2.4214937158342627e-20\n",
      "  ' condition number: {}'.format(rcond), RuntimeWarning)\n",
      "C:\\Users\\admin\\Anaconda3\\lib\\site-packages\\scipy\\linalg\\basic.py:223: RuntimeWarning: scipy.linalg.solve\n",
      "Ill-conditioned matrix detected. Result is not guaranteed to be accurate.\n",
      "Reciprocal condition number: 8.532965728764639e-22\n",
      "  ' condition number: {}'.format(rcond), RuntimeWarning)\n",
      "C:\\Users\\admin\\Anaconda3\\lib\\site-packages\\scipy\\linalg\\basic.py:223: RuntimeWarning: scipy.linalg.solve\n",
      "Ill-conditioned matrix detected. Result is not guaranteed to be accurate.\n",
      "Reciprocal condition number: 2.403961416343857e-19\n",
      "  ' condition number: {}'.format(rcond), RuntimeWarning)\n",
      "C:\\Users\\admin\\Anaconda3\\lib\\site-packages\\scipy\\linalg\\basic.py:223: RuntimeWarning: scipy.linalg.solve\n",
      "Ill-conditioned matrix detected. Result is not guaranteed to be accurate.\n",
      "Reciprocal condition number: 4.621150426257029e-20\n",
      "  ' condition number: {}'.format(rcond), RuntimeWarning)\n",
      "C:\\Users\\admin\\Anaconda3\\lib\\site-packages\\scipy\\linalg\\basic.py:223: RuntimeWarning: scipy.linalg.solve\n",
      "Ill-conditioned matrix detected. Result is not guaranteed to be accurate.\n",
      "Reciprocal condition number: 5.800296697108958e-21\n",
      "  ' condition number: {}'.format(rcond), RuntimeWarning)\n",
      "C:\\Users\\admin\\Anaconda3\\lib\\site-packages\\scipy\\linalg\\basic.py:223: RuntimeWarning: scipy.linalg.solve\n",
      "Ill-conditioned matrix detected. Result is not guaranteed to be accurate.\n",
      "Reciprocal condition number: 3.465863822082668e-21\n",
      "  ' condition number: {}'.format(rcond), RuntimeWarning)\n",
      "C:\\Users\\admin\\Anaconda3\\lib\\site-packages\\scipy\\linalg\\basic.py:223: RuntimeWarning: scipy.linalg.solve\n",
      "Ill-conditioned matrix detected. Result is not guaranteed to be accurate.\n",
      "Reciprocal condition number: 1.2526981846812297e-20\n",
      "  ' condition number: {}'.format(rcond), RuntimeWarning)\n",
      "C:\\Users\\admin\\Anaconda3\\lib\\site-packages\\scipy\\linalg\\basic.py:223: RuntimeWarning: scipy.linalg.solve\n",
      "Ill-conditioned matrix detected. Result is not guaranteed to be accurate.\n",
      "Reciprocal condition number: 4.525115279237473e-19\n",
      "  ' condition number: {}'.format(rcond), RuntimeWarning)\n",
      "C:\\Users\\admin\\Anaconda3\\lib\\site-packages\\scipy\\linalg\\basic.py:223: RuntimeWarning: scipy.linalg.solve\n",
      "Ill-conditioned matrix detected. Result is not guaranteed to be accurate.\n",
      "Reciprocal condition number: 4.621150426257029e-20\n",
      "  ' condition number: {}'.format(rcond), RuntimeWarning)\n",
      "C:\\Users\\admin\\Anaconda3\\lib\\site-packages\\scipy\\linalg\\basic.py:223: RuntimeWarning: scipy.linalg.solve\n",
      "Ill-conditioned matrix detected. Result is not guaranteed to be accurate.\n",
      "Reciprocal condition number: 5.800296697108958e-21\n",
      "  ' condition number: {}'.format(rcond), RuntimeWarning)\n",
      "C:\\Users\\admin\\Anaconda3\\lib\\site-packages\\scipy\\linalg\\basic.py:223: RuntimeWarning: scipy.linalg.solve\n",
      "Ill-conditioned matrix detected. Result is not guaranteed to be accurate.\n",
      "Reciprocal condition number: 3.465863822082668e-21\n",
      "  ' condition number: {}'.format(rcond), RuntimeWarning)\n",
      "C:\\Users\\admin\\Anaconda3\\lib\\site-packages\\scipy\\linalg\\basic.py:223: RuntimeWarning: scipy.linalg.solve\n",
      "Ill-conditioned matrix detected. Result is not guaranteed to be accurate.\n",
      "Reciprocal condition number: 1.2526981846812297e-20\n",
      "  ' condition number: {}'.format(rcond), RuntimeWarning)\n",
      "C:\\Users\\admin\\Anaconda3\\lib\\site-packages\\scipy\\linalg\\basic.py:223: RuntimeWarning: scipy.linalg.solve\n",
      "Ill-conditioned matrix detected. Result is not guaranteed to be accurate.\n",
      "Reciprocal condition number: 4.525115279237473e-19\n",
      "  ' condition number: {}'.format(rcond), RuntimeWarning)\n"
     ]
    },
    {
     "name": "stderr",
     "output_type": "stream",
     "text": [
      "C:\\Users\\admin\\Anaconda3\\lib\\site-packages\\scipy\\linalg\\basic.py:223: RuntimeWarning: scipy.linalg.solve\n",
      "Ill-conditioned matrix detected. Result is not guaranteed to be accurate.\n",
      "Reciprocal condition number: 4.621150426257029e-20\n",
      "  ' condition number: {}'.format(rcond), RuntimeWarning)\n",
      "C:\\Users\\admin\\Anaconda3\\lib\\site-packages\\scipy\\linalg\\basic.py:223: RuntimeWarning: scipy.linalg.solve\n",
      "Ill-conditioned matrix detected. Result is not guaranteed to be accurate.\n",
      "Reciprocal condition number: 5.800296697020833e-21\n",
      "  ' condition number: {}'.format(rcond), RuntimeWarning)\n",
      "C:\\Users\\admin\\Anaconda3\\lib\\site-packages\\scipy\\linalg\\basic.py:223: RuntimeWarning: scipy.linalg.solve\n",
      "Ill-conditioned matrix detected. Result is not guaranteed to be accurate.\n",
      "Reciprocal condition number: 3.465863822082668e-21\n",
      "  ' condition number: {}'.format(rcond), RuntimeWarning)\n",
      "C:\\Users\\admin\\Anaconda3\\lib\\site-packages\\scipy\\linalg\\basic.py:223: RuntimeWarning: scipy.linalg.solve\n",
      "Ill-conditioned matrix detected. Result is not guaranteed to be accurate.\n",
      "Reciprocal condition number: 1.2526981846812297e-20\n",
      "  ' condition number: {}'.format(rcond), RuntimeWarning)\n",
      "C:\\Users\\admin\\Anaconda3\\lib\\site-packages\\scipy\\linalg\\basic.py:223: RuntimeWarning: scipy.linalg.solve\n",
      "Ill-conditioned matrix detected. Result is not guaranteed to be accurate.\n",
      "Reciprocal condition number: 4.525115279237473e-19\n",
      "  ' condition number: {}'.format(rcond), RuntimeWarning)\n",
      "C:\\Users\\admin\\Anaconda3\\lib\\site-packages\\scipy\\linalg\\basic.py:223: RuntimeWarning: scipy.linalg.solve\n",
      "Ill-conditioned matrix detected. Result is not guaranteed to be accurate.\n",
      "Reciprocal condition number: 4.621150426257029e-20\n",
      "  ' condition number: {}'.format(rcond), RuntimeWarning)\n",
      "C:\\Users\\admin\\Anaconda3\\lib\\site-packages\\scipy\\linalg\\basic.py:223: RuntimeWarning: scipy.linalg.solve\n",
      "Ill-conditioned matrix detected. Result is not guaranteed to be accurate.\n",
      "Reciprocal condition number: 5.800296697108958e-21\n",
      "  ' condition number: {}'.format(rcond), RuntimeWarning)\n",
      "C:\\Users\\admin\\Anaconda3\\lib\\site-packages\\scipy\\linalg\\basic.py:223: RuntimeWarning: scipy.linalg.solve\n",
      "Ill-conditioned matrix detected. Result is not guaranteed to be accurate.\n",
      "Reciprocal condition number: 3.465863822082668e-21\n",
      "  ' condition number: {}'.format(rcond), RuntimeWarning)\n",
      "C:\\Users\\admin\\Anaconda3\\lib\\site-packages\\scipy\\linalg\\basic.py:223: RuntimeWarning: scipy.linalg.solve\n",
      "Ill-conditioned matrix detected. Result is not guaranteed to be accurate.\n",
      "Reciprocal condition number: 1.2526981846812297e-20\n",
      "  ' condition number: {}'.format(rcond), RuntimeWarning)\n",
      "C:\\Users\\admin\\Anaconda3\\lib\\site-packages\\scipy\\linalg\\basic.py:223: RuntimeWarning: scipy.linalg.solve\n",
      "Ill-conditioned matrix detected. Result is not guaranteed to be accurate.\n",
      "Reciprocal condition number: 4.525115279237473e-19\n",
      "  ' condition number: {}'.format(rcond), RuntimeWarning)\n"
     ]
    },
    {
     "data": {
      "text/plain": [
       "{'polynomialfeatures__degree': 1, 'ridge__alpha': 3}"
      ]
     },
     "execution_count": 10,
     "metadata": {},
     "output_type": "execute_result"
    }
   ],
   "source": [
    "grid_3 = GridSearchCV(make_pipeline(PolynomialFeatures(degree=2), linear_model.Ridge(alpha=1, tol=0.1)),\n",
    "                    param_grid={'polynomialfeatures__degree': [1, 2, 3, 4],\n",
    "                    'ridge__alpha': [0.1, 1, 2, 3]},\n",
    "                    cv=5,\n",
    "                    refit=True)\n",
    "grid_3.fit(X, y)\n",
    "grid_3.best_params_"
   ]
  },
  {
   "cell_type": "code",
   "execution_count": 11,
   "metadata": {},
   "outputs": [
    {
     "name": "stdout",
     "output_type": "stream",
     "text": [
      "{'polynomialfeatures__degree': 1}\n"
     ]
    },
    {
     "data": {
      "text/plain": [
       "Pipeline(memory=None,\n",
       "     steps=[('polynomialfeatures', PolynomialFeatures(degree=1, include_bias=True, interaction_only=False)), ('linearregression', LinearRegression(copy_X=True, fit_intercept=True, n_jobs=1, normalize=False))])"
      ]
     },
     "execution_count": 11,
     "metadata": {},
     "output_type": "execute_result"
    }
   ],
   "source": [
    "grid_4 = GridSearchCV(make_pipeline(PolynomialFeatures(degree=2), linear_model.LinearRegression()),\n",
    "                    param_grid={'polynomialfeatures__degree': [1, 2, 3, 4]},\n",
    "                    cv=kfold,\n",
    "                    refit=True)\n",
    "grid_4.fit(X, y)\n",
    "print(grid_4.best_params_)\n",
    "grid_4.best_estimator_"
   ]
  },
  {
   "cell_type": "code",
   "execution_count": 12,
   "metadata": {},
   "outputs": [
    {
     "name": "stdout",
     "output_type": "stream",
     "text": [
      "{'C': 1000, 'gamma': 1e-05}\n"
     ]
    },
    {
     "data": {
      "text/plain": [
       "SVR(C=1000, cache_size=200, coef0=0.0, degree=3, epsilon=0.1, gamma=1e-05,\n",
       "  kernel='rbf', max_iter=-1, shrinking=True, tol=0.001, verbose=False)"
      ]
     },
     "execution_count": 12,
     "metadata": {},
     "output_type": "execute_result"
    }
   ],
   "source": [
    "from sklearn.svm import SVR\n",
    "grid_5 = GridSearchCV(SVR(kernel='rbf'),\n",
    "                   param_grid={\"C\": [0.001, 0.01, 0.1, 1, 10, 100, 1000],\n",
    "                               \"gamma\": [ 0.0000001, 0.000001, 0.00001, 0.0001, 0.001, 0.01, 0.1, 1, 10, 100, 1000]},\n",
    "                    cv=kfold,\n",
    "                    refit=True)\n",
    "grid_5.fit(X, y)\n",
    "print(grid_5.best_params_)\n",
    "grid_5.best_estimator_\n",
    "\n"
   ]
  },
  {
   "cell_type": "code",
   "execution_count": 13,
   "metadata": {},
   "outputs": [
    {
     "name": "stdout",
     "output_type": "stream",
     "text": [
      "{'max_depth': 500, 'max_features': 'sqrt', 'n_estimators': 300}\n"
     ]
    },
    {
     "data": {
      "text/plain": [
       "RandomForestRegressor(bootstrap=True, criterion='mse', max_depth=500,\n",
       "           max_features='sqrt', max_leaf_nodes=None,\n",
       "           min_impurity_decrease=0.0, min_impurity_split=None,\n",
       "           min_samples_leaf=1, min_samples_split=2,\n",
       "           min_weight_fraction_leaf=0.0, n_estimators=300, n_jobs=-1,\n",
       "           oob_score=True, random_state=None, verbose=0, warm_start=False)"
      ]
     },
     "execution_count": 13,
     "metadata": {},
     "output_type": "execute_result"
    }
   ],
   "source": [
    "from sklearn.ensemble import RandomForestRegressor\n",
    "\n",
    "grid_6 = GridSearchCV(RandomForestRegressor(n_jobs=-1, max_features= 'sqrt', n_estimators=50, oob_score = True),\n",
    "                   param_grid={\n",
    "                   'n_estimators': [150, 300, 400],\n",
    "                    'max_features': ['auto', 'sqrt', 'log2'],  \n",
    "                    'max_depth': [ 400, 500, 600]\n",
    "                   },\n",
    "                    cv=kfold,\n",
    "                    refit=True)\n",
    "grid_6.fit(X, y)\n",
    "print(grid_6.best_params_)\n",
    "grid_6.best_estimator_\n",
    "\n"
   ]
  },
  {
   "cell_type": "code",
   "execution_count": 18,
   "metadata": {},
   "outputs": [
    {
     "name": "stdout",
     "output_type": "stream",
     "text": [
      "{'activation': 'logistic', 'alpha': 10, 'hidden_layer_sizes': (1000, 1000, 1000)}\n"
     ]
    },
    {
     "data": {
      "text/plain": [
       "MLPRegressor(activation='logistic', alpha=10, batch_size='auto', beta_1=0.9,\n",
       "       beta_2=0.999, early_stopping=False, epsilon=1e-08,\n",
       "       hidden_layer_sizes=(1000, 1000, 1000), learning_rate='constant',\n",
       "       learning_rate_init=0.001, max_iter=200, momentum=0.9,\n",
       "       nesterovs_momentum=True, power_t=0.5, random_state=None,\n",
       "       shuffle=True, solver='adam', tol=0.0001, validation_fraction=0.1,\n",
       "       verbose=False, warm_start=False)"
      ]
     },
     "execution_count": 18,
     "metadata": {},
     "output_type": "execute_result"
    }
   ],
   "source": [
    "from sklearn.neural_network import MLPRegressor\n",
    "\n",
    "grid_7 = GridSearchCV(MLPRegressor(hidden_layer_sizes=(100,100,100),activation='tanh',alpha=0.0001),#model powinien byc zainicjalizowany\n",
    "                    param_grid={'hidden_layer_sizes': [(1000,10,10),(10,10),(100,100)],\n",
    "                                'alpha': [1, 10, 100 ,1000],\n",
    "                               'activation': ['identity', 'logistic', 'tanh', 'relu']                               \n",
    "                               },#parametry do podstawienia\n",
    "                    cv=kfold,#na ile czesci ma dzielic zbior\n",
    "                    n_jobs=2,\n",
    "                    refit=True)\n",
    "grid_7.fit(X, y)\n",
    "print(grid_7.best_params_)\n",
    "grid_7.best_estimator_"
   ]
  },
  {
   "cell_type": "code",
   "execution_count": 19,
   "metadata": {},
   "outputs": [
    {
     "name": "stdout",
     "output_type": "stream",
     "text": [
      "ElasticNet\n",
      "R^2: 0.29382006308736974\n",
      "Explained variance score: 0.294349753785489\n",
      "Median absolute error: 2.0759346938347463\n",
      "Mean squared error: 13.320601531989254\n",
      "Mean absolute errors: 2.772276391728127\n",
      "Lasso\n",
      "R^2: 0.3311669435943563\n",
      "Explained variance score: 0.331737480548411\n",
      "Median absolute error: 2.089430615521554\n",
      "Mean squared error: 12.61613105967402\n",
      "Mean absolute errors: 2.7348023954450844\n",
      "Ridge\n",
      "R^2: 0.360607969558849\n",
      "Explained variance score: 0.36102475698984526\n",
      "Median absolute error: 2.1297726710775704\n",
      "Mean squared error: 12.060787931008388\n",
      "Mean absolute errors: 2.669543281777572\n",
      "LR\n",
      "R^2: 0.41861839023790204\n",
      "Explained variance score: 0.4215186903562268\n",
      "Median absolute error: 2.094421193908156\n",
      "Mean squared error: 10.966543166781477\n",
      "Mean absolute errors: 2.538852413696596\n",
      "SVR\n",
      "R^2: 0.4351604998720223\n",
      "Explained variance score: 0.4357316154672667\n",
      "Median absolute error: 1.7147953301903804\n",
      "Mean squared error: 10.65451100696403\n",
      "Mean absolute errors: 2.442421251463089\n",
      "RFR\n",
      "R^2: 0.41975289024133666\n",
      "Explained variance score: 0.44680603078942016\n",
      "Median absolute error: 2.1196666666666726\n",
      "Mean squared error: 10.945143206666694\n",
      "Mean absolute errors: 2.5239933333333364\n",
      "MLP_R\n",
      "R^2: 0.07125482644197034\n",
      "Explained variance score: 0.278537553155479\n",
      "Median absolute error: 2.6527397281056935\n",
      "Mean squared error: 17.51882733430776\n",
      "Mean absolute errors: 3.347868398923418\n"
     ]
    }
   ],
   "source": [
    "from sklearn import  metrics\n",
    "\n",
    "X_test=boston_X_test\n",
    "y_test=boston_y_test\n",
    "\n",
    "models = []\n",
    "models.append(('ElasticNet', grid_1.best_estimator_))\n",
    "models.append(('Lasso', grid_2.best_estimator_))\n",
    "models.append(('Ridge', grid_3.best_estimator_))\n",
    "models.append(('LR', grid_4.best_estimator_))\n",
    "models.append(('SVR', grid_5.best_estimator_))\n",
    "models.append(('RFR', grid_6.best_estimator_))\n",
    "models.append(('MLP_R', grid_7.best_estimator_))\n",
    "\n",
    "r2 = []\n",
    "explained_variance_score = []\n",
    "median_absolute_error = []\n",
    "mean_squared_error = []\n",
    "mean_absolute_error = []\n",
    "for name, model in models:\n",
    "    print(name)\n",
    "    print(\"R^2: {}\".format(metrics.r2_score(y_test, model.predict(X_test)) ))\n",
    "    print(\"Explained variance score: {}\".format( metrics.explained_variance_score(y_test, model.predict(X_test)) ))\n",
    "    print(\"Median absolute error: {}\".format( metrics.median_absolute_error(y_test, model.predict(X_test)) ))\n",
    "    print(\"Mean squared error: {}\".format( metrics.mean_squared_error(y_test, model.predict(X_test)) ))\n",
    "    print(\"Mean absolute errors: {}\".format(metrics.mean_absolute_error(y_test, model.predict(X_test)) ))\n",
    "    r2.append(metrics.r2_score(y_test, model.predict(X_test)))\n",
    "    explained_variance_score.append(metrics.explained_variance_score(y_test, model.predict(X_test)))\n",
    "    median_absolute_error.append( metrics.median_absolute_error(y_test, model.predict(X_test)))\n",
    "    mean_squared_error.append(metrics.mean_squared_error(y_test, model.predict(X_test)))\n",
    "    mean_absolute_error.append(metrics.mean_absolute_error(y_test, model.predict(X_test)))"
   ]
  },
  {
   "cell_type": "code",
   "execution_count": 20,
   "metadata": {},
   "outputs": [
    {
     "data": {
      "text/html": [
       "<div>\n",
       "<style>\n",
       "    .dataframe thead tr:only-child th {\n",
       "        text-align: right;\n",
       "    }\n",
       "\n",
       "    .dataframe thead th {\n",
       "        text-align: left;\n",
       "    }\n",
       "\n",
       "    .dataframe tbody tr th {\n",
       "        vertical-align: top;\n",
       "    }\n",
       "</style>\n",
       "<table border=\"1\" class=\"dataframe\">\n",
       "  <thead>\n",
       "    <tr style=\"text-align: right;\">\n",
       "      <th></th>\n",
       "      <th>Method</th>\n",
       "      <th>explained_variance_score</th>\n",
       "      <th>mean_absolute_error</th>\n",
       "      <th>mean_squared_error</th>\n",
       "      <th>median_absolute_error</th>\n",
       "      <th>r2</th>\n",
       "    </tr>\n",
       "  </thead>\n",
       "  <tbody>\n",
       "    <tr>\n",
       "      <th>0</th>\n",
       "      <td>ElasticNet</td>\n",
       "      <td>0.294350</td>\n",
       "      <td>2.772276</td>\n",
       "      <td>13.320602</td>\n",
       "      <td>2.075935</td>\n",
       "      <td>0.293820</td>\n",
       "    </tr>\n",
       "    <tr>\n",
       "      <th>1</th>\n",
       "      <td>Lasso</td>\n",
       "      <td>0.331737</td>\n",
       "      <td>2.734802</td>\n",
       "      <td>12.616131</td>\n",
       "      <td>2.089431</td>\n",
       "      <td>0.331167</td>\n",
       "    </tr>\n",
       "    <tr>\n",
       "      <th>2</th>\n",
       "      <td>Ridge</td>\n",
       "      <td>0.361025</td>\n",
       "      <td>2.669543</td>\n",
       "      <td>12.060788</td>\n",
       "      <td>2.129773</td>\n",
       "      <td>0.360608</td>\n",
       "    </tr>\n",
       "    <tr>\n",
       "      <th>3</th>\n",
       "      <td>LR</td>\n",
       "      <td>0.421519</td>\n",
       "      <td>2.538852</td>\n",
       "      <td>10.966543</td>\n",
       "      <td>2.094421</td>\n",
       "      <td>0.418618</td>\n",
       "    </tr>\n",
       "    <tr>\n",
       "      <th>4</th>\n",
       "      <td>SVR</td>\n",
       "      <td>0.435732</td>\n",
       "      <td>2.442421</td>\n",
       "      <td>10.654511</td>\n",
       "      <td>1.714795</td>\n",
       "      <td>0.435160</td>\n",
       "    </tr>\n",
       "    <tr>\n",
       "      <th>5</th>\n",
       "      <td>RFR</td>\n",
       "      <td>0.446806</td>\n",
       "      <td>2.523993</td>\n",
       "      <td>10.945143</td>\n",
       "      <td>2.119667</td>\n",
       "      <td>0.419753</td>\n",
       "    </tr>\n",
       "    <tr>\n",
       "      <th>6</th>\n",
       "      <td>MLP_R</td>\n",
       "      <td>0.278538</td>\n",
       "      <td>3.347868</td>\n",
       "      <td>17.518827</td>\n",
       "      <td>2.652740</td>\n",
       "      <td>0.071255</td>\n",
       "    </tr>\n",
       "  </tbody>\n",
       "</table>\n",
       "</div>"
      ],
      "text/plain": [
       "       Method  explained_variance_score  mean_absolute_error  \\\n",
       "0  ElasticNet                  0.294350             2.772276   \n",
       "1       Lasso                  0.331737             2.734802   \n",
       "2       Ridge                  0.361025             2.669543   \n",
       "3          LR                  0.421519             2.538852   \n",
       "4         SVR                  0.435732             2.442421   \n",
       "5         RFR                  0.446806             2.523993   \n",
       "6       MLP_R                  0.278538             3.347868   \n",
       "\n",
       "   mean_squared_error  median_absolute_error        r2  \n",
       "0           13.320602               2.075935  0.293820  \n",
       "1           12.616131               2.089431  0.331167  \n",
       "2           12.060788               2.129773  0.360608  \n",
       "3           10.966543               2.094421  0.418618  \n",
       "4           10.654511               1.714795  0.435160  \n",
       "5           10.945143               2.119667  0.419753  \n",
       "6           17.518827               2.652740  0.071255  "
      ]
     },
     "execution_count": 20,
     "metadata": {},
     "output_type": "execute_result"
    }
   ],
   "source": [
    "import pandas as pd\n",
    "d = {'r2': r2, \n",
    "     'explained_variance_score': explained_variance_score, \n",
    "     'median_absolute_error': median_absolute_error,\n",
    "     'mean_squared_error' : mean_squared_error,\n",
    "     'mean_absolute_error' : mean_absolute_error,\n",
    "    }\n",
    "df = pd.DataFrame(data=d)\n",
    "df.insert(loc=0, column='Method', value=['ElasticNet','Lasso','Ridge','LR','SVR','RFR','MLP_R'])\n",
    "df"
   ]
  },
  {
   "cell_type": "code",
   "execution_count": null,
   "metadata": {
    "collapsed": true
   },
   "outputs": [],
   "source": []
  },
  {
   "cell_type": "code",
   "execution_count": null,
   "metadata": {
    "collapsed": true
   },
   "outputs": [],
   "source": []
  },
  {
   "cell_type": "code",
   "execution_count": null,
   "metadata": {
    "collapsed": true
   },
   "outputs": [],
   "source": []
  }
 ],
 "metadata": {
  "kernelspec": {
   "display_name": "Python 3",
   "language": "python",
   "name": "python3"
  },
  "language_info": {
   "codemirror_mode": {
    "name": "ipython",
    "version": 3
   },
   "file_extension": ".py",
   "mimetype": "text/x-python",
   "name": "python",
   "nbconvert_exporter": "python",
   "pygments_lexer": "ipython3",
   "version": "3.8.5"
  }
 },
 "nbformat": 4,
 "nbformat_minor": 2
}
