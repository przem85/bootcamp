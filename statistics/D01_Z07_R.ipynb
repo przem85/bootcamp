{
 "cells": [
  {
   "cell_type": "markdown",
   "metadata": {},
   "source": [
    "# Pobierzmy plik:\n",
    "https://github.com/PyHOGS/pyhogs-code/blob/master/data/CA2009.mat\n",
    "\n",
    "Poniższe polecenia pozwalają wczytać dana w formacie <tt>.mat</tt> (z pliku Matlab):\n"
   ]
  },
  {
   "cell_type": "code",
   "execution_count": 4,
   "metadata": {},
   "outputs": [],
   "source": [
    "import numpy as np\n",
    "import pandas as pd\n",
    "from scipy.io import loadmat\n",
    "import matplotlib.pyplot as plt\n",
    "data = loadmat('.\\CA2009.mat')"
   ]
  },
  {
   "cell_type": "markdown",
   "metadata": {},
   "source": [
    "Wypiszmy nazwy obiektów"
   ]
  },
  {
   "cell_type": "code",
   "execution_count": 2,
   "metadata": {},
   "outputs": [
    {
     "data": {
      "text/plain": [
       "dict_keys(['__header__', '__version__', '__globals__', 'CTPO_CA015_090429_001', 'CTPO_CA015_090603_001', 'CTPO_CA015_090728_001', 'CTPO_CA015_090902_001', 'CTPO_CA042_090429_001', 'CTPO_CA042_090603_001', 'CTPO_CA042_090728_001', 'CTPO_CA042_090902_001', 'CTPO_CA065_090429_001', 'CTPO_CA065_090603_001', 'CTPO_CA065_090728_001', 'CTPO_CA065_090902_001', 'CT_CA042_090429_038', 'CT_CA042_090603_038', 'CT_CA042_090728_038', 'CT_CA042_090902_038', 'F_CA042_090429_038', 'F_CA042_090603_038', 'F_CA042_090728_038', 'F_CA042_090902_038', 'T_CA015_090429_001', 'T_CA015_090429_010', 'T_CA015_090429_015', 'T_CA015_090603_001', 'T_CA015_090603_005', 'T_CA015_090603_015', 'T_CA015_090728_001', 'T_CA015_090728_005', 'T_CA015_090728_010', 'T_CA015_090728_015', 'T_CA015_090902_001', 'T_CA015_090902_005', 'T_CA015_090902_010', 'T_CA015_090902_015', 'T_CA042_090429_001', 'T_CA042_090429_010', 'T_CA042_090429_020', 'T_CA042_090429_030', 'T_CA042_090429_035', 'T_CA042_090429_042', 'T_CA042_090603_001', 'T_CA042_090603_010', 'T_CA042_090603_020', 'T_CA042_090603_030', 'T_CA042_090603_035', 'T_CA042_090728_001', 'T_CA042_090728_010', 'T_CA042_090728_020', 'T_CA042_090728_030', 'T_CA042_090728_035', 'T_CA042_090728_042', 'T_CA042_090902_001', 'T_CA042_090902_010', 'T_CA042_090902_020', 'T_CA042_090902_030', 'T_CA042_090902_035', 'T_CA042_090902_042', 'T_CA065_090429_001', 'T_CA065_090429_010', 'T_CA065_090429_020', 'T_CA065_090429_030', 'T_CA065_090429_040', 'T_CA065_090429_050', 'T_CA065_090429_060', 'T_CA065_090429_065', 'T_CA065_090603_001', 'T_CA065_090603_010', 'T_CA065_090603_020', 'T_CA065_090603_030', 'T_CA065_090603_040', 'T_CA065_090603_050', 'T_CA065_090603_060', 'T_CA065_090603_065', 'T_CA065_090728_001', 'T_CA065_090728_010', 'T_CA065_090728_020', 'T_CA065_090728_040', 'T_CA065_090728_050', 'T_CA065_090728_060', 'T_CA065_090910_001', 'T_CA065_090910_010', 'T_CA065_090910_020', 'T_CA065_090910_030', 'T_CA065_090910_040', 'T_CA065_090910_050', 'T_CA065_090910_060', 'T_CA065_090910_065'])"
      ]
     },
     "execution_count": 2,
     "metadata": {},
     "output_type": "execute_result"
    }
   ],
   "source": [
    "data\n",
    "data.keys()"
   ]
  },
  {
   "cell_type": "markdown",
   "metadata": {},
   "source": [
    "Wypiszmy jeden z nich"
   ]
  },
  {
   "cell_type": "code",
   "execution_count": 3,
   "metadata": {},
   "outputs": [
    {
     "name": "stdout",
     "output_type": "stream",
     "text": [
      "<class 'dict'>\n"
     ]
    }
   ],
   "source": [
    "print(type(data))"
   ]
  },
  {
   "cell_type": "code",
   "execution_count": 4,
   "metadata": {},
   "outputs": [
    {
     "name": "stdout",
     "output_type": "stream",
     "text": [
      "<class 'numpy.ndarray'>\n"
     ]
    }
   ],
   "source": [
    "print(type(data['T_CA065_090603_010']))"
   ]
  },
  {
   "cell_type": "markdown",
   "metadata": {},
   "source": [
    "Dane w plikach <tt>.mat</t> mogą posiadać bardzo skomplikowaną strukturę:"
   ]
  },
  {
   "cell_type": "code",
   "execution_count": 5,
   "metadata": {
    "collapsed": true
   },
   "outputs": [],
   "source": [
    "t = data['T_CA065_090603_010']"
   ]
  },
  {
   "cell_type": "code",
   "execution_count": 6,
   "metadata": {},
   "outputs": [
    {
     "data": {
      "text/plain": [
       "array([[ ([[(array([[ 733927.63291667],\n",
       "       [ 733927.63430556],\n",
       "       [ 733927.63569444],\n",
       "       ..., \n",
       "       [ 733972.55097222],\n",
       "       [ 733972.55236111],\n",
       "       [ 733972.55375   ]]), array([[ 7.01],\n",
       "       [ 7.01],\n",
       "       [ 7.01],\n",
       "       ..., \n",
       "       [ 7.33],\n",
       "       [ 7.33],\n",
       "       [ 7.48]]))]], [[(array([[ 6.9769],\n",
       "       [ 6.9768],\n",
       "       [ 6.9767],\n",
       "       ..., \n",
       "       [ 7.3305],\n",
       "       [ 7.331 ],\n",
       "       [ 7.3314]]),)]])]], \n",
       "      dtype=[('data', 'O'), ('lpdata', 'O')])"
      ]
     },
     "execution_count": 6,
     "metadata": {},
     "output_type": "execute_result"
    }
   ],
   "source": [
    "t"
   ]
  },
  {
   "cell_type": "code",
   "execution_count": 7,
   "metadata": {},
   "outputs": [
    {
     "name": "stdout",
     "output_type": "stream",
     "text": [
      "t['data'] is a: <class 'numpy.ndarray'> .. object .. (1, 1)\n",
      "t['data'][0,0] is a: <class 'numpy.ndarray'> .. [('time', 'O'), ('temp', 'O')] .. (1, 1)\n"
     ]
    }
   ],
   "source": [
    "def dtype_shape_str(x):\n",
    "    \"\"\" Return string containing the dtype and shape of x.\"\"\"\n",
    "    return str(type(x)) + \" .. \" + str(x.dtype) + \" .. \" + str(x.shape)\n",
    "\n",
    "print(\"t['data'] is a: \" + dtype_shape_str(t['data']))\n",
    "print(\"t['data'][0,0] is a: \" + dtype_shape_str(t['data'][0,0]))"
   ]
  },
  {
   "cell_type": "code",
   "execution_count": 8,
   "metadata": {},
   "outputs": [
    {
     "name": "stdout",
     "output_type": "stream",
     "text": [
      "t['data'][0,0]['time'] is a: <class 'numpy.ndarray'> .. object .. (1, 1)\n",
      "t['data'][0,0]['time'][0,0] is a: <class 'numpy.ndarray'> .. float64 .. (32344, 1)\n"
     ]
    }
   ],
   "source": [
    "print(\"t['data'][0,0]['time'] is a: \" + dtype_shape_str(t['data'][0,0]['time']))\n",
    "print(\"t['data'][0,0]['time'][0,0] is a: \" + dtype_shape_str(t['data'][0,0]['time'][0,0]))"
   ]
  },
  {
   "cell_type": "code",
   "execution_count": 9,
   "metadata": {},
   "outputs": [
    {
     "data": {
      "text/plain": [
       "array([[ 733927.63291667],\n",
       "       [ 733927.63430556],\n",
       "       [ 733927.63569444],\n",
       "       ..., \n",
       "       [ 733972.55097222],\n",
       "       [ 733972.55236111],\n",
       "       [ 733972.55375   ]])"
      ]
     },
     "execution_count": 9,
     "metadata": {},
     "output_type": "execute_result"
    }
   ],
   "source": [
    "t['data'][0,0]['time'][0,0]"
   ]
  },
  {
   "cell_type": "markdown",
   "metadata": {},
   "source": [
    "# Zad. 1\n",
    "Proszę odczytać dane <tt>'time'</tt> oraz <tt>'temp'</tt> oraz je narysować."
   ]
  },
  {
   "cell_type": "code",
   "execution_count": 10,
   "metadata": {
    "collapsed": true
   },
   "outputs": [],
   "source": [
    "data1=t['data'][0,0]['time'][0,0]\n",
    "data2=t['data'][0,0]['temp'][0,0]"
   ]
  },
  {
   "cell_type": "code",
   "execution_count": 11,
   "metadata": {},
   "outputs": [
    {
     "data": {
      "image/png": "[encoded data removed]",
      "text/plain": [
       "<matplotlib.figure.Figure at 0xe262b1e668>"
      ]
     },
     "metadata": {},
     "output_type": "display_data"
    }
   ],
   "source": [
    "# Show the data: first all of them ....\n",
    "plt.plot(data1,data2, 'o')\n",
    "plt.title('Data 1')\n",
    "plt.show()"
   ]
  },
  {
   "cell_type": "code",
   "execution_count": 120,
   "metadata": {},
   "outputs": [
    {
     "data": {
      "text/html": [
       "<div>\n",
       "<table border=\"1\" class=\"dataframe\">\n",
       "  <thead>\n",
       "    <tr style=\"text-align: right;\">\n",
       "      <th></th>\n",
       "      <th>0</th>\n",
       "      <th>1</th>\n",
       "    </tr>\n",
       "  </thead>\n",
       "  <tbody>\n",
       "    <tr>\n",
       "      <th>0</th>\n",
       "      <td>733927.632917</td>\n",
       "      <td>7.01</td>\n",
       "    </tr>\n",
       "    <tr>\n",
       "      <th>1</th>\n",
       "      <td>733927.634306</td>\n",
       "      <td>7.01</td>\n",
       "    </tr>\n",
       "    <tr>\n",
       "      <th>2</th>\n",
       "      <td>733927.635694</td>\n",
       "      <td>7.01</td>\n",
       "    </tr>\n",
       "    <tr>\n",
       "      <th>3</th>\n",
       "      <td>733927.637083</td>\n",
       "      <td>7.01</td>\n",
       "    </tr>\n",
       "    <tr>\n",
       "      <th>4</th>\n",
       "      <td>733927.638472</td>\n",
       "      <td>7.01</td>\n",
       "    </tr>\n",
       "  </tbody>\n",
       "</table>\n",
       "</div>"
      ],
      "text/plain": [
       "               0     1\n",
       "0  733927.632917  7.01\n",
       "1  733927.634306  7.01\n",
       "2  733927.635694  7.01\n",
       "3  733927.637083  7.01\n",
       "4  733927.638472  7.01"
      ]
     },
     "execution_count": 120,
     "metadata": {},
     "output_type": "execute_result"
    }
   ],
   "source": [
    "df = pd.DataFrame(np.column_stack((data1,data2)))\n",
    "df.head()"
   ]
  },
  {
   "cell_type": "code",
   "execution_count": null,
   "metadata": {
    "collapsed": true
   },
   "outputs": [],
   "source": []
  },
  {
   "cell_type": "code",
   "execution_count": null,
   "metadata": {
    "collapsed": true
   },
   "outputs": [],
   "source": []
  }
 ],
 "metadata": {
  "kernelspec": {
   "display_name": "Python 3",
   "language": "python",
   "name": "python3"
  },
  "language_info": {
   "codemirror_mode": {
    "name": "ipython",
    "version": 3
   },
   "file_extension": ".py",
   "mimetype": "text/x-python",
   "name": "python",
   "nbconvert_exporter": "python",
   "pygments_lexer": "ipython3",
   "version": "3.6.3"
  }
 },
 "nbformat": 4,
 "nbformat_minor": 1
}
