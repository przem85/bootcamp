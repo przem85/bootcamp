{
 "cells": [
  {
   "cell_type": "markdown",
   "metadata": {
    "collapsed": true
   },
   "source": [
    "# Time Series vs Supervised Learning"
   ]
  },
  {
   "cell_type": "code",
   "execution_count": 1,
   "metadata": {},
   "outputs": [
    {
     "name": "stderr",
     "output_type": "stream",
     "text": [
      "<ipython-input-1-f07320bac010>:4: FutureWarning: The pandas.datetime class is deprecated and will be removed from pandas in a future version. Import from datetime module instead.\n",
      "  from pandas import datetime\n"
     ]
    }
   ],
   "source": [
    "import numpy as np\n",
    "import pandas as pd\n",
    "from pandas import read_csv\n",
    "from pandas import datetime\n",
    "from pandas import Series\n",
    "import matplotlib.pyplot as plt\n",
    "from sklearn.preprocessing import PolynomialFeatures\n",
    "from sklearn.linear_model import ElasticNet\n",
    "from sklearn.pipeline import make_pipeline\n",
    "from sklearn.linear_model import Ridge\n",
    "from sklearn.linear_model import Lasso\n",
    "from sklearn.linear_model import LinearRegression\n",
    "from sklearn.neural_network import MLPRegressor\n",
    "from sklearn.model_selection import GridSearchCV"
   ]
  },
  {
   "cell_type": "markdown",
   "metadata": {},
   "source": [
    "# Zadanie\n",
    "Wczytaj dane \"Monthly Car Sales Dataset\", które pisują liczbę sprzedanych samochodów w Quebec, Kanada w latach 1960 i 1968."
   ]
  },
  {
   "cell_type": "code",
   "execution_count": 2,
   "metadata": {},
   "outputs": [
    {
     "ename": "AttributeError",
     "evalue": "type object 'Series' has no attribute 'from_csv'",
     "output_type": "error",
     "traceback": [
      "\u001b[1;31m---------------------------------------------------------------------------\u001b[0m",
      "\u001b[1;31mAttributeError\u001b[0m                            Traceback (most recent call last)",
      "\u001b[1;32m<ipython-input-2-996707782a21>\u001b[0m in \u001b[0;36m<module>\u001b[1;34m\u001b[0m\n\u001b[1;32m----> 1\u001b[1;33m \u001b[0mseries_row\u001b[0m \u001b[1;33m=\u001b[0m \u001b[0mSeries\u001b[0m\u001b[1;33m.\u001b[0m\u001b[0mfrom_csv\u001b[0m\u001b[1;33m(\u001b[0m\u001b[1;34m'./monthly-car-sales-in-quebec-1960.csv'\u001b[0m\u001b[1;33m,\u001b[0m \u001b[0mheader\u001b[0m\u001b[1;33m=\u001b[0m\u001b[1;36m0\u001b[0m\u001b[1;33m)\u001b[0m\u001b[1;33m\u001b[0m\u001b[1;33m\u001b[0m\u001b[0m\n\u001b[0m\u001b[0;32m      2\u001b[0m \u001b[0mprint\u001b[0m\u001b[1;33m(\u001b[0m\u001b[0mseries_row\u001b[0m\u001b[1;33m.\u001b[0m\u001b[0mhead\u001b[0m\u001b[1;33m(\u001b[0m\u001b[1;36m5\u001b[0m\u001b[1;33m)\u001b[0m\u001b[1;33m)\u001b[0m\u001b[1;33m\u001b[0m\u001b[1;33m\u001b[0m\u001b[0m\n",
      "\u001b[1;31mAttributeError\u001b[0m: type object 'Series' has no attribute 'from_csv'"
     ]
    }
   ],
   "source": [
    "series_row = Series.from_csv('./monthly-car-sales-in-quebec-1960.csv', header=0)\n",
    "print(series_row.head(5))"
   ]
  },
  {
   "cell_type": "code",
   "execution_count": null,
   "metadata": {},
   "outputs": [],
   "source": [
    "plt.figure(figsize=(10,6));\n",
    "series.plot()\n",
    "plt.show()"
   ]
  },
  {
   "cell_type": "code",
   "execution_count": 6,
   "metadata": {
    "collapsed": true
   },
   "outputs": [],
   "source": [
    "def series_to_supervised(data, n_in=1, n_out=1, dropnan=True):\n",
    "    \"\"\"\n",
    "    Frame a time series as a supervised learning dataset.\n",
    "    Arguments:\n",
    "        data: Sequence of observations as a list or NumPy array.\n",
    "        n_in: Number of lag observations as input (X).\n",
    "        n_out: Number of observations as output (y).\n",
    "        dropnan: Boolean whether or not to drop rows with NaN values.\n",
    "    Returns:\n",
    "        Pandas DataFrame of series framed for supervised learning.\n",
    "    \"\"\"\n",
    "    n_vars = 1 if type(data) is list else data.shape[1]\n",
    "    df = pd.DataFrame(data)\n",
    "    cols, names = list(), list()\n",
    "    # input sequence (t-n, ... t-1)\n",
    "    for i in range(n_in, 0, -1):\n",
    "        cols.append(df.shift(i))\n",
    "        names += [('var%d(t-%d)' % (j+1, i)) for j in range(n_vars)]\n",
    "    # forecast sequence (t, t+1, ... t+n)\n",
    "    for i in range(0, n_out):\n",
    "        cols.append(df.shift(-i))\n",
    "        if i == 0:\n",
    "            names += [('var%d(t)' % (j+1)) for j in range(n_vars)]\n",
    "        else:\n",
    "            names += [('var%d(t+%d)' % (j+1, i)) for j in range(n_vars)]\n",
    "    # put it all together\n",
    "    agg = pd.concat(cols, axis=1)\n",
    "    agg.columns = names\n",
    "    # drop rows with NaN values\n",
    "    if dropnan:\n",
    "        agg.dropna(inplace=True)\n",
    "    return agg"
   ]
  },
  {
   "cell_type": "code",
   "execution_count": 7,
   "metadata": {
    "collapsed": true
   },
   "outputs": [],
   "source": [
    "series_row_np = series_row.values\n",
    "test_series = series_row.values[-20:]\n",
    "series = series_row.values[:-20]"
   ]
  },
  {
   "cell_type": "code",
   "execution_count": 8,
   "metadata": {},
   "outputs": [
    {
     "name": "stdout",
     "output_type": "stream",
     "text": [
      "(20,)\n",
      "(88,)\n"
     ]
    }
   ],
   "source": [
    "print(test_series.shape)\n",
    "print(series.shape)"
   ]
  },
  {
   "cell_type": "code",
   "execution_count": 9,
   "metadata": {},
   "outputs": [
    {
     "data": {
      "text/html": [
       "<div>\n",
       "<style>\n",
       "    .dataframe thead tr:only-child th {\n",
       "        text-align: right;\n",
       "    }\n",
       "\n",
       "    .dataframe thead th {\n",
       "        text-align: left;\n",
       "    }\n",
       "\n",
       "    .dataframe tbody tr th {\n",
       "        vertical-align: top;\n",
       "    }\n",
       "</style>\n",
       "<table border=\"1\" class=\"dataframe\">\n",
       "  <thead>\n",
       "    <tr style=\"text-align: right;\">\n",
       "      <th></th>\n",
       "      <th>var1(t-15)</th>\n",
       "      <th>var1(t-14)</th>\n",
       "      <th>var1(t-13)</th>\n",
       "      <th>var1(t-12)</th>\n",
       "      <th>var1(t-11)</th>\n",
       "      <th>var1(t-10)</th>\n",
       "      <th>var1(t-9)</th>\n",
       "      <th>var1(t-8)</th>\n",
       "      <th>var1(t-7)</th>\n",
       "      <th>var1(t-6)</th>\n",
       "      <th>var1(t-5)</th>\n",
       "      <th>var1(t-4)</th>\n",
       "      <th>var1(t-3)</th>\n",
       "      <th>var1(t-2)</th>\n",
       "      <th>var1(t-1)</th>\n",
       "      <th>var1(t)</th>\n",
       "    </tr>\n",
       "  </thead>\n",
       "  <tbody>\n",
       "    <tr>\n",
       "      <th>15</th>\n",
       "      <td>6550.0</td>\n",
       "      <td>8728.0</td>\n",
       "      <td>12026.0</td>\n",
       "      <td>14395.0</td>\n",
       "      <td>14587.0</td>\n",
       "      <td>13791.0</td>\n",
       "      <td>9498.0</td>\n",
       "      <td>8251.0</td>\n",
       "      <td>7049.0</td>\n",
       "      <td>9545.0</td>\n",
       "      <td>9364.0</td>\n",
       "      <td>8456.0</td>\n",
       "      <td>7237.0</td>\n",
       "      <td>9374.0</td>\n",
       "      <td>11837.0</td>\n",
       "      <td>13784</td>\n",
       "    </tr>\n",
       "    <tr>\n",
       "      <th>16</th>\n",
       "      <td>8728.0</td>\n",
       "      <td>12026.0</td>\n",
       "      <td>14395.0</td>\n",
       "      <td>14587.0</td>\n",
       "      <td>13791.0</td>\n",
       "      <td>9498.0</td>\n",
       "      <td>8251.0</td>\n",
       "      <td>7049.0</td>\n",
       "      <td>9545.0</td>\n",
       "      <td>9364.0</td>\n",
       "      <td>8456.0</td>\n",
       "      <td>7237.0</td>\n",
       "      <td>9374.0</td>\n",
       "      <td>11837.0</td>\n",
       "      <td>13784.0</td>\n",
       "      <td>15926</td>\n",
       "    </tr>\n",
       "    <tr>\n",
       "      <th>17</th>\n",
       "      <td>12026.0</td>\n",
       "      <td>14395.0</td>\n",
       "      <td>14587.0</td>\n",
       "      <td>13791.0</td>\n",
       "      <td>9498.0</td>\n",
       "      <td>8251.0</td>\n",
       "      <td>7049.0</td>\n",
       "      <td>9545.0</td>\n",
       "      <td>9364.0</td>\n",
       "      <td>8456.0</td>\n",
       "      <td>7237.0</td>\n",
       "      <td>9374.0</td>\n",
       "      <td>11837.0</td>\n",
       "      <td>13784.0</td>\n",
       "      <td>15926.0</td>\n",
       "      <td>13821</td>\n",
       "    </tr>\n",
       "    <tr>\n",
       "      <th>18</th>\n",
       "      <td>14395.0</td>\n",
       "      <td>14587.0</td>\n",
       "      <td>13791.0</td>\n",
       "      <td>9498.0</td>\n",
       "      <td>8251.0</td>\n",
       "      <td>7049.0</td>\n",
       "      <td>9545.0</td>\n",
       "      <td>9364.0</td>\n",
       "      <td>8456.0</td>\n",
       "      <td>7237.0</td>\n",
       "      <td>9374.0</td>\n",
       "      <td>11837.0</td>\n",
       "      <td>13784.0</td>\n",
       "      <td>15926.0</td>\n",
       "      <td>13821.0</td>\n",
       "      <td>11143</td>\n",
       "    </tr>\n",
       "    <tr>\n",
       "      <th>19</th>\n",
       "      <td>14587.0</td>\n",
       "      <td>13791.0</td>\n",
       "      <td>9498.0</td>\n",
       "      <td>8251.0</td>\n",
       "      <td>7049.0</td>\n",
       "      <td>9545.0</td>\n",
       "      <td>9364.0</td>\n",
       "      <td>8456.0</td>\n",
       "      <td>7237.0</td>\n",
       "      <td>9374.0</td>\n",
       "      <td>11837.0</td>\n",
       "      <td>13784.0</td>\n",
       "      <td>15926.0</td>\n",
       "      <td>13821.0</td>\n",
       "      <td>11143.0</td>\n",
       "      <td>7975</td>\n",
       "    </tr>\n",
       "  </tbody>\n",
       "</table>\n",
       "</div>"
      ],
      "text/plain": [
       "    var1(t-15)  var1(t-14)  var1(t-13)  var1(t-12)  var1(t-11)  var1(t-10)  \\\n",
       "15      6550.0      8728.0     12026.0     14395.0     14587.0     13791.0   \n",
       "16      8728.0     12026.0     14395.0     14587.0     13791.0      9498.0   \n",
       "17     12026.0     14395.0     14587.0     13791.0      9498.0      8251.0   \n",
       "18     14395.0     14587.0     13791.0      9498.0      8251.0      7049.0   \n",
       "19     14587.0     13791.0      9498.0      8251.0      7049.0      9545.0   \n",
       "\n",
       "    var1(t-9)  var1(t-8)  var1(t-7)  var1(t-6)  var1(t-5)  var1(t-4)  \\\n",
       "15     9498.0     8251.0     7049.0     9545.0     9364.0     8456.0   \n",
       "16     8251.0     7049.0     9545.0     9364.0     8456.0     7237.0   \n",
       "17     7049.0     9545.0     9364.0     8456.0     7237.0     9374.0   \n",
       "18     9545.0     9364.0     8456.0     7237.0     9374.0    11837.0   \n",
       "19     9364.0     8456.0     7237.0     9374.0    11837.0    13784.0   \n",
       "\n",
       "    var1(t-3)  var1(t-2)  var1(t-1)  var1(t)  \n",
       "15     7237.0     9374.0    11837.0    13784  \n",
       "16     9374.0    11837.0    13784.0    15926  \n",
       "17    11837.0    13784.0    15926.0    13821  \n",
       "18    13784.0    15926.0    13821.0    11143  \n",
       "19    15926.0    13821.0    11143.0     7975  "
      ]
     },
     "execution_count": 9,
     "metadata": {},
     "output_type": "execute_result"
    }
   ],
   "source": [
    "df = pd.DataFrame()\n",
    "df['t'] = [x for x in series]\n",
    "dataframe = series_to_supervised(df, 15)\n",
    "dataframe.head()"
   ]
  },
  {
   "cell_type": "markdown",
   "metadata": {
    "collapsed": true
   },
   "source": [
    "# Zadanie\n",
    "Proszę wybrać optymalną metodę regresji do powyższych danych.\n",
    "\n",
    "  * prosze podzielić zbiór danych na czść treningową i testową\n",
    "  * proszę za pomoca cross validat-cji dobrać optymalne parametry\n",
    "  * proszę wypisać zbiorcza tabelę z wynikami względem miar\n",
    "    * explained_variance_score\n",
    "    * mean_absolute_error\n",
    "    * mean_squared_error\n",
    "    * median_absolute_error\n",
    "    * r2\n",
    "  * Proszę użyć  \n",
    "    * ElasticNet sklearn.linear_model.ElasticNet\n",
    "    * Lasso sklearn.linear_model.Lasso\n",
    "    * Ridge sklearn.linear_model.Ridge\n",
    "    * LR sklearn.linear_model.LinearRegression\n",
    "    * SVR sklearn.svm.SVR\n",
    "    * RFR sklearn.ensemble.RandomForestRegressor\n",
    "    * MLP_R sklearn.neural_network.MLPRegressor "
   ]
  },
  {
   "cell_type": "code",
   "execution_count": 10,
   "metadata": {
    "collapsed": true
   },
   "outputs": [],
   "source": [
    "array = dataframe.values\n",
    "# split into input and output\n",
    "X = array[:,0:-1]\n",
    "y = array[:,-1]"
   ]
  },
  {
   "cell_type": "code",
   "execution_count": 11,
   "metadata": {
    "collapsed": true
   },
   "outputs": [],
   "source": [
    "from sklearn.model_selection import train_test_split\n",
    "X_train, X_test, y_train, y_test = train_test_split(X, y, test_size=0.20, random_state=42)"
   ]
  },
  {
   "cell_type": "code",
   "execution_count": 12,
   "metadata": {
    "collapsed": true
   },
   "outputs": [],
   "source": [
    "seed=123\n",
    "from sklearn import model_selection\n",
    "kfold = model_selection.KFold(n_splits=4, random_state=seed)"
   ]
  },
  {
   "cell_type": "code",
   "execution_count": 13,
   "metadata": {},
   "outputs": [
    {
     "name": "stdout",
     "output_type": "stream",
     "text": [
      "{'elasticnet__alpha': 3.0, 'polynomialfeatures__degree': 1}\n"
     ]
    },
    {
     "data": {
      "text/plain": [
       "Pipeline(memory=None,\n",
       "     steps=[('polynomialfeatures', PolynomialFeatures(degree=1, include_bias=True, interaction_only=False)), ('elasticnet', ElasticNet(alpha=3.0, copy_X=True, fit_intercept=True, l1_ratio=0.5,\n",
       "      max_iter=1000, normalize=False, positive=False, precompute=False,\n",
       "      random_state=None, selection='cyclic', tol=0.1, warm_start=False))])"
      ]
     },
     "execution_count": 13,
     "metadata": {},
     "output_type": "execute_result"
    }
   ],
   "source": [
    "grid_1 = GridSearchCV(make_pipeline(PolynomialFeatures(degree=2), ElasticNet(alpha=1, tol=0.1)),\n",
    "                    param_grid={'polynomialfeatures__degree': [1, 2, 3, 4],\n",
    "                    'elasticnet__alpha': [1., 2., 3.]},\n",
    "                    cv=kfold,\n",
    "                    refit=True)\n",
    "grid_1.fit(X_train, y_train)\n",
    "print(grid_1.best_params_)\n",
    "grid_1.best_estimator_\n"
   ]
  },
  {
   "cell_type": "code",
   "execution_count": 14,
   "metadata": {},
   "outputs": [
    {
     "name": "stdout",
     "output_type": "stream",
     "text": [
      "{'lasso__alpha': 3.0, 'polynomialfeatures__degree': 1}\n"
     ]
    },
    {
     "data": {
      "text/plain": [
       "Pipeline(memory=None,\n",
       "     steps=[('polynomialfeatures', PolynomialFeatures(degree=1, include_bias=True, interaction_only=False)), ('lasso', Lasso(alpha=3.0, copy_X=True, fit_intercept=True, max_iter=1000,\n",
       "   normalize=False, positive=False, precompute=False, random_state=None,\n",
       "   selection='cyclic', tol=0.1, warm_start=False))])"
      ]
     },
     "execution_count": 14,
     "metadata": {},
     "output_type": "execute_result"
    }
   ],
   "source": [
    "grid_2 = GridSearchCV(make_pipeline(PolynomialFeatures(degree=2), Lasso(alpha=1, tol=0.1)),\n",
    "                    param_grid={'polynomialfeatures__degree': [1, 2, 3, 4],\n",
    "                    'lasso__alpha': [1., 2., 3.]},\n",
    "                    cv=kfold,\n",
    "                    refit=True)\n",
    "grid_2.fit(X_train, y_train)\n",
    "print(grid_2.best_params_)\n",
    "grid_2.best_estimator_"
   ]
  },
  {
   "cell_type": "code",
   "execution_count": 15,
   "metadata": {},
   "outputs": [
    {
     "name": "stderr",
     "output_type": "stream",
     "text": [
      "C:\\Users\\admin\\Anaconda3\\lib\\site-packages\\sklearn\\linear_model\\ridge.py:152: LinAlgWarning: Ill-conditioned matrix (rcond=1.20168e-18): result may not be accurate.\n",
      "  overwrite_a=False)\n",
      "C:\\Users\\admin\\Anaconda3\\lib\\site-packages\\sklearn\\linear_model\\ridge.py:152: LinAlgWarning: Ill-conditioned matrix (rcond=5.68586e-18): result may not be accurate.\n",
      "  overwrite_a=False)\n",
      "C:\\Users\\admin\\Anaconda3\\lib\\site-packages\\sklearn\\linear_model\\ridge.py:152: LinAlgWarning: Ill-conditioned matrix (rcond=4.86708e-18): result may not be accurate.\n",
      "  overwrite_a=False)\n",
      "C:\\Users\\admin\\Anaconda3\\lib\\site-packages\\sklearn\\linear_model\\ridge.py:152: LinAlgWarning: Ill-conditioned matrix (rcond=1.10031e-17): result may not be accurate.\n",
      "  overwrite_a=False)\n",
      "C:\\Users\\admin\\Anaconda3\\lib\\site-packages\\sklearn\\linear_model\\ridge.py:152: LinAlgWarning: Ill-conditioned matrix (rcond=1.20168e-18): result may not be accurate.\n",
      "  overwrite_a=False)\n",
      "C:\\Users\\admin\\Anaconda3\\lib\\site-packages\\sklearn\\linear_model\\ridge.py:152: LinAlgWarning: Ill-conditioned matrix (rcond=5.68586e-18): result may not be accurate.\n",
      "  overwrite_a=False)\n",
      "C:\\Users\\admin\\Anaconda3\\lib\\site-packages\\sklearn\\linear_model\\ridge.py:152: LinAlgWarning: Ill-conditioned matrix (rcond=4.86708e-18): result may not be accurate.\n",
      "  overwrite_a=False)\n",
      "C:\\Users\\admin\\Anaconda3\\lib\\site-packages\\sklearn\\linear_model\\ridge.py:152: LinAlgWarning: Ill-conditioned matrix (rcond=1.10031e-17): result may not be accurate.\n",
      "  overwrite_a=False)\n",
      "C:\\Users\\admin\\Anaconda3\\lib\\site-packages\\sklearn\\linear_model\\ridge.py:152: LinAlgWarning: Ill-conditioned matrix (rcond=1.20168e-18): result may not be accurate.\n",
      "  overwrite_a=False)\n",
      "C:\\Users\\admin\\Anaconda3\\lib\\site-packages\\sklearn\\linear_model\\ridge.py:152: LinAlgWarning: Ill-conditioned matrix (rcond=5.68586e-18): result may not be accurate.\n",
      "  overwrite_a=False)\n",
      "C:\\Users\\admin\\Anaconda3\\lib\\site-packages\\sklearn\\linear_model\\ridge.py:152: LinAlgWarning: Ill-conditioned matrix (rcond=4.86708e-18): result may not be accurate.\n",
      "  overwrite_a=False)\n",
      "C:\\Users\\admin\\Anaconda3\\lib\\site-packages\\sklearn\\linear_model\\ridge.py:152: LinAlgWarning: Ill-conditioned matrix (rcond=1.10031e-17): result may not be accurate.\n",
      "  overwrite_a=False)\n",
      "C:\\Users\\admin\\Anaconda3\\lib\\site-packages\\sklearn\\linear_model\\ridge.py:154: UserWarning: Singular matrix in solving dual problem. Using least-squares solution instead.\n",
      "  warnings.warn(\"Singular matrix in solving dual problem. Using \"\n",
      "C:\\Users\\admin\\Anaconda3\\lib\\site-packages\\sklearn\\linear_model\\ridge.py:152: LinAlgWarning: Ill-conditioned matrix (rcond=2.25137e-18): result may not be accurate.\n",
      "  overwrite_a=False)\n",
      "C:\\Users\\admin\\Anaconda3\\lib\\site-packages\\sklearn\\linear_model\\ridge.py:152: LinAlgWarning: Ill-conditioned matrix (rcond=5.20127e-19): result may not be accurate.\n",
      "  overwrite_a=False)\n",
      "C:\\Users\\admin\\Anaconda3\\lib\\site-packages\\sklearn\\linear_model\\ridge.py:154: UserWarning: Singular matrix in solving dual problem. Using least-squares solution instead.\n",
      "  warnings.warn(\"Singular matrix in solving dual problem. Using \"\n",
      "C:\\Users\\admin\\Anaconda3\\lib\\site-packages\\sklearn\\linear_model\\ridge.py:154: UserWarning: Singular matrix in solving dual problem. Using least-squares solution instead.\n",
      "  warnings.warn(\"Singular matrix in solving dual problem. Using \"\n",
      "C:\\Users\\admin\\Anaconda3\\lib\\site-packages\\sklearn\\linear_model\\ridge.py:152: LinAlgWarning: Ill-conditioned matrix (rcond=2.25137e-18): result may not be accurate.\n",
      "  overwrite_a=False)\n",
      "C:\\Users\\admin\\Anaconda3\\lib\\site-packages\\sklearn\\linear_model\\ridge.py:152: LinAlgWarning: Ill-conditioned matrix (rcond=5.20127e-19): result may not be accurate.\n",
      "  overwrite_a=False)\n",
      "C:\\Users\\admin\\Anaconda3\\lib\\site-packages\\sklearn\\linear_model\\ridge.py:154: UserWarning: Singular matrix in solving dual problem. Using least-squares solution instead.\n",
      "  warnings.warn(\"Singular matrix in solving dual problem. Using \"\n",
      "C:\\Users\\admin\\Anaconda3\\lib\\site-packages\\sklearn\\linear_model\\ridge.py:154: UserWarning: Singular matrix in solving dual problem. Using least-squares solution instead.\n",
      "  warnings.warn(\"Singular matrix in solving dual problem. Using \"\n",
      "C:\\Users\\admin\\Anaconda3\\lib\\site-packages\\sklearn\\linear_model\\ridge.py:152: LinAlgWarning: Ill-conditioned matrix (rcond=2.25137e-18): result may not be accurate.\n",
      "  overwrite_a=False)\n",
      "C:\\Users\\admin\\Anaconda3\\lib\\site-packages\\sklearn\\linear_model\\ridge.py:152: LinAlgWarning: Ill-conditioned matrix (rcond=5.20127e-19): result may not be accurate.\n",
      "  overwrite_a=False)\n",
      "C:\\Users\\admin\\Anaconda3\\lib\\site-packages\\sklearn\\linear_model\\ridge.py:154: UserWarning: Singular matrix in solving dual problem. Using least-squares solution instead.\n",
      "  warnings.warn(\"Singular matrix in solving dual problem. Using \"\n",
      "C:\\Users\\admin\\Anaconda3\\lib\\site-packages\\sklearn\\linear_model\\ridge.py:152: LinAlgWarning: Ill-conditioned matrix (rcond=3.25539e-18): result may not be accurate.\n",
      "  overwrite_a=False)\n",
      "C:\\Users\\admin\\Anaconda3\\lib\\site-packages\\sklearn\\linear_model\\ridge.py:154: UserWarning: Singular matrix in solving dual problem. Using least-squares solution instead.\n",
      "  warnings.warn(\"Singular matrix in solving dual problem. Using \"\n",
      "C:\\Users\\admin\\Anaconda3\\lib\\site-packages\\sklearn\\linear_model\\ridge.py:152: LinAlgWarning: Ill-conditioned matrix (rcond=6.8687e-18): result may not be accurate.\n",
      "  overwrite_a=False)\n",
      "C:\\Users\\admin\\Anaconda3\\lib\\site-packages\\sklearn\\linear_model\\ridge.py:154: UserWarning: Singular matrix in solving dual problem. Using least-squares solution instead.\n",
      "  warnings.warn(\"Singular matrix in solving dual problem. Using \"\n",
      "C:\\Users\\admin\\Anaconda3\\lib\\site-packages\\sklearn\\linear_model\\ridge.py:152: LinAlgWarning: Ill-conditioned matrix (rcond=3.25539e-18): result may not be accurate.\n",
      "  overwrite_a=False)\n",
      "C:\\Users\\admin\\Anaconda3\\lib\\site-packages\\sklearn\\linear_model\\ridge.py:154: UserWarning: Singular matrix in solving dual problem. Using least-squares solution instead.\n",
      "  warnings.warn(\"Singular matrix in solving dual problem. Using \"\n",
      "C:\\Users\\admin\\Anaconda3\\lib\\site-packages\\sklearn\\linear_model\\ridge.py:152: LinAlgWarning: Ill-conditioned matrix (rcond=6.8687e-18): result may not be accurate.\n",
      "  overwrite_a=False)\n",
      "C:\\Users\\admin\\Anaconda3\\lib\\site-packages\\sklearn\\linear_model\\ridge.py:154: UserWarning: Singular matrix in solving dual problem. Using least-squares solution instead.\n",
      "  warnings.warn(\"Singular matrix in solving dual problem. Using \"\n",
      "C:\\Users\\admin\\Anaconda3\\lib\\site-packages\\sklearn\\linear_model\\ridge.py:152: LinAlgWarning: Ill-conditioned matrix (rcond=3.25539e-18): result may not be accurate.\n",
      "  overwrite_a=False)\n",
      "C:\\Users\\admin\\Anaconda3\\lib\\site-packages\\sklearn\\linear_model\\ridge.py:154: UserWarning: Singular matrix in solving dual problem. Using least-squares solution instead.\n",
      "  warnings.warn(\"Singular matrix in solving dual problem. Using \"\n",
      "C:\\Users\\admin\\Anaconda3\\lib\\site-packages\\sklearn\\linear_model\\ridge.py:152: LinAlgWarning: Ill-conditioned matrix (rcond=6.8687e-18): result may not be accurate.\n",
      "  overwrite_a=False)\n"
     ]
    },
    {
     "name": "stdout",
     "output_type": "stream",
     "text": [
      "{'polynomialfeatures__degree': 1, 'ridge__alpha': 3.0}\n"
     ]
    },
    {
     "name": "stderr",
     "output_type": "stream",
     "text": [
      "C:\\Users\\admin\\Anaconda3\\lib\\site-packages\\sklearn\\linear_model\\ridge.py:154: UserWarning: Singular matrix in solving dual problem. Using least-squares solution instead.\n",
      "  warnings.warn(\"Singular matrix in solving dual problem. Using \"\n"
     ]
    },
    {
     "data": {
      "text/plain": [
       "Pipeline(memory=None,\n",
       "     steps=[('polynomialfeatures', PolynomialFeatures(degree=1, include_bias=True, interaction_only=False)), ('ridge', Ridge(alpha=3.0, copy_X=True, fit_intercept=True, max_iter=None,\n",
       "   normalize=False, random_state=None, solver='auto', tol=0.1))])"
      ]
     },
     "execution_count": 15,
     "metadata": {},
     "output_type": "execute_result"
    }
   ],
   "source": [
    "grid_3 = GridSearchCV(make_pipeline(PolynomialFeatures(degree=2), Ridge(alpha=1, tol=0.1)),\n",
    "                    param_grid={'polynomialfeatures__degree': [1, 2, 3, 4],\n",
    "                    'ridge__alpha': [1., 2., 3.]},\n",
    "                    cv=kfold,\n",
    "                    refit=True)\n",
    "grid_3.fit(X_train, y_train)\n",
    "print(grid_3.best_params_)\n",
    "grid_3.best_estimator_"
   ]
  },
  {
   "cell_type": "code",
   "execution_count": 16,
   "metadata": {},
   "outputs": [
    {
     "name": "stdout",
     "output_type": "stream",
     "text": [
      "{'polynomialfeatures__degree': 1}\n"
     ]
    },
    {
     "data": {
      "text/plain": [
       "Pipeline(memory=None,\n",
       "     steps=[('polynomialfeatures', PolynomialFeatures(degree=1, include_bias=True, interaction_only=False)), ('linearregression', LinearRegression(copy_X=True, fit_intercept=True, n_jobs=1, normalize=False))])"
      ]
     },
     "execution_count": 16,
     "metadata": {},
     "output_type": "execute_result"
    }
   ],
   "source": [
    "grid_4 = GridSearchCV(make_pipeline(PolynomialFeatures(degree=2), LinearRegression()),\n",
    "                    param_grid={'polynomialfeatures__degree': [1, 2, 3, 4]},\n",
    "                    cv=kfold,\n",
    "                    refit=True)\n",
    "grid_4.fit(X_train, y_train)\n",
    "print(grid_4.best_params_)\n",
    "grid_4.best_estimator_"
   ]
  },
  {
   "cell_type": "code",
   "execution_count": 17,
   "metadata": {},
   "outputs": [
    {
     "name": "stdout",
     "output_type": "stream",
     "text": [
      "{'C': 1000, 'gamma': 1e-09}\n"
     ]
    },
    {
     "data": {
      "text/plain": [
       "SVR(C=1000, cache_size=200, coef0=0.0, degree=3, epsilon=0.1, gamma=1e-09,\n",
       "  kernel='rbf', max_iter=-1, shrinking=True, tol=0.001, verbose=False)"
      ]
     },
     "execution_count": 17,
     "metadata": {},
     "output_type": "execute_result"
    }
   ],
   "source": [
    "from sklearn.svm import SVR\n",
    "grid_5 = GridSearchCV(SVR(kernel='rbf'),\n",
    "                   param_grid={\"C\": [0.001, 0.01, 0.1, 1, 10, 100, 1000],\n",
    "                               \"gamma\": [0.0000000001, 0.000000001,  0.00000001, 0.0000001, 0.000001, 0.00001, 0.0001, 0.001, 0.01, 0.1, 1, 10, 100, 1000]},\n",
    "                    cv=kfold,\n",
    "                    refit=True)\n",
    "grid_5.fit(X_train, y_train)\n",
    "print(grid_5.best_params_)\n",
    "grid_5.best_estimator_"
   ]
  },
  {
   "cell_type": "code",
   "execution_count": 18,
   "metadata": {},
   "outputs": [
    {
     "name": "stdout",
     "output_type": "stream",
     "text": [
      "{'max_depth': 400, 'max_features': 'auto', 'n_estimators': 150}\n"
     ]
    },
    {
     "data": {
      "text/plain": [
       "RandomForestRegressor(bootstrap=True, criterion='mse', max_depth=400,\n",
       "           max_features='auto', max_leaf_nodes=None,\n",
       "           min_impurity_decrease=0.0, min_impurity_split=None,\n",
       "           min_samples_leaf=1, min_samples_split=2,\n",
       "           min_weight_fraction_leaf=0.0, n_estimators=150, n_jobs=-1,\n",
       "           oob_score=True, random_state=None, verbose=0, warm_start=False)"
      ]
     },
     "execution_count": 18,
     "metadata": {},
     "output_type": "execute_result"
    }
   ],
   "source": [
    "from sklearn.ensemble import RandomForestRegressor\n",
    "\n",
    "grid_6 = GridSearchCV(RandomForestRegressor(n_jobs=-1, max_features= 'sqrt', n_estimators=50, oob_score = True),\n",
    "                   param_grid={\n",
    "                   'n_estimators': [150, 300, 400],\n",
    "                    'max_features': ['auto', 'sqrt', 'log2'],  \n",
    "                    'max_depth': [ 400, 500, 600]\n",
    "                   },\n",
    "                    cv=kfold,\n",
    "                    refit=True)\n",
    "grid_6.fit(X_train, y_train)\n",
    "print(grid_6.best_params_)\n",
    "grid_6.best_estimator_\n"
   ]
  },
  {
   "cell_type": "code",
   "execution_count": 19,
   "metadata": {},
   "outputs": [
    {
     "name": "stdout",
     "output_type": "stream",
     "text": [
      "{'activation': 'relu', 'alpha': 10, 'hidden_layer_sizes': (100, 100, 100)}\n"
     ]
    },
    {
     "data": {
      "text/plain": [
       "MLPRegressor(activation='relu', alpha=10, batch_size='auto', beta_1=0.9,\n",
       "       beta_2=0.999, early_stopping=False, epsilon=1e-08,\n",
       "       hidden_layer_sizes=(100, 100, 100), learning_rate='constant',\n",
       "       learning_rate_init=0.001, max_iter=200, momentum=0.9,\n",
       "       nesterovs_momentum=True, power_t=0.5, random_state=None,\n",
       "       shuffle=True, solver='adam', tol=0.0001, validation_fraction=0.1,\n",
       "       verbose=False, warm_start=False)"
      ]
     },
     "execution_count": 19,
     "metadata": {},
     "output_type": "execute_result"
    }
   ],
   "source": [
    "grid_7 = GridSearchCV(MLPRegressor(hidden_layer_sizes=(100,100,100),activation='tanh',alpha=0.0001),#model powinien byc zainicjalizowany\n",
    "                    param_grid={'hidden_layer_sizes': [(100,100,100)],\n",
    "                                'alpha': [10],\n",
    "                               'activation': ['relu']                               \n",
    "                               },#parametry do podstawienia\n",
    "                    cv=kfold,#na ile czesci ma dzielic zbior\n",
    "                    n_jobs=2,\n",
    "                    refit=True)\n",
    "grid_7.fit(X_train, y_train)\n",
    "print(grid_7.best_params_)\n",
    "grid_7.best_estimator_"
   ]
  },
  {
   "cell_type": "code",
   "execution_count": 20,
   "metadata": {},
   "outputs": [
    {
     "name": "stdout",
     "output_type": "stream",
     "text": [
      "ElasticNet\n",
      "R^2: 0.659190293506783\n",
      "Explained variance score: 0.6594268037959594\n",
      "Median absolute error: 1892.123080334517\n",
      "Mean squared error: 4185332.616256864\n",
      "Mean absolute errors: 1762.4201093450788\n",
      "Lasso\n",
      "R^2: 0.6591906909939487\n",
      "Explained variance score: 0.6594272051947039\n",
      "Median absolute error: 1892.1232070095866\n",
      "Mean squared error: 4185327.7348935497\n",
      "Mean absolute errors: 1762.4187204184584\n",
      "Ridge\n",
      "R^2: 0.6510358106372438\n",
      "Explained variance score: 0.6682345372596076\n",
      "Median absolute error: 1627.954684720311\n",
      "Mean squared error: 4285474.198120142\n",
      "Mean absolute errors: 1659.140217013772\n",
      "LR\n",
      "R^2: 0.651035795061021\n",
      "Explained variance score: 0.6682345247670628\n",
      "Median absolute error: 1627.9546637906842\n",
      "Mean squared error: 4285474.389404815\n",
      "Mean absolute errors: 1659.1402530563573\n",
      "SVR\n",
      "R^2: 0.43530423126318496\n",
      "Explained variance score: 0.5538657119084455\n",
      "Median absolute error: 1706.8571447966096\n",
      "Mean squared error: 6934777.895486595\n",
      "Mean absolute errors: 2156.0264302037417\n",
      "RFR\n",
      "R^2: 0.7497593664978341\n",
      "Explained variance score: 0.7528704777481756\n",
      "Median absolute error: 1050.7800000000007\n",
      "Mean squared error: 3073094.062038517\n",
      "Mean absolute errors: 1423.0613333333329\n",
      "MLP_R\n",
      "R^2: -1.6394182851049122\n",
      "Explained variance score: 0.28936091006263265\n",
      "Median absolute error: 4836.278066128189\n",
      "Mean squared error: 32413523.518040437\n",
      "Mean absolute errors: 5013.106430062584\n"
     ]
    }
   ],
   "source": [
    "from sklearn import  metrics\n",
    "\n",
    "\n",
    "models = []\n",
    "models.append(('ElasticNet', grid_1.best_estimator_))\n",
    "models.append(('Lasso', grid_2.best_estimator_))\n",
    "models.append(('Ridge', grid_3.best_estimator_))\n",
    "models.append(('LR', grid_4.best_estimator_))\n",
    "models.append(('SVR', grid_5.best_estimator_))\n",
    "models.append(('RFR', grid_6.best_estimator_))\n",
    "models.append(('MLP_R', grid_7.best_estimator_))\n",
    "\n",
    "r2 = []\n",
    "explained_variance_score = []\n",
    "median_absolute_error = []\n",
    "mean_squared_error = []\n",
    "mean_absolute_error = []\n",
    "for name, model in models:\n",
    "    print(name)\n",
    "    print(\"R^2: {}\".format(metrics.r2_score(y_test, model.predict(X_test)) ))\n",
    "    print(\"Explained variance score: {}\".format( metrics.explained_variance_score(y_test, model.predict(X_test)) ))\n",
    "    print(\"Median absolute error: {}\".format( metrics.median_absolute_error(y_test, model.predict(X_test)) ))\n",
    "    print(\"Mean squared error: {}\".format( metrics.mean_squared_error(y_test, model.predict(X_test)) ))\n",
    "    print(\"Mean absolute errors: {}\".format(metrics.mean_absolute_error(y_test, model.predict(X_test)) ))\n",
    "    r2.append(metrics.r2_score(y_test, model.predict(X_test)))\n",
    "    explained_variance_score.append(metrics.explained_variance_score(y_test, model.predict(X_test)))\n",
    "    median_absolute_error.append( metrics.median_absolute_error(y_test, model.predict(X_test)))\n",
    "    mean_squared_error.append(metrics.mean_squared_error(y_test, model.predict(X_test)))\n",
    "    mean_absolute_error.append(metrics.mean_absolute_error(y_test, model.predict(X_test)))"
   ]
  },
  {
   "cell_type": "code",
   "execution_count": 21,
   "metadata": {},
   "outputs": [
    {
     "data": {
      "text/html": [
       "<div>\n",
       "<style>\n",
       "    .dataframe thead tr:only-child th {\n",
       "        text-align: right;\n",
       "    }\n",
       "\n",
       "    .dataframe thead th {\n",
       "        text-align: left;\n",
       "    }\n",
       "\n",
       "    .dataframe tbody tr th {\n",
       "        vertical-align: top;\n",
       "    }\n",
       "</style>\n",
       "<table border=\"1\" class=\"dataframe\">\n",
       "  <thead>\n",
       "    <tr style=\"text-align: right;\">\n",
       "      <th></th>\n",
       "      <th>Method</th>\n",
       "      <th>explained_variance_score</th>\n",
       "      <th>mean_absolute_error</th>\n",
       "      <th>mean_squared_error</th>\n",
       "      <th>median_absolute_error</th>\n",
       "      <th>r2</th>\n",
       "    </tr>\n",
       "  </thead>\n",
       "  <tbody>\n",
       "    <tr>\n",
       "      <th>0</th>\n",
       "      <td>ElasticNet</td>\n",
       "      <td>0.659427</td>\n",
       "      <td>1762.420109</td>\n",
       "      <td>4.185333e+06</td>\n",
       "      <td>1892.123080</td>\n",
       "      <td>0.659190</td>\n",
       "    </tr>\n",
       "    <tr>\n",
       "      <th>1</th>\n",
       "      <td>Lasso</td>\n",
       "      <td>0.659427</td>\n",
       "      <td>1762.418720</td>\n",
       "      <td>4.185328e+06</td>\n",
       "      <td>1892.123207</td>\n",
       "      <td>0.659191</td>\n",
       "    </tr>\n",
       "    <tr>\n",
       "      <th>2</th>\n",
       "      <td>Ridge</td>\n",
       "      <td>0.668235</td>\n",
       "      <td>1659.140217</td>\n",
       "      <td>4.285474e+06</td>\n",
       "      <td>1627.954685</td>\n",
       "      <td>0.651036</td>\n",
       "    </tr>\n",
       "    <tr>\n",
       "      <th>3</th>\n",
       "      <td>LR</td>\n",
       "      <td>0.668235</td>\n",
       "      <td>1659.140253</td>\n",
       "      <td>4.285474e+06</td>\n",
       "      <td>1627.954664</td>\n",
       "      <td>0.651036</td>\n",
       "    </tr>\n",
       "    <tr>\n",
       "      <th>4</th>\n",
       "      <td>SVR</td>\n",
       "      <td>0.553866</td>\n",
       "      <td>2156.026430</td>\n",
       "      <td>6.934778e+06</td>\n",
       "      <td>1706.857145</td>\n",
       "      <td>0.435304</td>\n",
       "    </tr>\n",
       "    <tr>\n",
       "      <th>5</th>\n",
       "      <td>RFR</td>\n",
       "      <td>0.752870</td>\n",
       "      <td>1423.061333</td>\n",
       "      <td>3.073094e+06</td>\n",
       "      <td>1050.780000</td>\n",
       "      <td>0.749759</td>\n",
       "    </tr>\n",
       "    <tr>\n",
       "      <th>6</th>\n",
       "      <td>MLP_R</td>\n",
       "      <td>0.289361</td>\n",
       "      <td>5013.106430</td>\n",
       "      <td>3.241352e+07</td>\n",
       "      <td>4836.278066</td>\n",
       "      <td>-1.639418</td>\n",
       "    </tr>\n",
       "  </tbody>\n",
       "</table>\n",
       "</div>"
      ],
      "text/plain": [
       "       Method  explained_variance_score  mean_absolute_error  \\\n",
       "0  ElasticNet                  0.659427          1762.420109   \n",
       "1       Lasso                  0.659427          1762.418720   \n",
       "2       Ridge                  0.668235          1659.140217   \n",
       "3          LR                  0.668235          1659.140253   \n",
       "4         SVR                  0.553866          2156.026430   \n",
       "5         RFR                  0.752870          1423.061333   \n",
       "6       MLP_R                  0.289361          5013.106430   \n",
       "\n",
       "   mean_squared_error  median_absolute_error        r2  \n",
       "0        4.185333e+06            1892.123080  0.659190  \n",
       "1        4.185328e+06            1892.123207  0.659191  \n",
       "2        4.285474e+06            1627.954685  0.651036  \n",
       "3        4.285474e+06            1627.954664  0.651036  \n",
       "4        6.934778e+06            1706.857145  0.435304  \n",
       "5        3.073094e+06            1050.780000  0.749759  \n",
       "6        3.241352e+07            4836.278066 -1.639418  "
      ]
     },
     "execution_count": 21,
     "metadata": {},
     "output_type": "execute_result"
    }
   ],
   "source": [
    "import pandas as pd\n",
    "d = {'r2': r2, \n",
    "     'explained_variance_score': explained_variance_score, \n",
    "     'median_absolute_error': median_absolute_error,\n",
    "     'mean_squared_error' : mean_squared_error,\n",
    "     'mean_absolute_error' : mean_absolute_error,\n",
    "    }\n",
    "df = pd.DataFrame(data=d)\n",
    "df.insert(loc=0, column='Method', value=['ElasticNet','Lasso', 'Ridge','LR','SVR','RFR','MLP_R'])\n",
    "df"
   ]
  },
  {
   "cell_type": "code",
   "execution_count": 22,
   "metadata": {},
   "outputs": [
    {
     "data": {
      "text/plain": [
       "108"
      ]
     },
     "execution_count": 22,
     "metadata": {},
     "output_type": "execute_result"
    }
   ],
   "source": [
    "# X = series.values\n",
    "# train, test = X[0:-12], X[-12:]\n",
    "train = series\n",
    "test = test_series\n",
    "# X = series_row\n",
    "series_row.shape[0]"
   ]
  },
  {
   "cell_type": "code",
   "execution_count": 23,
   "metadata": {},
   "outputs": [
    {
     "data": {
      "text/plain": [
       "<Figure size 720x432 with 0 Axes>"
      ]
     },
     "metadata": {},
     "output_type": "display_data"
    },
    {
     "data": {
      "image/png": "[encoded data removed]",
      "text/plain": [
       "<Figure size 1008x720 with 1 Axes>"
      ]
     },
     "metadata": {},
     "output_type": "display_data"
    }
   ],
   "source": [
    "size=15\n",
    "\n",
    "plt.figure(figsize=(14,10))\n",
    "plt.plot(series,'k-')\n",
    "data = np.zeros(series_row_np.shape[0], dtype=float)\n",
    "data.fill(np.nan)\n",
    "data[-21:] = series_row.values[-21:]\n",
    "plt.plot(data, 'k--')\n",
    "\n",
    "all_data = []\n",
    "for name, model in models: \n",
    "    data = np.zeros(series_row_np.shape[0], dtype=float)\n",
    "    data.fill(np.nan)\n",
    "    for i in range(1,20):\n",
    "        point = np.array([series_row_np[ (series_row_np.shape[0]-((size+1*i))):(series_row_np.shape[0]-(1*i))]])\n",
    "        pre=model.predict(point)\n",
    "        \n",
    "        data[-i]=pre\n",
    "    all_data.append(data)\n",
    "    plt.plot( data , label=name)\n",
    "    plt.legend(loc='best')\n",
    "plt.show()"
   ]
  },
  {
   "cell_type": "code",
   "execution_count": null,
   "metadata": {
    "collapsed": true
   },
   "outputs": [],
   "source": []
  },
  {
   "cell_type": "code",
   "execution_count": null,
   "metadata": {
    "collapsed": true
   },
   "outputs": [],
   "source": []
  }
 ],
 "metadata": {
  "kernelspec": {
   "display_name": "Python 3",
   "language": "python",
   "name": "python3"
  },
  "language_info": {
   "codemirror_mode": {
    "name": "ipython",
    "version": 3
   },
   "file_extension": ".py",
   "mimetype": "text/x-python",
   "name": "python",
   "nbconvert_exporter": "python",
   "pygments_lexer": "ipython3",
   "version": "3.8.5"
  }
 },
 "nbformat": 4,
 "nbformat_minor": 2
}
